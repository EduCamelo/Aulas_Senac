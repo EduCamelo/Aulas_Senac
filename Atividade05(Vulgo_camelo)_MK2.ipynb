{
  "nbformat": 4,
  "nbformat_minor": 0,
  "metadata": {
    "colab": {
      "provenance": [],
      "collapsed_sections": [],
      "authorship_tag": "ABX9TyMUFviixRl57LRX6zA8qYvS",
      "include_colab_link": true
    },
    "kernelspec": {
      "name": "python3",
      "display_name": "Python 3"
    },
    "language_info": {
      "name": "python"
    }
  },
  "cells": [
    {
      "cell_type": "markdown",
      "metadata": {
        "id": "view-in-github",
        "colab_type": "text"
      },
      "source": [
        "<a href=\"https://colab.research.google.com/github/EduCamelo/Aulas_Senac/blob/main/Atividade05(Vulgo_camelo)_MK2.ipynb\" target=\"_parent\"><img src=\"https://colab.research.google.com/assets/colab-badge.svg\" alt=\"Open In Colab\"/></a>"
      ]
    },
    {
      "cell_type": "code",
      "execution_count": 63,
      "metadata": {
        "id": "ONKBJd6HOZP1"
      },
      "outputs": [],
      "source": [
        "#https://www.youtube.com/watch?v=I-RgNNaF8rw (ao som de ela partiu)\n",
        "class Pessoa(): # Classe Mãe\n",
        "  def __init__(self, name, age):\n",
        "    self.nome = name\n",
        "    self.idade = age\n",
        "    print('Bem-vindo ao senac,', name,'!')\n",
        "  \n",
        "  def getsalario(self,rate):\n",
        "    fee = (salario * rate)\n",
        "    self.fee = fee\n",
        "  \n",
        "  def getsalarioempresa(self,rate):\n",
        "    self.getsalario(rate)\n",
        "    print('A taxa sobre seu imposto de renda é: R$', self.fee)\n",
        "    \n",
        "class PF(Pessoa): # Classe filha (Pessoa fisíca)\n",
        "  \n",
        "  def __init__(self, name, age, CPF): #Definição doq ela precisa\n",
        "    super().__init__(name, age)\n",
        "    self.CPF = CPF\n",
        "    print('Pessoa física cadastrada')\n",
        "  \n",
        "  def impostoDeRenda(self, rate): # Função para calcular o imposto de renda\n",
        "    self.getsalario(0.015)\n",
        "    print('A taxa sobre seu imposto de renda do', y,'° salário é: R$', self.fee)\n",
        "\n",
        "class PJ(Pessoa): # Classe filha (Pessoa jurídica)\n",
        "  \n",
        "  def __init__(self, name, age, CNPJ, porte): #Definição doq ela precisa\n",
        "    super().__init__(name, age)\n",
        "    self.CNPJ = CNPJ\n",
        "    self.porte = porte\n",
        "    print('Pessoa jurídica criada')\n",
        "\n",
        "  def impostoDeRenda(self): # Função para calcular o imposto de renda\n",
        "    if (porte == 'pequeno') or (porte == '1'):\n",
        "      self.getsalarioempresa(0.1)      \n",
        "    elif (porte == 'medio') or (porte == '2') or (porte == 'médio'):\n",
        "      self.getsalarioempresa(0.15)\n",
        "    elif (porte == 'grande') or (porte == '3'):\n",
        "      self.getsalarioempresa(0.2)"
      ]
    },
    {
      "cell_type": "code",
      "source": [
        "#Corte para eu não ficar louco da cabeça\n",
        "nome = input('Digite seu nome: ').title()\n",
        "idade = input('Digite sua idade: ')\n",
        "tp = input('Digite PF ou 1 para fazer um cadastro para Pessoa fisica,\\nou digite PJ ou 2 para pessoa juridica: ').upper() #Separação do tipo da conta\n",
        "\n",
        "\n",
        "if (tp == 'PF') or (tp == '1'): #Se a pessoa for fisíca faça isso\n",
        "  CPF = int(input('Digite seu CPF: '))\n",
        "  pessoa = PF(nome, idade, CPF)\n",
        "  y = int(input(\"Quantos salários você tem? \"))\n",
        "  for x in range(y): #Se a pessoa tiver mais de 1 salário\n",
        "    salario = float(input('Digite seu salário: R$'))\n",
        "    pessoa.impostoDeRenda(0.015)\n",
        "\n",
        "\n",
        "\n",
        "elif (tp == 'PJ') or (tp == '2'): #Se for pessoa jurídica faça isso\n",
        "  CNPJ = int(input('Digite seu CNPJ: '))\n",
        "  print(\"Digite 1 ou pequeno, 2 ou médio, 3 ou grande.\")\n",
        "  porte = input(\"Digite o porte da sua empresa: \").lower()\n",
        "  pessoa = PJ(nome , idade , CNPJ, porte)\n",
        "  salario = float(input(\"Digite receita: R$\"))\n",
        "  pessoa.impostoDeRenda()\n",
        "\n",
        "\n",
        "else:\n",
        "  print('Por favor escolha uma das duas opções.')"
      ],
      "metadata": {
        "id": "a1dwUltTTLI7",
        "colab": {
          "base_uri": "https://localhost:8080/"
        },
        "outputId": "b2d2c5a7-5b79-4bbc-f7da-40b29cbb273f"
      },
      "execution_count": 64,
      "outputs": [
        {
          "output_type": "stream",
          "name": "stdout",
          "text": [
            "Digite seu nome: Eduardo\n",
            "Digite sua idade: 18\n",
            "Digite PF ou 1 para fazer um cadastro para Pessoa fisica,\n",
            "ou digite PJ ou 2 para pessoa juridica: pj\n",
            "Digite seu CNPJ: 1000\n",
            "Digite 1 ou pequeno, 2 ou médio, 3 ou grande.\n",
            "Digite o porte da sua empresa: 1\n",
            "Bem-vindo ao senac, Eduardo !\n",
            "Pessoa jurídica criada\n",
            "Digite receita: R$10000\n",
            "A taxa sobre seu imposto de renda é: R$ 1000.0\n"
          ]
        }
      ]
    }
  ]
}