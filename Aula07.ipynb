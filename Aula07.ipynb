{
  "nbformat": 4,
  "nbformat_minor": 0,
  "metadata": {
    "colab": {
      "provenance": [],
      "authorship_tag": "ABX9TyMFhETedfnm6zSxparpOy7D",
      "include_colab_link": true
    },
    "kernelspec": {
      "name": "python3",
      "display_name": "Python 3"
    },
    "language_info": {
      "name": "python"
    }
  },
  "cells": [
    {
      "cell_type": "markdown",
      "metadata": {
        "id": "view-in-github",
        "colab_type": "text"
      },
      "source": [
        "<a href=\"https://colab.research.google.com/github/EduCamelo/Aulas_Senac/blob/main/Aula07.ipynb\" target=\"_parent\"><img src=\"https://colab.research.google.com/assets/colab-badge.svg\" alt=\"Open In Colab\"/></a>"
      ]
    },
    {
      "cell_type": "code",
      "execution_count": 49,
      "metadata": {
        "id": "XYyK_TAY8KTy"
      },
      "outputs": [],
      "source": [
        "def ex2(x):\n",
        "  z = []  \n",
        "  for i in range(1, x+1):\n",
        "    z.append(i)\n",
        "    print(z)"
      ]
    },
    {
      "cell_type": "code",
      "source": [
        "obj1 = ex2(int(input()))"
      ],
      "metadata": {
        "colab": {
          "base_uri": "https://localhost:8080/"
        },
        "id": "zykNasV7M9Og",
        "outputId": "566cc4ec-de85-40cd-ddb2-add45c246607"
      },
      "execution_count": 50,
      "outputs": [
        {
          "output_type": "stream",
          "name": "stdout",
          "text": [
            "10\n",
            "[1]\n",
            "[1, 2]\n",
            "[1, 2, 3]\n",
            "[1, 2, 3, 4]\n",
            "[1, 2, 3, 4, 5]\n",
            "[1, 2, 3, 4, 5, 6]\n",
            "[1, 2, 3, 4, 5, 6, 7]\n",
            "[1, 2, 3, 4, 5, 6, 7, 8]\n",
            "[1, 2, 3, 4, 5, 6, 7, 8, 9]\n",
            "[1, 2, 3, 4, 5, 6, 7, 8, 9, 10]\n"
          ]
        }
      ]
    },
    {
      "cell_type": "code",
      "source": [
        "def ex2(x):\n",
        "  for i in range(1, x+1):\n",
        "    print((str(i)+' ')*i)"
      ],
      "metadata": {
        "id": "jC9QLroQOnxs"
      },
      "execution_count": 30,
      "outputs": []
    },
    {
      "cell_type": "code",
      "source": [
        "#Att03\n",
        "def ex3(x , y , z):\n",
        "  a = x + y + z \n",
        "  print('A soma deles vai ser igual a: ', a)"
      ],
      "metadata": {
        "id": "49HrDYToTlYA"
      },
      "execution_count": 52,
      "outputs": []
    },
    {
      "cell_type": "code",
      "source": [
        "obj1 = ex3(int(input()), int(input()), int(input()))"
      ],
      "metadata": {
        "colab": {
          "base_uri": "https://localhost:8080/"
        },
        "id": "n2j4qzYwT24R",
        "outputId": "19377084-fa5a-4784-dfb2-276bed742062"
      },
      "execution_count": 53,
      "outputs": [
        {
          "output_type": "stream",
          "name": "stdout",
          "text": [
            "12\n",
            "10\n",
            "22\n",
            "A soma deles vai ser igual a:  44\n"
          ]
        }
      ]
    },
    {
      "cell_type": "code",
      "source": [
        "#Att04\n",
        "def ex4(x):\n",
        "  if x > 0:\n",
        "    print('P')\n",
        "  else:\n",
        "    print('N')"
      ],
      "metadata": {
        "id": "DuOYsS0MUDk5"
      },
      "execution_count": 57,
      "outputs": []
    },
    {
      "cell_type": "code",
      "source": [
        "obj1 = ex4(float(input()))"
      ],
      "metadata": {
        "colab": {
          "base_uri": "https://localhost:8080/"
        },
        "id": "JdJ0w4mrUZiK",
        "outputId": "d1285fc7-9d25-4ab5-d577-c4b6777b9d14"
      },
      "execution_count": 61,
      "outputs": [
        {
          "output_type": "stream",
          "name": "stdout",
          "text": [
            "200.0123\n",
            "P\n"
          ]
        }
      ]
    },
    {
      "cell_type": "code",
      "source": [
        "#Att05\n",
        "def somaImposto(taxaImposto, custo):\n",
        "  taxaImposto = taxaImposto / 100\n",
        "  custo = custo + (custo * taxaImposto)\n",
        "  print('O custo do seu produto com a taxa do imposto é: R$', custo)\n"
      ],
      "metadata": {
        "id": "JXTTN-W8ZkcK"
      },
      "execution_count": 72,
      "outputs": []
    },
    {
      "cell_type": "code",
      "source": [
        "obj1 = somaImposto(float(input('Digite a taxa do imposto: ')), float(input('Digite o custo do seu produto: R$')))"
      ],
      "metadata": {
        "colab": {
          "base_uri": "https://localhost:8080/"
        },
        "id": "xK6uCgvjaQmx",
        "outputId": "34f63e71-479d-41d8-9973-c6b04c4dad40"
      },
      "execution_count": 75,
      "outputs": [
        {
          "output_type": "stream",
          "name": "stdout",
          "text": [
            "Digite a taxa do imposto: %100\n",
            "Digite o custo do seu produto: R$100\n",
            "O custo do seu produto com a taxa do imposto é: R$ 200.0\n"
          ]
        }
      ]
    },
    {
      "cell_type": "code",
      "source": [
        "#Att09\n",
        "def reverse(x):\n",
        "  print(x[-1:-(len(x)+1):-1])"
      ],
      "metadata": {
        "id": "W7k75WItdlQF"
      },
      "execution_count": 85,
      "outputs": []
    },
    {
      "cell_type": "code",
      "source": [
        "obj1 = reverse(input('Digite um número: '))"
      ],
      "metadata": {
        "colab": {
          "base_uri": "https://localhost:8080/"
        },
        "id": "cDBZmybeeCQ_",
        "outputId": "974ad399-dcb4-4678-c216-2ab0ff8dd3f9"
      },
      "execution_count": 87,
      "outputs": [
        {
          "output_type": "stream",
          "name": "stdout",
          "text": [
            "Digite um número: 100\n",
            "001\n"
          ]
        }
      ]
    }
  ]
}