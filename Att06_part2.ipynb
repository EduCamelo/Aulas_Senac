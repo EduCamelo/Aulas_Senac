{
  "nbformat": 4,
  "nbformat_minor": 0,
  "metadata": {
    "colab": {
      "provenance": [],
      "authorship_tag": "ABX9TyOQsRLVNA0qbG/S5Lj9CCJb",
      "include_colab_link": true
    },
    "kernelspec": {
      "name": "python3",
      "display_name": "Python 3"
    },
    "language_info": {
      "name": "python"
    }
  },
  "cells": [
    {
      "cell_type": "markdown",
      "metadata": {
        "id": "view-in-github",
        "colab_type": "text"
      },
      "source": [
        "<a href=\"https://colab.research.google.com/github/EduCamelo/Aulas_Senac/blob/main/Att06_part2.ipynb\" target=\"_parent\"><img src=\"https://colab.research.google.com/assets/colab-badge.svg\" alt=\"Open In Colab\"/></a>"
      ]
    },
    {
      "cell_type": "code",
      "execution_count": 4,
      "metadata": {
        "id": "qeQ_twwXbxhb"
      },
      "outputs": [],
      "source": [
        "def funcaoLeitura():\n",
        "  for i in range(5):\n",
        "    print(\"Número \", i)"
      ]
    },
    {
      "cell_type": "code",
      "source": [
        "funcaoLeitura()"
      ],
      "metadata": {
        "colab": {
          "base_uri": "https://localhost:8080/"
        },
        "id": "aTiIFocxcO0M",
        "outputId": "3651e928-bfcf-4410-bf85-c7ef8407578b"
      },
      "execution_count": 5,
      "outputs": [
        {
          "output_type": "stream",
          "name": "stdout",
          "text": [
            "Número  0\n",
            "Número  1\n",
            "Número  2\n",
            "Número  3\n",
            "Número  4\n"
          ]
        }
      ]
    },
    {
      "cell_type": "code",
      "source": [
        "def addNum(n1, n2):\n",
        "  print(\"O primeiro número é: \", n1)\n",
        "  print(\"O segundo número é: \", n2)\n",
        "  print(\"A soma número é: \", n1+n2)"
      ],
      "metadata": {
        "id": "qCL-sfCgb2PV"
      },
      "execution_count": 6,
      "outputs": []
    },
    {
      "cell_type": "code",
      "source": [
        "addNum(45, 6)"
      ],
      "metadata": {
        "colab": {
          "base_uri": "https://localhost:8080/"
        },
        "id": "xz9V50hvcSo7",
        "outputId": "fa7e130f-3720-4db8-af46-2b1f60bcb360"
      },
      "execution_count": 7,
      "outputs": [
        {
          "output_type": "stream",
          "name": "stdout",
          "text": [
            "O primeiro número é:  45\n",
            "O segundo número é:  6\n",
            "A soma número é:  51\n"
          ]
        }
      ]
    },
    {
      "cell_type": "code",
      "source": [
        "varGlobal = 10 #essa é uma variável global\n",
        "def multiplicacao(num1, num2):\n",
        "  varGlobal = (num1 * num2) #essa é uma variável local\n",
        "  print(\"Variável da função Multiplica: \", varGlobal)\n",
        "multiplicacao(5, 4)\n",
        "print(varGlobal)"
      ],
      "metadata": {
        "colab": {
          "base_uri": "https://localhost:8080/"
        },
        "id": "t82tsUoRcWuc",
        "outputId": "89154cfa-4052-4171-f168-24d8b0c13bcf"
      },
      "execution_count": 8,
      "outputs": [
        {
          "output_type": "stream",
          "name": "stdout",
          "text": [
            "Variável da função Multiplica:  20\n",
            "10\n"
          ]
        }
      ]
    },
    {
      "cell_type": "code",
      "source": [
        "varGlobal = 10 #essa é uma variável global\n",
        "def multiplica(num1, num2):\n",
        "  varLocal = num1 * num2 #essa é uma variável local\n",
        "  print(\"Variável da função Multiplica: \", varLocal) \n",
        "multiplica(5, 4)"
      ],
      "metadata": {
        "colab": {
          "base_uri": "https://localhost:8080/"
        },
        "id": "2BD4IgD_cdej",
        "outputId": "b3f93dfa-a670-4e65-f852-16866f97b898"
      },
      "execution_count": 11,
      "outputs": [
        {
          "output_type": "stream",
          "name": "stdout",
          "text": [
            "Variável da função Multiplica:  20\n"
          ]
        }
      ]
    },
    {
      "cell_type": "code",
      "source": [
        "print(varLocal)"
      ],
      "metadata": {
        "id": "oIAnMrWsceuD"
      },
      "execution_count": null,
      "outputs": []
    },
    {
      "cell_type": "code",
      "source": [
        "for i in range(5): print(i)"
      ],
      "metadata": {
        "colab": {
          "base_uri": "https://localhost:8080/"
        },
        "id": "1uytjo-sc5Zj",
        "outputId": "98adee03-9d0f-4bc8-c50b-5c023f34f959"
      },
      "execution_count": 14,
      "outputs": [
        {
          "output_type": "stream",
          "name": "stdout",
          "text": [
            "0\n",
            "1\n",
            "2\n",
            "3\n",
            "4\n"
          ]
        }
      ]
    },
    {
      "cell_type": "code",
      "source": [
        "def separarTexto(texto): return texto.split()\n",
        "token = separarTexto(\"Cibele Maria\")\n",
        "print(token)"
      ],
      "metadata": {
        "colab": {
          "base_uri": "https://localhost:8080/"
        },
        "id": "2grixCS3c9GM",
        "outputId": "bbdaaa69-8cda-4b3a-e044-275e5b9e2639"
      },
      "execution_count": 15,
      "outputs": [
        {
          "output_type": "stream",
          "name": "stdout",
          "text": [
            "['Cibele', 'Maria']\n"
          ]
        }
      ]
    },
    {
      "cell_type": "code",
      "source": [
        "#Quando não sabemos a quantidade de parâmetros basta usar o * no parâmetro\n",
        "def variosParametros(*parametros):\n",
        "  for n, item in enumerate(parametros):\n",
        "    print(\"O parâmetro %d é: \" %(n), item)\n",
        "  return; "
      ],
      "metadata": {
        "id": "sea0BTmVdDnF"
      },
      "execution_count": 17,
      "outputs": []
    },
    {
      "cell_type": "code",
      "source": [
        "variosParametros(\"pitomba\", \"jambo\", \"siriguela\", \"umbu\")"
      ],
      "metadata": {
        "colab": {
          "base_uri": "https://localhost:8080/"
        },
        "id": "-aZF9ruRdOAt",
        "outputId": "ccc60483-0887-446e-c830-6c82bbca192a"
      },
      "execution_count": 18,
      "outputs": [
        {
          "output_type": "stream",
          "name": "stdout",
          "text": [
            "O parâmetro 0 é:  pitomba\n",
            "O parâmetro 1 é:  jambo\n",
            "O parâmetro 2 é:  siriguela\n",
            "O parâmetro 3 é:  umbu\n"
          ]
        }
      ]
    },
    {
      "cell_type": "code",
      "source": [
        "import math\n",
        "def numPrimo(num):\n",
        "  #verificando se um número é primo\n",
        "  if (num%2) == 0 and num>2:\n",
        "    return (\"Este número não é primo\")\n",
        "  for i in range(3, int(math.sqrt(num)) + 1, 2):\n",
        "    if (num % i) == 0:\n",
        "      return (\"Este numero não é primo\")\n",
        "  return (\"Este número é primo!\")\n",
        "numPrimo(47)"
      ],
      "metadata": {
        "colab": {
          "base_uri": "https://localhost:8080/",
          "height": 36
        },
        "id": "euKAoFyVdP1F",
        "outputId": "516a8744-fde0-4c93-eb2c-05eba78153dc"
      },
      "execution_count": 23,
      "outputs": [
        {
          "output_type": "execute_result",
          "data": {
            "text/plain": [
              "'Este número é primo!'"
            ],
            "application/vnd.google.colaboratory.intrinsic+json": {
              "type": "string"
            }
          },
          "metadata": {},
          "execution_count": 23
        }
      ]
    },
    {
      "cell_type": "code",
      "source": [
        "def soma(n1, n2):\n",
        "  return n1+n2\n",
        "def subtrai(n1, n2):\n",
        "  return n1-n2\n",
        "def multiplica(n1, n2):\n",
        "  return n1*n2\n",
        "def divide(n1,n2):\n",
        "  return n1/n2"
      ],
      "metadata": {
        "id": "7-WAFmAoda9r"
      },
      "execution_count": 24,
      "outputs": []
    },
    {
      "cell_type": "code",
      "source": [
        "while True:\n",
        "  print(\"+==================+\")\n",
        "  print(\"| MENU DE OPERAÇÕES\")\n",
        "  print(\"| 1 - somar \")\n",
        "  print(\"| 2 - subtrair \")\n",
        "  print(\"| 3 - multiplicar \")\n",
        "  print(\"| 4 - dividir \")\n",
        "  print(\"| 0 - sair \")\n",
        "  print(\"+==================+\")\n",
        "  op = int(input())\n",
        "  if op==0:break\n",
        "\n",
        "  n1 = int(input(\"Primeiro número: \"))\n",
        "  n2 = int(input(\"Segundo número: \"))\n",
        "  if op==1:\n",
        "    print(\"O resultado da soma é: \", soma(n1, n2))\n",
        "  elif op==2:\n",
        "    print(\"O resultado da subtração é: \", subtrai(n1,n2))\n",
        "  elif op==3:\n",
        "    print(\"O resultado da multiplicação é: \", multiplica(n1,n2))\n",
        "  elif op==4:\n",
        "    print(\"O resultado da divisão é: \", divide(n1,n2))"
      ],
      "metadata": {
        "colab": {
          "base_uri": "https://localhost:8080/"
        },
        "id": "kV7qQJxYdyz9",
        "outputId": "37202dca-b5d0-4313-e6e8-acdbc2d86827"
      },
      "execution_count": 26,
      "outputs": [
        {
          "name": "stdout",
          "output_type": "stream",
          "text": [
            "+==================+\n",
            "| MENU DE OPERAÇÕES\n",
            "| 1 - somar \n",
            "| 2 - subtrair \n",
            "| 3 - multiplicar \n",
            "| 4 - dividir \n",
            "| 0 - sair \n",
            "+==================+\n",
            "1\n",
            "Primeiro número: 123\n",
            "Segundo número: 123\n",
            "O resultado da soma é:  246\n",
            "+==================+\n",
            "| MENU DE OPERAÇÕES\n",
            "| 1 - somar \n",
            "| 2 - subtrair \n",
            "| 3 - multiplicar \n",
            "| 4 - dividir \n",
            "| 0 - sair \n",
            "+==================+\n",
            "0\n"
          ]
        }
      ]
    },
    {
      "cell_type": "code",
      "source": [
        "class Pessoa():\n",
        "  def __init__(self, n, i):\n",
        "    self.nome = n\n",
        "    self.idade = i\n",
        "  \n",
        "  def apresentacao(self):\n",
        "    print(\"Seja bem vindo ao Python!\")\n",
        "class PessoaFisica():\n",
        "  def __init__(self, n, i, cpf):\n",
        "    self.nome = n\n",
        "    self.idade = i\n",
        "    self.cpf = cpf\n",
        "  \n",
        "  def apresentacao(self):\n",
        "    print(\"Seja bem vindo ao Python!\")\n",
        "  \n",
        "  def impostoDeRenda(self, *salario):\n",
        "    s = sum(salario)\n",
        "    ir = s*0.015\n",
        "    print(\" O valor do seu imposto de renda é R$\", ir)\n",
        "    return ir\n",
        "class PessoaJuridica():\n",
        "  def __init__(self, n, i, cnpj):\n",
        "    self.nome = n\n",
        "    self.idade = i\n",
        "    self.cnpj = cnpj\n",
        "  \n",
        "  def apresentacao(self):\n",
        "    print(\"Seja bem vindo ao Python!\")\n",
        "  \n",
        "  def impostoDeRenda(self, salario):\n",
        "    ir = salario*0.10\n",
        "    print(\" O valor do seu imposto de renda é R$\", ir)\n",
        "    return ir\n",
        "\n",
        "nome = str(input(\"Nome: \"))\n",
        "age = int(input(\"Idade: \"))\n",
        "cnpj = int(input(\"CNPJ: \"))\n",
        "serumaninho = Pessoa(nome, age)\n",
        "comunidade = PessoaJuridica(nome, age, cnpj)\n",
        "serumaninho.nome\n",
        "\n",
        "serumaninho.idade\n",
        "\n",
        "serumaninho.apresentacao()\n",
        "\n",
        "salario = float(input(\"Receita: \"))\n",
        "comunidade.impostoDeRenda(salario)\n",
        "print(\"Fim!\")"
      ],
      "metadata": {
        "colab": {
          "base_uri": "https://localhost:8080/"
        },
        "id": "3JaAxatGeAgN",
        "outputId": "48c09dbb-95ba-440e-ea50-0f5f5ba40893"
      },
      "execution_count": 28,
      "outputs": [
        {
          "output_type": "stream",
          "name": "stdout",
          "text": [
            "Nome: Eduardo\n",
            "Idade: 18\n",
            "CNPJ: 123123\n",
            "Seja bem vindo ao Python!\n",
            "Receita: 1000\n",
            " O valor do seu imposto de renda é R$ 100.0\n",
            "Fim!\n"
          ]
        }
      ]
    }
  ]
}