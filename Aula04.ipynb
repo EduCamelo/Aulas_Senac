{
  "nbformat": 4,
  "nbformat_minor": 0,
  "metadata": {
    "colab": {
      "provenance": [],
      "authorship_tag": "ABX9TyPJLWP4gnzQ3rLeJ4BgzqBY",
      "include_colab_link": true
    },
    "kernelspec": {
      "name": "python3",
      "display_name": "Python 3"
    },
    "language_info": {
      "name": "python"
    }
  },
  "cells": [
    {
      "cell_type": "markdown",
      "metadata": {
        "id": "view-in-github",
        "colab_type": "text"
      },
      "source": [
        "<a href=\"https://colab.research.google.com/github/EduCamelo/Aulas_Senac/blob/main/Aula04.ipynb\" target=\"_parent\"><img src=\"https://colab.research.google.com/assets/colab-badge.svg\" alt=\"Open In Colab\"/></a>"
      ]
    },
    {
      "cell_type": "code",
      "execution_count": null,
      "metadata": {
        "id": "eeI5_YWuBK0t"
      },
      "outputs": [],
      "source": [
        "x = {\n",
        "     'nome' : 'Albedo', \n",
        "     'idade' : 27, \n",
        "     'altura' : 1.70 , \n",
        "     'Queen' : True, \n",
        "     'PWD' : True, \n",
        "     'FiL' : True\n",
        "     }\n",
        "print(x)"
      ]
    },
    {
      "cell_type": "markdown",
      "source": [
        "FOR = quando vc sabe quando vai acabar\n",
        "\n",
        "WHILE = quando vc n sabe quamndo vai acabar\n",
        "\n",
        "\n"
      ],
      "metadata": {
        "id": "XJLywHRuR8Tm"
      }
    },
    {
      "cell_type": "code",
      "source": [
        "for elemento in [1 , 2 , 3 ,4 , 5 , 6]:\n",
        "    print('Estamos no element0: ', elemento)"
      ],
      "metadata": {
        "id": "m61xM8njHkSb"
      },
      "execution_count": null,
      "outputs": []
    },
    {
      "cell_type": "code",
      "source": [
        "chave = input()\n",
        "senha = ''\n",
        "for letra in chave:\n",
        "  if letra in   'aA' : senha = senha + \"1\"\n",
        "  elif letra in 'bB' : senha = senha + \"2\"\n",
        "  elif letra in 'cC' : senha = senha + \"3\"\n",
        "  elif letra in 'dD' : senha = senha + \"4\"\n",
        "  elif letra in 'eEé': senha = senha + \"5\"\n",
        "  elif letra in 'fF' : senha = senha + \"6\"\n",
        "  elif letra in 'gG' : senha = senha + \"7\"\n",
        "  elif letra in 'hH' : senha = senha + \"8\"\n",
        "  elif letra in 'iI' : senha = senha + \"9\"\n",
        "  elif letra in 'jJ' : senha = senha + \"!\"\n",
        "  elif letra in 'kK' : senha = senha + \"@\"\n",
        "  elif letra in 'lL' : senha = senha + \"#\"\n",
        "  elif letra in 'mM' : senha = senha + \"$\"\n",
        "  elif letra in 'nN' : senha = senha + \"%\"\n",
        "  elif letra in 'oOó': senha = senha + \"ç\"\n",
        "  elif letra in 'pP' : senha = senha + '&'\n",
        "  elif letra in 'qQ' : senha = senha + \"*\"\n",
        "  elif letra in 'rR' : senha = senha + \"(\"\n",
        "  elif letra in 'sS' : senha = senha + \")\"\n",
        "  elif letra in 'tT' : senha = senha + \"-\"\n",
        "  elif letra in 'uU' : senha = senha + \"_\"\n",
        "  elif letra in 'vV' : senha = senha + \"+\"\n",
        "  elif letra in 'Ww' : senha = senha + \"=\"\n",
        "  elif letra in 'xX' : senha = senha + \"[\"\n",
        "  elif letra in 'Yy' : senha = senha + \"{\"\n",
        "  elif letra in 'zZ' : senha = senha + \"}\"\n",
        "  else:senha = senha + ' '\n",
        "\n",
        "print('Sua chave é : ', senha)"
      ],
      "metadata": {
        "id": "_YhcLhxYNdKw"
      },
      "execution_count": null,
      "outputs": []
    },
    {
      "cell_type": "code",
      "source": [
        "for elemento in 'STRING':\n",
        "  print('Estamos no elemento: ', elemento)"
      ],
      "metadata": {
        "id": "mJOcSH2TNxSz"
      },
      "execution_count": null,
      "outputs": []
    },
    {
      "cell_type": "code",
      "source": [
        "for elemento in range(len('STRING')):\n",
        "  print('Estamos no elemento', elemento)"
      ],
      "metadata": {
        "id": "ClfiGoJpOTzV"
      },
      "execution_count": null,
      "outputs": []
    },
    {
      "cell_type": "code",
      "source": [
        "produto = 0\n",
        "while produto < 4:\n",
        "  p = str(input( 'Digite o nome do produto: '))\n",
        "  v = float(input('Digite o valor do produto: '))\n",
        "produto += 1"
      ],
      "metadata": {
        "id": "huC90Hn3PIeG"
      },
      "execution_count": null,
      "outputs": []
    },
    {
      "cell_type": "code",
      "source": [
        "elemento = 0 \n",
        "while elemento <= len([1 , 2 , 3 ,4 ,5 , 6]):\n",
        "  print('Estamos no elemento', elemento)\n",
        "  elemento += 1"
      ],
      "metadata": {
        "id": "2gyEAxt1PpyF"
      },
      "execution_count": null,
      "outputs": []
    },
    {
      "cell_type": "code",
      "source": [
        "s = 'STRING'\n",
        "ind = 0\n",
        "\n",
        "while ind in range (len(s)):\n",
        "  print('Estamos no elemento', s[ind])\n",
        "  ind += -1"
      ],
      "metadata": {
        "id": "0hagozfURGkI"
      },
      "execution_count": null,
      "outputs": []
    },
    {
      "cell_type": "code",
      "source": [
        "palavra = 'tranquilo'\n",
        "for ind, letra in enumerate(palavra):\n",
        "  print( ind, letra)"
      ],
      "metadata": {
        "id": "6VCEw93CSaJU"
      },
      "execution_count": null,
      "outputs": []
    },
    {
      "cell_type": "code",
      "source": [
        "lista =['eat', 'sleep', 'repeat']\n",
        "palavra = 'geek'\n",
        "objeto = enumerate(lista)\n",
        "objeto2 = enumerate(palavra)\n",
        "print('Tipo:', type(objeto))\n",
        "print(list(enumerate(lista)))\n",
        "print(list(enumerate(palavra,2)))"
      ],
      "metadata": {
        "id": "_mW-kTd5Tv0s"
      },
      "execution_count": null,
      "outputs": []
    },
    {
      "cell_type": "code",
      "source": [
        "s = 'viva a vida loka'\n",
        "for ch in s:\n",
        "  print('Albedo')"
      ],
      "metadata": {
        "id": "k-uC_bBjVcnX"
      },
      "execution_count": null,
      "outputs": []
    },
    {
      "cell_type": "code",
      "source": [
        "s = 'viva o python'\n",
        "for x in s[3:8]:\n",
        "  print('oi')"
      ],
      "metadata": {
        "id": "GQnusz3FWMXu"
      },
      "execution_count": null,
      "outputs": []
    },
    {
      "cell_type": "code",
      "source": [
        "for x in range(10):\n",
        "  y = float(input('Digite um número: '))\n",
        "  if( y % 2) == 0:\n",
        "        print('Esse número é par')\n",
        "  else: print('Esse número é impar')"
      ],
      "metadata": {
        "id": "k_wNUo3KW8Ru"
      },
      "execution_count": null,
      "outputs": []
    },
    {
      "cell_type": "code",
      "source": [
        "z = 0\n",
        "v = 0\n",
        "for x in range(10):\n",
        "  y = float(input('Digite um número: '))\n",
        "  if( y % 2) == 0: z = z + 1\n",
        "  else: v = v + 1\n",
        "\n",
        "print('a quantidade total de pares é: ', z)\n",
        "print('a quantidade total de impares é: ', v)"
      ],
      "metadata": {
        "id": "T4ibSc4EX3Ol"
      },
      "execution_count": null,
      "outputs": []
    },
    {
      "cell_type": "code",
      "source": [
        "x = 0\n",
        "z = 0\n",
        "v = 0\n",
        "while x < 10:\n",
        "  y = float(input('Digite um número: '))\n",
        "  if( y % 2) == 0:  z = z + 1\n",
        "  else: v = v + 1\n",
        "  x += 1\n",
        "print('a quantidade total de pares é: ', z)\n",
        "print('a quantidade total de impares é: ', v)"
      ],
      "metadata": {
        "id": "_PXNBXbvZQBQ"
      },
      "execution_count": null,
      "outputs": []
    },
    {
      "cell_type": "code",
      "source": [
        "z = 0\n",
        "for x in range(10):\n",
        "  y = float(input(\"Digite um número: \"))\n",
        "  while (y % 2) == 0:\n",
        "    z += 1\n",
        "    y += 1\n",
        "\n",
        "print('A quantidade total de pares é: ' ,z)\n",
        "print('a quantidade total de impares é: ', (x + 1) - z) "
      ],
      "metadata": {
        "id": "Wv5ArqGTdfjY"
      },
      "execution_count": null,
      "outputs": []
    },
    {
      "cell_type": "code",
      "source": [
        "z = 0\n",
        "par = 0\n",
        "impar = 0\n",
        "while z == 0:\n",
        "  for x in range(10):\n",
        "    y = float(input(\"Digite um número: \"))\n",
        "    if( y % 2) == 0:  par += 1\n",
        "    else: impar += 1\n",
        "    z += 1\n",
        "    print('----------------------------------------------')\n",
        "    print('a quantidade total de pares é: ', par)\n",
        "    print('a quantidade total de impares é: ', impar)\n",
        "    print('----------------------------------------------')"
      ],
      "metadata": {
        "id": "VeVgjWpriLxj"
      },
      "execution_count": null,
      "outputs": []
    },
    {
      "cell_type": "code",
      "source": [
        "for nome in ['Reginaldo', 'Gisele Pintcher', 'Scoob', 'Mariene', 'Zezinho', 'Cibele', 'Suely']:\n",
        "  convite=('Oi, ' + nome + '! Por favor, venha para o sábado pet em minha casa!')\n",
        "  print(convite)"
      ],
      "metadata": {
        "id": "gWOFDEctcllm"
      },
      "execution_count": null,
      "outputs": []
    },
    {
      "cell_type": "code",
      "source": [
        "temperatura = float(input('Qual a temperatura?'))\n",
        "if temperatura > 30:\n",
        "  print('Vista roupas leves.')\n",
        "else: print('Busque seus casacos')"
      ],
      "metadata": {
        "id": "nuquLzjIgjHl"
      },
      "execution_count": null,
      "outputs": []
    },
    {
      "cell_type": "code",
      "source": [
        "for um_char in 'Venha para a festa':\n",
        "  print(um_char)"
      ],
      "metadata": {
        "id": "j1Ont6vnhyXr"
      },
      "execution_count": null,
      "outputs": []
    },
    {
      "cell_type": "code",
      "source": [
        "for um_valor in range(10):\n",
        "  print(um_valor)"
      ],
      "metadata": {
        "id": "mDUhu6Liia-Z"
      },
      "execution_count": null,
      "outputs": []
    },
    {
      "cell_type": "code",
      "source": [
        "x = 0\n",
        "s = \"Educação não transforma o mundo. Educação muda pessoas. Pessoas transformam o mundo.\"\n",
        "for letra in s:\n",
        "  if letra in 'sS': x += 1\n",
        "print(x)"
      ],
      "metadata": {
        "id": "47XYHkBji8GW"
      },
      "execution_count": null,
      "outputs": []
    },
    {
      "cell_type": "code",
      "source": [
        "s = \"Educação não transforma o mundo. Educação muda pessoas. Pessoas transformam o mundo.\"\n",
        "print(s.count('s'))"
      ],
      "metadata": {
        "id": "-d1EPd6nmHKC"
      },
      "execution_count": null,
      "outputs": []
    },
    {
      "cell_type": "code",
      "source": [
        "x = input('Qual é o dia da semana? ').lower()\n",
        "if (x == 'domingo') or (x == 'sabado') or (x == 'sábado'):\n",
        "  print('Pega a pipoca e bora ver uma netflix.')\n",
        "else: print('Levanta da cama e bora trabalhar!')"
      ],
      "metadata": {
        "id": "dkYEVPGqpdvn"
      },
      "execution_count": null,
      "outputs": []
    },
    {
      "cell_type": "code",
      "source": [
        "c = int(input('Digite um número qualquer: '))\n",
        "for x in range(c):\n",
        " if (x % 2) == 0:\n",
        "   x = [x]\n",
        "   print(x)\n",
        " else: \n",
        "   impar = x * x\n",
        "   print(impar)"
      ],
      "metadata": {
        "id": "IXgV5AW2rwBw"
      },
      "execution_count": null,
      "outputs": []
    }
  ]
}