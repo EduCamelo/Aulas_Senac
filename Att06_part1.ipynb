{
  "nbformat": 4,
  "nbformat_minor": 0,
  "metadata": {
    "colab": {
      "provenance": [],
      "authorship_tag": "ABX9TyOCZAbZNoDxBtYoqGmfLCwH",
      "include_colab_link": true
    },
    "kernelspec": {
      "name": "python3",
      "display_name": "Python 3"
    },
    "language_info": {
      "name": "python"
    }
  },
  "cells": [
    {
      "cell_type": "markdown",
      "metadata": {
        "id": "view-in-github",
        "colab_type": "text"
      },
      "source": [
        "<a href=\"https://colab.research.google.com/github/EduCamelo/Aulas_Senac/blob/main/Att06_part1.ipynb\" target=\"_parent\"><img src=\"https://colab.research.google.com/assets/colab-badge.svg\" alt=\"Open In Colab\"/></a>"
      ]
    },
    {
      "cell_type": "code",
      "execution_count": 1,
      "metadata": {
        "colab": {
          "base_uri": "https://localhost:8080/"
        },
        "id": "CO3XhBdek0le",
        "outputId": "3e436cd6-13ff-44d7-e3fa-e2705052e826"
      },
      "outputs": [
        {
          "output_type": "stream",
          "name": "stdout",
          "text": [
            "Antes da condicional: sempre executa\n",
            "Código A: só executa caso a condição seja verdadeira\n",
            "Após a condicional: sempre executa\n"
          ]
        }
      ],
      "source": [
        "print(\"Antes da condicional: sempre executa\")\n",
        "\n",
        "cond = True\n",
        "\n",
        "if cond:\n",
        "    print(\"Código A: só executa caso a condição seja verdadeira\")\n",
        "\n",
        "print(\"Após a condicional: sempre executa\")"
      ]
    },
    {
      "cell_type": "code",
      "source": [
        "print(\"Antes da condicional: sempre executa\")\n",
        "\n",
        "cond = True\n",
        "\n",
        "if cond:\n",
        "    print(\"Código A: só executa caso a condição seja verdadeira\")\n",
        "else:\n",
        "    print(\"Código B: só executa caso a condição seja falsa\")\n",
        "\n",
        "print(\"Após a condicional: sempre executa\")"
      ],
      "metadata": {
        "colab": {
          "base_uri": "https://localhost:8080/"
        },
        "id": "KydCu2xvk9Cd",
        "outputId": "e61fc7dd-2faa-4d8d-cdb8-41927adc7450"
      },
      "execution_count": 2,
      "outputs": [
        {
          "output_type": "stream",
          "name": "stdout",
          "text": [
            "Antes da condicional: sempre executa\n",
            "Código A: só executa caso a condição seja verdadeira\n",
            "Após a condicional: sempre executa\n"
          ]
        }
      ]
    },
    {
      "cell_type": "code",
      "source": [
        "print(\"Antes da condicional: sempre executa\")\n",
        "\n",
        "cond1 = True\n",
        "cond2 = True\n",
        "\n",
        "if cond1:\n",
        "    print(\"Código A: só executa caso a condição 1 seja verdadeira (não importa a condição 2)\")\n",
        "else:\n",
        "    if cond2:\n",
        "        print(\"Código B: só executa caso a condição 2 seja verdadeira (condição 1 foi falsa)\")\n",
        "    else:\n",
        "        print(\"Código C: só executa caso a condição 2 seja falsa (condição 1 foi falsa)\")\n",
        "\n",
        "print(\"Após a condicional: sempre executa\")"
      ],
      "metadata": {
        "colab": {
          "base_uri": "https://localhost:8080/"
        },
        "id": "uc6vfpGGlAEG",
        "outputId": "2a4a0f51-5ba8-4e53-dddb-7fd18eea975b"
      },
      "execution_count": 3,
      "outputs": [
        {
          "output_type": "stream",
          "name": "stdout",
          "text": [
            "Antes da condicional: sempre executa\n",
            "Código A: só executa caso a condição 1 seja verdadeira (não importa a condição 2)\n",
            "Após a condicional: sempre executa\n"
          ]
        }
      ]
    },
    {
      "cell_type": "code",
      "source": [
        "print(\"Antes da condicional: sempre executa\")\n",
        "\n",
        "cond1 = True\n",
        "cond2 = True\n",
        "\n",
        "if cond1:\n",
        "    print(\"Código A: só executa caso a condição 1 seja verdadeira (não importa a condição 2)\")\n",
        "elif cond2:\n",
        "    print(\"Código B: só executa caso a condição 2 seja verdadeira (condição 1 foi falsa)\")\n",
        "else:\n",
        "    print(\"Código C: só executa caso a condição 2 seja falsa (condição 1 foi falsa)\")\n",
        "\n",
        "print(\"Após a condicional: sempre executa\")"
      ],
      "metadata": {
        "colab": {
          "base_uri": "https://localhost:8080/"
        },
        "id": "8n02qj8llCWN",
        "outputId": "3693fd74-8958-48f1-cfda-97ea0060b36e"
      },
      "execution_count": 4,
      "outputs": [
        {
          "output_type": "stream",
          "name": "stdout",
          "text": [
            "Antes da condicional: sempre executa\n",
            "Código A: só executa caso a condição 1 seja verdadeira (não importa a condição 2)\n",
            "Após a condicional: sempre executa\n"
          ]
        }
      ]
    },
    {
      "cell_type": "code",
      "source": [
        "lista = ['a','b','c','d','e','f']\n",
        "\n",
        "for i in lista:\n",
        "    print(f\"Nova iteração: elemento {i}\")"
      ],
      "metadata": {
        "colab": {
          "base_uri": "https://localhost:8080/"
        },
        "id": "OfvvThCalSnU",
        "outputId": "96bdd734-2e18-4323-851b-b0a7be4f3664"
      },
      "execution_count": 5,
      "outputs": [
        {
          "output_type": "stream",
          "name": "stdout",
          "text": [
            "Nova iteração: elemento a\n",
            "Nova iteração: elemento b\n",
            "Nova iteração: elemento c\n",
            "Nova iteração: elemento d\n",
            "Nova iteração: elemento e\n",
            "Nova iteração: elemento f\n"
          ]
        }
      ]
    },
    {
      "cell_type": "code",
      "source": [
        "for i in range(1,11):\n",
        "    print(f\"Nova iteração: elemento {i}\")"
      ],
      "metadata": {
        "colab": {
          "base_uri": "https://localhost:8080/"
        },
        "id": "QTNyqVgElT8H",
        "outputId": "351ce0e9-b08f-4118-8a25-4e38defb0efd"
      },
      "execution_count": 6,
      "outputs": [
        {
          "output_type": "stream",
          "name": "stdout",
          "text": [
            "Nova iteração: elemento 1\n",
            "Nova iteração: elemento 2\n",
            "Nova iteração: elemento 3\n",
            "Nova iteração: elemento 4\n",
            "Nova iteração: elemento 5\n",
            "Nova iteração: elemento 6\n",
            "Nova iteração: elemento 7\n",
            "Nova iteração: elemento 8\n",
            "Nova iteração: elemento 9\n",
            "Nova iteração: elemento 10\n"
          ]
        }
      ]
    },
    {
      "cell_type": "code",
      "source": [
        "dicio = { 'k1':'val1', 'k2':'val2', 'k3':'val3','k4':'val4', 'k5':'val5' }\n",
        "\n",
        "for k,v in dicio.items():\n",
        "    print(f\"Nova iteração: chave {k} --> valor {v}\")"
      ],
      "metadata": {
        "colab": {
          "base_uri": "https://localhost:8080/"
        },
        "id": "a7WGvgqglV_j",
        "outputId": "178fa72d-799d-42ae-cf7c-e6db760467e4"
      },
      "execution_count": 7,
      "outputs": [
        {
          "output_type": "stream",
          "name": "stdout",
          "text": [
            "Nova iteração: chave k1 --> valor val1\n",
            "Nova iteração: chave k2 --> valor val2\n",
            "Nova iteração: chave k3 --> valor val3\n",
            "Nova iteração: chave k4 --> valor val4\n",
            "Nova iteração: chave k5 --> valor val5\n"
          ]
        }
      ]
    },
    {
      "cell_type": "code",
      "source": [
        "var1, var2 = ( 'a', 'b' )\n",
        "\n",
        "print(f\"var1 recebe {var1}\")\n",
        "print(f\"var2 recebe {var2}\")"
      ],
      "metadata": {
        "colab": {
          "base_uri": "https://localhost:8080/"
        },
        "id": "bXVwiYe-lXYL",
        "outputId": "791ffd42-4210-4ce6-eb5f-0ebef5f23b97"
      },
      "execution_count": 8,
      "outputs": [
        {
          "output_type": "stream",
          "name": "stdout",
          "text": [
            "var1 recebe a\n",
            "var2 recebe b\n"
          ]
        }
      ]
    },
    {
      "cell_type": "code",
      "source": [
        "lista = ['a','b','c','d','e','f']\n",
        "\n",
        "for i,el in enumerate(lista):\n",
        "    print(f\"Nova iteração (índice {i}): elemento {el}\")"
      ],
      "metadata": {
        "colab": {
          "base_uri": "https://localhost:8080/"
        },
        "id": "Tei50rf6lZeb",
        "outputId": "5c2181f7-c986-4c33-e485-a74af5adcb85"
      },
      "execution_count": 9,
      "outputs": [
        {
          "output_type": "stream",
          "name": "stdout",
          "text": [
            "Nova iteração (índice 0): elemento a\n",
            "Nova iteração (índice 1): elemento b\n",
            "Nova iteração (índice 2): elemento c\n",
            "Nova iteração (índice 3): elemento d\n",
            "Nova iteração (índice 4): elemento e\n",
            "Nova iteração (índice 5): elemento f\n"
          ]
        }
      ]
    },
    {
      "cell_type": "code",
      "source": [
        "cntr = 0\n",
        "\n",
        "while cntr < 10:\n",
        "    print(f\"Nova iteração. Variável contadora tem valor {cntr}\")\n",
        "    cntr = cntr + 1"
      ],
      "metadata": {
        "colab": {
          "base_uri": "https://localhost:8080/"
        },
        "id": "QEOLsXAXlbiD",
        "outputId": "ef031be9-f8ce-4c54-f193-bd4f98ffb675"
      },
      "execution_count": 10,
      "outputs": [
        {
          "output_type": "stream",
          "name": "stdout",
          "text": [
            "Nova iteração. Variável contadora tem valor 0\n",
            "Nova iteração. Variável contadora tem valor 1\n",
            "Nova iteração. Variável contadora tem valor 2\n",
            "Nova iteração. Variável contadora tem valor 3\n",
            "Nova iteração. Variável contadora tem valor 4\n",
            "Nova iteração. Variável contadora tem valor 5\n",
            "Nova iteração. Variável contadora tem valor 6\n",
            "Nova iteração. Variável contadora tem valor 7\n",
            "Nova iteração. Variável contadora tem valor 8\n",
            "Nova iteração. Variável contadora tem valor 9\n"
          ]
        }
      ]
    },
    {
      "cell_type": "code",
      "source": [
        "lista = ['a','b','c','d','e','f']\n",
        "i = 0\n",
        "\n",
        "while i < len(lista):\n",
        "    print(f\"Nova iteração: Elemento {lista[i]} (índice {i})\")\n",
        "    i = i + 1"
      ],
      "metadata": {
        "colab": {
          "base_uri": "https://localhost:8080/"
        },
        "id": "_KpP_Z0_leAr",
        "outputId": "85216f8c-0f14-411a-c6c4-0fbcfaf1a187"
      },
      "execution_count": 11,
      "outputs": [
        {
          "output_type": "stream",
          "name": "stdout",
          "text": [
            "Nova iteração: Elemento a (índice 0)\n",
            "Nova iteração: Elemento b (índice 1)\n",
            "Nova iteração: Elemento c (índice 2)\n",
            "Nova iteração: Elemento d (índice 3)\n",
            "Nova iteração: Elemento e (índice 4)\n",
            "Nova iteração: Elemento f (índice 5)\n"
          ]
        }
      ]
    },
    {
      "cell_type": "code",
      "source": [
        "# Atenção: esta célula gera um loop infinito. Para finalizá-lo, clique no botão \"pause\", na barra de ferramentas\n",
        "cond=True\n",
        "\n",
        "while cond:\n",
        "    print(\"Nova iteração\")"
      ],
      "metadata": {
        "id": "QgvAeFtglg31"
      },
      "execution_count": null,
      "outputs": []
    },
    {
      "cell_type": "code",
      "source": [
        "def nome_funcao(par1, par2):\n",
        "    instrucao_1\n",
        "    instrucao_2\n",
        "    instrucao_3\n",
        "    return resultado"
      ],
      "metadata": {
        "id": "Lgp7cujMliQ7"
      },
      "execution_count": 12,
      "outputs": []
    },
    {
      "cell_type": "code",
      "source": [
        "def foo():\n",
        "    print(\"Função `foo` foi executada\")\n",
        "    print(\"Como não há parâmetros, o comportamento da função sempre será o mesmo\")"
      ],
      "metadata": {
        "id": "hLk_pSZWlqFc"
      },
      "execution_count": 13,
      "outputs": []
    },
    {
      "cell_type": "code",
      "source": [
        "foo()"
      ],
      "metadata": {
        "colab": {
          "base_uri": "https://localhost:8080/"
        },
        "id": "CAMmtaBklrk0",
        "outputId": "7af74e1f-f45f-4628-f51b-b73ef3438c4e"
      },
      "execution_count": 14,
      "outputs": [
        {
          "output_type": "stream",
          "name": "stdout",
          "text": [
            "Função `foo` foi executada\n",
            "Como não há parâmetros, o comportamento da função sempre será o mesmo\n"
          ]
        }
      ]
    },
    {
      "cell_type": "code",
      "source": [
        "def bar(par1):\n",
        "    print(\"Função `bar` foi executada\")\n",
        "    print(f\"Parâmetro par1 recebe {par1} como valor (argumento)\")"
      ],
      "metadata": {
        "id": "jwBNajYAlvcM"
      },
      "execution_count": 15,
      "outputs": []
    },
    {
      "cell_type": "code",
      "source": [
        "bar('Santos')"
      ],
      "metadata": {
        "colab": {
          "base_uri": "https://localhost:8080/"
        },
        "id": "B72v8z5BlwTr",
        "outputId": "f890c2ca-c7f9-4ff6-f990-af7193a8a8ae"
      },
      "execution_count": 16,
      "outputs": [
        {
          "output_type": "stream",
          "name": "stdout",
          "text": [
            "Função `bar` foi executada\n",
            "Parâmetro par1 recebe Santos como valor (argumento)\n"
          ]
        }
      ]
    },
    {
      "cell_type": "code",
      "source": [
        "def baz(par1, par2):\n",
        "    print(\"Função `baz` foi executada\")\n",
        "    print(f\"Parâmetro par1 recebe argumento {par1}\")\n",
        "    print(f\"Parâmetro par2 recebe argumento {par2}\")"
      ],
      "metadata": {
        "id": "0MCKs_iylxfE"
      },
      "execution_count": 18,
      "outputs": []
    },
    {
      "cell_type": "code",
      "source": [
        "baz('Santos','Dumont')"
      ],
      "metadata": {
        "colab": {
          "base_uri": "https://localhost:8080/"
        },
        "id": "pdx0MQtMlzvk",
        "outputId": "e3ddae44-b5c8-49d9-eee2-a1b092ab4a74"
      },
      "execution_count": 19,
      "outputs": [
        {
          "output_type": "stream",
          "name": "stdout",
          "text": [
            "Função `baz` foi executada\n",
            "Parâmetro par1 recebe argumento Santos\n",
            "Parâmetro par2 recebe argumento Dumont\n"
          ]
        }
      ]
    },
    {
      "cell_type": "code",
      "source": [
        "def baz2(par1, par2=\"Barney\"):\n",
        "    print(\"Função `baz2` foi executada\")\n",
        "    print(f\"Parâmetro par1 recebe argumento {par1}\")\n",
        "    print(f\"Parâmetro par2 recebe argumento {par2}\")"
      ],
      "metadata": {
        "id": "MdVkI7MVl9KE"
      },
      "execution_count": 22,
      "outputs": []
    },
    {
      "cell_type": "code",
      "source": [
        "baz2('Santos')"
      ],
      "metadata": {
        "colab": {
          "base_uri": "https://localhost:8080/"
        },
        "id": "FrtLoAfbl-Gj",
        "outputId": "6b78d43b-659b-4c2c-d5eb-fb08922fac7a"
      },
      "execution_count": 23,
      "outputs": [
        {
          "output_type": "stream",
          "name": "stdout",
          "text": [
            "Função `baz2` foi executada\n",
            "Parâmetro par1 recebe argumento Santos\n",
            "Parâmetro par2 recebe argumento Barney\n"
          ]
        }
      ]
    },
    {
      "cell_type": "code",
      "source": [
        "baz2(par2=\"Dumont\", par1=\"Santos\")"
      ],
      "metadata": {
        "colab": {
          "base_uri": "https://localhost:8080/"
        },
        "id": "Mdp3XZM-l4rF",
        "outputId": "6e1a6ffb-f7c2-4fcd-c642-cc641cc65e85"
      },
      "execution_count": 24,
      "outputs": [
        {
          "output_type": "stream",
          "name": "stdout",
          "text": [
            "Função `baz2` foi executada\n",
            "Parâmetro par1 recebe argumento Santos\n",
            "Parâmetro par2 recebe argumento Dumont\n"
          ]
        }
      ]
    },
    {
      "cell_type": "code",
      "source": [
        "def adicao(n1,n2):\n",
        "    res = n1 + n2\n",
        "    return res"
      ],
      "metadata": {
        "id": "ch3Nef6zmDEj"
      },
      "execution_count": 25,
      "outputs": []
    },
    {
      "cell_type": "code",
      "source": [
        "adicao(3,7)"
      ],
      "metadata": {
        "colab": {
          "base_uri": "https://localhost:8080/"
        },
        "id": "EnzkXQNgmEMX",
        "outputId": "692905a4-a474-4066-99f7-44001f3668d5"
      },
      "execution_count": 26,
      "outputs": [
        {
          "output_type": "execute_result",
          "data": {
            "text/plain": [
              "10"
            ]
          },
          "metadata": {},
          "execution_count": 26
        }
      ]
    },
    {
      "cell_type": "code",
      "source": [
        "def subtracao(n1,n2):\n",
        "    res = n1 - n2\n",
        "    return res\n",
        "\n",
        "def multiplicacao(n1,n2):\n",
        "    return n1 * n2\n",
        "\n",
        "def divisao(n1,n2):\n",
        "    return n1/n2"
      ],
      "metadata": {
        "id": "YDC7tyN2mFzU"
      },
      "execution_count": 27,
      "outputs": []
    },
    {
      "cell_type": "code",
      "source": [
        "a,b,c,d = 3,5,7,10"
      ],
      "metadata": {
        "id": "khh3C79ImHpk"
      },
      "execution_count": 28,
      "outputs": []
    },
    {
      "cell_type": "code",
      "source": [
        "u = adicao(a,b)\n",
        "v = subtracao(d,c)\n",
        "w = multiplicacao(u,v)\n",
        "x = divisao(w,2)"
      ],
      "metadata": {
        "id": "4nBbQ8HlmJBb"
      },
      "execution_count": 29,
      "outputs": []
    },
    {
      "cell_type": "code",
      "source": [
        "x"
      ],
      "metadata": {
        "colab": {
          "base_uri": "https://localhost:8080/"
        },
        "id": "TY1G-XqrmLNT",
        "outputId": "e0be9e9a-5f1f-4cf9-ebf8-193e08f457d2"
      },
      "execution_count": 30,
      "outputs": [
        {
          "output_type": "execute_result",
          "data": {
            "text/plain": [
              "12.0"
            ]
          },
          "metadata": {},
          "execution_count": 30
        }
      ]
    },
    {
      "cell_type": "code",
      "source": [
        "divisao( multiplicacao( adicao(a,b), subtracao(d,c) ), 2)"
      ],
      "metadata": {
        "colab": {
          "base_uri": "https://localhost:8080/"
        },
        "id": "8Wtsh6nPmMnV",
        "outputId": "3387447a-f530-4b72-b573-0372c098c21e"
      },
      "execution_count": 31,
      "outputs": [
        {
          "output_type": "execute_result",
          "data": {
            "text/plain": [
              "12.0"
            ]
          },
          "metadata": {},
          "execution_count": 31
        }
      ]
    },
    {
      "cell_type": "code",
      "source": [
        "lambda x, p1,p2,p3: expressão"
      ],
      "metadata": {
        "colab": {
          "base_uri": "https://localhost:8080/"
        },
        "id": "4rgT7x2gmPHe",
        "outputId": "dd84e6bc-8828-4066-aafa-d8fdd14e16e8"
      },
      "execution_count": 33,
      "outputs": [
        {
          "output_type": "execute_result",
          "data": {
            "text/plain": [
              "<function __main__.<lambda>(x, p1, p2, p3)>"
            ]
          },
          "metadata": {},
          "execution_count": 33
        }
      ]
    },
    {
      "cell_type": "code",
      "source": [
        "lambda x: x**2 "
      ],
      "metadata": {
        "colab": {
          "base_uri": "https://localhost:8080/"
        },
        "id": "4_6p6Wc6mXDs",
        "outputId": "f511b37c-aea3-47d2-e092-1eb9554a23d6"
      },
      "execution_count": 34,
      "outputs": [
        {
          "output_type": "execute_result",
          "data": {
            "text/plain": [
              "<function __main__.<lambda>(x)>"
            ]
          },
          "metadata": {},
          "execution_count": 34
        }
      ]
    },
    {
      "cell_type": "code",
      "source": [
        "(lambda x: x**2)(2)"
      ],
      "metadata": {
        "colab": {
          "base_uri": "https://localhost:8080/"
        },
        "id": "bI9N77ydmYgU",
        "outputId": "d92e68bc-db48-44a9-8d58-1a1b38843501"
      },
      "execution_count": 35,
      "outputs": [
        {
          "output_type": "execute_result",
          "data": {
            "text/plain": [
              "4"
            ]
          },
          "metadata": {},
          "execution_count": 35
        }
      ]
    },
    {
      "cell_type": "code",
      "source": [
        "(lambda x: x**3)(2)"
      ],
      "metadata": {
        "colab": {
          "base_uri": "https://localhost:8080/"
        },
        "id": "meHE6HrCmZky",
        "outputId": "feb8e868-7328-4d05-e696-249ddc1314c2"
      },
      "execution_count": 36,
      "outputs": [
        {
          "output_type": "execute_result",
          "data": {
            "text/plain": [
              "8"
            ]
          },
          "metadata": {},
          "execution_count": 36
        }
      ]
    },
    {
      "cell_type": "code",
      "source": [
        "(lambda x: x**4)(2)"
      ],
      "metadata": {
        "colab": {
          "base_uri": "https://localhost:8080/"
        },
        "id": "fJr1dQsuma0E",
        "outputId": "4954bdeb-b339-4e8b-d18c-6002d87bb252"
      },
      "execution_count": 37,
      "outputs": [
        {
          "output_type": "execute_result",
          "data": {
            "text/plain": [
              "16"
            ]
          },
          "metadata": {},
          "execution_count": 37
        }
      ]
    },
    {
      "cell_type": "code",
      "source": [
        "exp2 = lambda x: x**2\n",
        "exp3 = lambda x: x**3\n",
        "exp4 = lambda x: x**4"
      ],
      "metadata": {
        "id": "l_EoF53Gmie3"
      },
      "execution_count": 39,
      "outputs": []
    },
    {
      "cell_type": "code",
      "source": [
        "print( exp2(2) )\n",
        "print( exp3(2) )\n",
        "print( exp4(2) )"
      ],
      "metadata": {
        "colab": {
          "base_uri": "https://localhost:8080/"
        },
        "id": "MW2HySuFmcCf",
        "outputId": "bcc31499-67b0-45f4-9ee4-9fff4f5fde97"
      },
      "execution_count": 40,
      "outputs": [
        {
          "output_type": "stream",
          "name": "stdout",
          "text": [
            "4\n",
            "8\n",
            "16\n"
          ]
        }
      ]
    },
    {
      "cell_type": "code",
      "source": [
        "exp = lambda x,p: x**p"
      ],
      "metadata": {
        "id": "h33RjdRRmkX8"
      },
      "execution_count": 41,
      "outputs": []
    },
    {
      "cell_type": "code",
      "source": [
        "print( exp(2,2) )\n",
        "print( exp(2,3) )\n",
        "print( exp(2,4) )"
      ],
      "metadata": {
        "colab": {
          "base_uri": "https://localhost:8080/"
        },
        "id": "yPH6kTV_mlUV",
        "outputId": "e42926b0-5b93-45ac-f9d2-dbe90dc0178a"
      },
      "execution_count": 42,
      "outputs": [
        {
          "output_type": "stream",
          "name": "stdout",
          "text": [
            "4\n",
            "8\n",
            "16\n"
          ]
        }
      ]
    },
    {
      "cell_type": "code",
      "source": [
        "exp = lambda x,p=2: x**p"
      ],
      "metadata": {
        "id": "dmBsPiGRmoYs"
      },
      "execution_count": 43,
      "outputs": []
    },
    {
      "cell_type": "code",
      "source": [
        "print( exp(2) ) # por default, a potência é 2\n",
        "print( exp(2,2) )\n",
        "print( exp(2,3) )\n",
        "print( exp(2,4) )"
      ],
      "metadata": {
        "colab": {
          "base_uri": "https://localhost:8080/"
        },
        "id": "ln9Mvj-MmpHM",
        "outputId": "7cddefd5-dc2f-4a80-f927-99292f75e144"
      },
      "execution_count": 44,
      "outputs": [
        {
          "output_type": "stream",
          "name": "stdout",
          "text": [
            "4\n",
            "4\n",
            "8\n",
            "16\n"
          ]
        }
      ]
    },
    {
      "cell_type": "code",
      "source": [
        "class Vehicle:\n",
        "    \n",
        "    def __init__(self, type, model, manufacturer, seat_capacity):\n",
        "        self.type = type\n",
        "        self.model = model\n",
        "        self.manufacturer = manufacturer\n",
        "        self.seat_capacity = seat_capacity"
      ],
      "metadata": {
        "id": "7LdXxwjwmr8E"
      },
      "execution_count": 45,
      "outputs": []
    },
    {
      "cell_type": "code",
      "source": [
        "myPlane = Vehicle('plane', \"A320\", \"Airbus\", 180)\n",
        "myCar = Vehicle('car', model=\"Uno\", manufacturer=\"Fiat\", seat_capacity=5)"
      ],
      "metadata": {
        "id": "GbdMTWF2mtCM"
      },
      "execution_count": 46,
      "outputs": []
    },
    {
      "cell_type": "code",
      "source": [
        "print( myPlane.type )\n",
        "print( myPlane.manufacturer )\n",
        "print( myPlane.model )\n",
        "print( myPlane.seat_capacity )"
      ],
      "metadata": {
        "colab": {
          "base_uri": "https://localhost:8080/"
        },
        "id": "aU8D2dJxmuFM",
        "outputId": "df618b99-443d-430d-d146-97a10206ab0b"
      },
      "execution_count": 47,
      "outputs": [
        {
          "output_type": "stream",
          "name": "stdout",
          "text": [
            "plane\n",
            "Airbus\n",
            "A320\n",
            "180\n"
          ]
        }
      ]
    },
    {
      "cell_type": "code",
      "source": [
        "print( myCar.type )\n",
        "print( myCar.manufacturer )\n",
        "print( myCar.model )\n",
        "print( myCar.seat_capacity )"
      ],
      "metadata": {
        "colab": {
          "base_uri": "https://localhost:8080/"
        },
        "id": "3-dBYf_MmvPM",
        "outputId": "7b3f3ff4-430e-4236-c3e9-88926c6fddbe"
      },
      "execution_count": 48,
      "outputs": [
        {
          "output_type": "stream",
          "name": "stdout",
          "text": [
            "car\n",
            "Fiat\n",
            "Uno\n",
            "5\n"
          ]
        }
      ]
    },
    {
      "cell_type": "code",
      "source": [
        "myPlane.model = 'a321'"
      ],
      "metadata": {
        "id": "zD74OD-LmxSc"
      },
      "execution_count": 49,
      "outputs": []
    },
    {
      "cell_type": "code",
      "source": [
        "myPlane.model"
      ],
      "metadata": {
        "colab": {
          "base_uri": "https://localhost:8080/",
          "height": 35
        },
        "id": "0HzIyLermyXU",
        "outputId": "b7423975-fd69-4ed8-81d0-a86e63b74b3c"
      },
      "execution_count": 50,
      "outputs": [
        {
          "output_type": "execute_result",
          "data": {
            "text/plain": [
              "'a321'"
            ],
            "application/vnd.google.colaboratory.intrinsic+json": {
              "type": "string"
            }
          },
          "metadata": {},
          "execution_count": 50
        }
      ]
    },
    {
      "cell_type": "code",
      "source": [
        "class Vehicle:\n",
        "    \n",
        "    def __init__(self, type, model, manufacturer, seat_capacity):\n",
        "        self.type = type\n",
        "        self.model = model\n",
        "        self.manufacturer = manufacturer\n",
        "        self.seat_capacity = seat_capacity\n",
        "        \n",
        "    # Getter methods\n",
        "    \n",
        "    def getModel(self):\n",
        "        return f\"{self.manufacturer} {self.model}\"\n",
        "        \n",
        "    def getSeatCapacity(self):\n",
        "        return self.seat_capacity"
      ],
      "metadata": {
        "id": "Ks9LrC_om0Vz"
      },
      "execution_count": 51,
      "outputs": []
    },
    {
      "cell_type": "code",
      "source": [
        "myPlane = Vehicle('plane', \"A320\", \"Airbus\", 180)\n",
        "myCar = Vehicle('car', model=\"Uno\", manufacturer=\"Fiat\", seat_capacity=5)"
      ],
      "metadata": {
        "id": "kP0CUdqsm10E"
      },
      "execution_count": 52,
      "outputs": []
    },
    {
      "cell_type": "code",
      "source": [
        "print( myPlane.getModel() )\n",
        "print( f\"Cabem {myPlane.getSeatCapacity()} passageiros no {myPlane.getModel()}\" )"
      ],
      "metadata": {
        "colab": {
          "base_uri": "https://localhost:8080/"
        },
        "id": "2n9YJf60m227",
        "outputId": "4fde5fec-cd4e-47f8-8433-af015c176b1a"
      },
      "execution_count": 53,
      "outputs": [
        {
          "output_type": "stream",
          "name": "stdout",
          "text": [
            "Airbus A320\n",
            "Cabem 180 passageiros no Airbus A320\n"
          ]
        }
      ]
    },
    {
      "cell_type": "code",
      "source": [
        "print( myCar.getModel() )\n",
        "print( f\"Cabem {myCar.getSeatCapacity()} passageiros no {myCar.getModel()}\" )"
      ],
      "metadata": {
        "colab": {
          "base_uri": "https://localhost:8080/"
        },
        "id": "rt4_bYNJm34T",
        "outputId": "05280334-b405-47d9-c838-62a5a45942f7"
      },
      "execution_count": 54,
      "outputs": [
        {
          "output_type": "stream",
          "name": "stdout",
          "text": [
            "Fiat Uno\n",
            "Cabem 5 passageiros no Fiat Uno\n"
          ]
        }
      ]
    },
    {
      "cell_type": "code",
      "source": [
        "class Vehicle:\n",
        "    \n",
        "    def __init__(self, type, model, manufacturer, seat_capacity):\n",
        "        self.type = type\n",
        "        self.model = model\n",
        "        self.manufacturer = manufacturer\n",
        "        self.seat_capacity = seat_capacity\n",
        "        \n",
        "        self.n_passengers_onboard = 0\n",
        "        \n",
        "    # Getter methods\n",
        "    \n",
        "    def getModel(self):\n",
        "        return f\"{self.manufacturer} {self.model}\"\n",
        "        \n",
        "    def getSeatCapacity(self):\n",
        "        return self.seat_capacity\n",
        "    \n",
        "    def getNumPassengersOnboard(self):\n",
        "        return self.n_passengers_onboard\n",
        "    \n",
        "    def getNumSeatsAvailable(self):\n",
        "        return self.seat_capacity - self.n_passengers_onboard\n",
        "    \n",
        "    # Setter methods\n",
        "    \n",
        "    def removeAllPassengers(self):\n",
        "        self.n_passengers_onboard = 0\n",
        "        \n",
        "    def embarkPassengers(self, n_passengers_to_embark):\n",
        "        \n",
        "        available_seats = self.getNumSeatsAvailable()\n",
        "        \n",
        "        if available_seats >= n_passengers_to_embark:\n",
        "            self.n_passengers_onboard += n_passengers_to_embark\n",
        "            return f\"Mais {n_passengers_to_embark} passageiros embarcados com sucesso!\"\n",
        "        \n",
        "        else:\n",
        "            return f\"Impossível embarcar mais {n_passengers_to_embark} passageiros! Apenas {available_seats} assentos disponíveis.\"\n",
        "        \n",
        "    def removePassengers(self, n_passengers_to_remove):\n",
        "        \n",
        "        if n_passengers_to_remove <= self.n_passengers_onboard:\n",
        "            self.n_passengers_onboard -= n_passengers_to_remove\n",
        "            return f\"Desembarcaram {n_passengers_to_remove} passageiros\"\n",
        "        \n",
        "        elif self.n_passengers_onboard > 0:\n",
        "            n_passengers_remaining = self.n_passengers_onboard\n",
        "            self.removeAllPassengers()\n",
        "            return f\"Havia apenas {n_passengers_remaining} embarcados! Todos desembarcaram.\"\n",
        "        \n",
        "        else:\n",
        "            return \"Nenhum passageiro a bordo\"        \n",
        "            return self.seat_capacity - self.n_passengers_onboard"
      ],
      "metadata": {
        "id": "F5GOvlE1m6I_"
      },
      "execution_count": 56,
      "outputs": []
    },
    {
      "cell_type": "code",
      "source": [
        "myPlane = Vehicle('plane', \"A320\", \"Airbus\", 180)\n",
        "myCar = Vehicle('car', \"Uno\", \"Fiat\", 5)"
      ],
      "metadata": {
        "id": "i6rYfSGQnA4k"
      },
      "execution_count": 57,
      "outputs": []
    },
    {
      "cell_type": "code",
      "source": [
        "print( myPlane.embarkPassengers(50) )\n",
        "print( f\"{myPlane.getNumPassengersOnboard()} passageiros a bordo\" )\n",
        "print( f\"{myPlane.getNumSeatsAvailable()} assentos disponíveis\" )"
      ],
      "metadata": {
        "colab": {
          "base_uri": "https://localhost:8080/"
        },
        "id": "YmCWj7OgnCX0",
        "outputId": "be7ee597-ec5f-4dda-acf1-40d2278b20f0"
      },
      "execution_count": 58,
      "outputs": [
        {
          "output_type": "stream",
          "name": "stdout",
          "text": [
            "Mais 50 passageiros embarcados com sucesso!\n",
            "50 passageiros a bordo\n",
            "130 assentos disponíveis\n"
          ]
        }
      ]
    },
    {
      "cell_type": "code",
      "source": [
        "print(myPlane.removePassengers(5))\n",
        "print( f\"{myPlane.getNumPassengersOnboard()} passageiros a bordo\" )\n",
        "print( f\"{myPlane.getNumSeatsAvailable()} assentos disponíveis\" )"
      ],
      "metadata": {
        "colab": {
          "base_uri": "https://localhost:8080/"
        },
        "id": "6WAZztLrnDlc",
        "outputId": "93272a82-668f-40e9-eb17-c3a862bc9095"
      },
      "execution_count": 59,
      "outputs": [
        {
          "output_type": "stream",
          "name": "stdout",
          "text": [
            "Desembarcaram 5 passageiros\n",
            "45 passageiros a bordo\n",
            "135 assentos disponíveis\n"
          ]
        }
      ]
    },
    {
      "cell_type": "code",
      "source": [
        "print( myCar.embarkPassengers(5) )\n",
        "print( f\"{myCar.getNumPassengersOnboard()} passageiros a bordo\" )\n",
        "print( f\"{myCar.getNumSeatsAvailable()} assentos disponíveis\" )"
      ],
      "metadata": {
        "colab": {
          "base_uri": "https://localhost:8080/"
        },
        "id": "SKh5NlugnE_U",
        "outputId": "5a882225-94ec-4be1-e8f6-35d73ec69152"
      },
      "execution_count": 60,
      "outputs": [
        {
          "output_type": "stream",
          "name": "stdout",
          "text": [
            "Mais 5 passageiros embarcados com sucesso!\n",
            "5 passageiros a bordo\n",
            "0 assentos disponíveis\n"
          ]
        }
      ]
    },
    {
      "cell_type": "code",
      "source": [
        "print(myCar.removePassengers(5))\n",
        "print( f\"{myCar.getNumPassengersOnboard()} passageiros a bordo\" )\n",
        "print( f\"{myCar.getNumSeatsAvailable()} assentos disponíveis\" )"
      ],
      "metadata": {
        "colab": {
          "base_uri": "https://localhost:8080/"
        },
        "id": "t1o9gErenFzG",
        "outputId": "e111678e-e77c-4fef-ca70-f7d8213d8f28"
      },
      "execution_count": 61,
      "outputs": [
        {
          "output_type": "stream",
          "name": "stdout",
          "text": [
            "Desembarcaram 5 passageiros\n",
            "0 passageiros a bordo\n",
            "5 assentos disponíveis\n"
          ]
        }
      ]
    },
    {
      "cell_type": "code",
      "source": [
        "class Airplane(Vehicle):\n",
        "    def __init__(self, model, manufacturer, airline, seat_capacity):\n",
        "        super().__init__(type='plane',model=model,manufacturer=manufacturer,seat_capacity=seat_capacity)\n",
        "        self.airline = airline\n",
        "        \n",
        "    def takeoff(self):\n",
        "        print(f\"O {self.getModel()} da {self.airline} está decolando com {self.getNumPassengersOnboard()} passageiros\")\n",
        "        \n",
        "        \n",
        "        \n",
        "        \n",
        "        \n",
        "class Car(Vehicle):\n",
        "    def __init__(self, model, manufacturer, seat_capacity):\n",
        "        super().__init__(type='car',model=model,manufacturer=manufacturer,seat_capacity=seat_capacity)\n",
        "        \n",
        "    def embarkPassengers(self, n_passengers_to_embark, name_driver):\n",
        "\n",
        "            available_seats = self.getNumSeatsAvailable()\n",
        "            self.name_driver = name_driver\n",
        "\n",
        "            if available_seats >= n_passengers_to_embark:\n",
        "                self.n_passengers_onboard += n_passengers_to_embark\n",
        "                return f\"Mais {n_passengers_to_embark} passageiros embarcados com sucesso!\"\n",
        "\n",
        "            else:\n",
        "                return f\"Impossível embarcar mais {n_passengers_to_embark} passageiros! Apenas {available_seats} assentos disponíveis.\"\n",
        "\n",
        "        \n",
        "    def drive(self):\n",
        "        if self.getNumPassengersOnboard()>0:\n",
        "            print(f\"O {self.getModel()}, conduzido por {self.name_driver}, está na estrada com {self.getNumPassengersOnboard()} passageiros\")\n",
        "\n",
        "        else:\n",
        "            print(\"Um carro não pode operar sem motorista!\")"
      ],
      "metadata": {
        "id": "DltpprfynIwU"
      },
      "execution_count": 62,
      "outputs": []
    },
    {
      "cell_type": "code",
      "source": [
        "latamPlane = Airplane('A320','Airbus', \"Latam\", 180)\n",
        "\n",
        "print(latamPlane.embarkPassengers(130))\n",
        "latamPlane.takeoff()"
      ],
      "metadata": {
        "colab": {
          "base_uri": "https://localhost:8080/"
        },
        "id": "cCVcmcZ3nKJ9",
        "outputId": "e4c10c99-91da-4533-e9bd-bb7ea728837b"
      },
      "execution_count": 63,
      "outputs": [
        {
          "output_type": "stream",
          "name": "stdout",
          "text": [
            "Mais 130 passageiros embarcados com sucesso!\n",
            "O Airbus A320 da Latam está decolando com 130 passageiros\n"
          ]
        }
      ]
    },
    {
      "cell_type": "code",
      "source": [
        "azulPlane = Airplane('ERJ190','Embraer', \"Azul\", 100)\n",
        "\n",
        "print(azulPlane.embarkPassengers(70))\n",
        "azulPlane.takeoff()"
      ],
      "metadata": {
        "colab": {
          "base_uri": "https://localhost:8080/"
        },
        "id": "M3dxeV2vnLL7",
        "outputId": "9fbb1052-f778-457b-90eb-058dd6a1cb4d"
      },
      "execution_count": 64,
      "outputs": [
        {
          "output_type": "stream",
          "name": "stdout",
          "text": [
            "Mais 70 passageiros embarcados com sucesso!\n",
            "O Embraer ERJ190 da Azul está decolando com 70 passageiros\n"
          ]
        }
      ]
    },
    {
      "cell_type": "code",
      "source": [
        "azulPlane = Airplane('ERJ190','Embraer', \"Azul\", 100)\n",
        "\n",
        "print(azulPlane.embarkPassengers(70))\n",
        "azulPlane.takeoff()"
      ],
      "metadata": {
        "colab": {
          "base_uri": "https://localhost:8080/"
        },
        "id": "ecM52zHKnMCc",
        "outputId": "5ca159ce-2135-4205-f019-4180f79014a1"
      },
      "execution_count": 65,
      "outputs": [
        {
          "output_type": "stream",
          "name": "stdout",
          "text": [
            "Mais 70 passageiros embarcados com sucesso!\n",
            "O Embraer ERJ190 da Azul está decolando com 70 passageiros\n"
          ]
        }
      ]
    }
  ]
}