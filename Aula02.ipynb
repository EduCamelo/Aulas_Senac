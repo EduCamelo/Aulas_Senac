{
  "nbformat": 4,
  "nbformat_minor": 0,
  "metadata": {
    "colab": {
      "provenance": [],
      "authorship_tag": "ABX9TyM1r/LLVn4EANr1C0HNLYmt",
      "include_colab_link": true
    },
    "kernelspec": {
      "name": "python3",
      "display_name": "Python 3"
    },
    "language_info": {
      "name": "python"
    }
  },
  "cells": [
    {
      "cell_type": "markdown",
      "metadata": {
        "id": "view-in-github",
        "colab_type": "text"
      },
      "source": [
        "<a href=\"https://colab.research.google.com/github/EduCamelo/Aulas_Senac/blob/main/Aula02.ipynb\" target=\"_parent\"><img src=\"https://colab.research.google.com/assets/colab-badge.svg\" alt=\"Open In Colab\"/></a>"
      ]
    },
    {
      "cell_type": "code",
      "execution_count": null,
      "metadata": {
        "colab": {
          "base_uri": "https://localhost:8080/"
        },
        "id": "rS3krI5c_87e",
        "outputId": "c9000e14-ebd3-4179-b43b-c5105d36262f"
      },
      "outputs": [
        {
          "output_type": "stream",
          "name": "stdout",
          "text": [
            " Albedo \n",
            " 27 \n",
            " 1.7 \n",
            " Uma doce de pessoa.\n"
          ]
        }
      ],
      "source": [
        "nome = 'Albedo'\n",
        "idade = 27\n",
        "altura = 1.70\n",
        "pwd = True\n",
        "\n",
        "print( ' '+ nome , '\\n', idade, '\\n', altura, '\\n', 'Uma doce de pessoa.', '\\n', pwd)"
      ]
    },
    {
      "cell_type": "code",
      "source": [
        "valor1 = input('Digite um número inteiro:')\n",
        "valor2 = input('Digite outro número inteiro:')\n",
        "\n",
        "print(valor1 == valor2)\n",
        "print(valor1 > valor2)\n",
        "print(valor1 < valor2)\n",
        "print(valor1 >= valor2)\n",
        "print(valor1 <= valor2)"
      ],
      "metadata": {
        "colab": {
          "base_uri": "https://localhost:8080/"
        },
        "id": "QmTi7GpgFojw",
        "outputId": "aeefc7d4-b7a6-4683-8615-9f95934a6e2b"
      },
      "execution_count": null,
      "outputs": [
        {
          "output_type": "stream",
          "name": "stdout",
          "text": [
            "Digite um número inteiro:10\n",
            "Digite outro número inteiro:10\n",
            "True\n",
            "False\n",
            "False\n",
            "True\n",
            "True\n"
          ]
        }
      ]
    },
    {
      "cell_type": "code",
      "source": [
        "numero = 10\n",
        "print(numero>0 and numero<10)"
      ],
      "metadata": {
        "colab": {
          "base_uri": "https://localhost:8080/"
        },
        "id": "i2OpM7RQJ-JA",
        "outputId": "a9bc882a-6e48-4d02-97d5-42f7e9e13c62"
      },
      "execution_count": null,
      "outputs": [
        {
          "output_type": "stream",
          "name": "stdout",
          "text": [
            "False\n"
          ]
        }
      ]
    },
    {
      "cell_type": "code",
      "source": [
        "numero = 10\n",
        "print(numero>0 or numero<10)"
      ],
      "metadata": {
        "colab": {
          "base_uri": "https://localhost:8080/"
        },
        "id": "yIZA2QvRKNQo",
        "outputId": "0fe2c3fc-a5dd-4cc3-a937-98a6cc31b37a"
      },
      "execution_count": null,
      "outputs": [
        {
          "output_type": "stream",
          "name": "stdout",
          "text": [
            "True\n"
          ]
        }
      ]
    },
    {
      "cell_type": "code",
      "source": [
        "if (int(input()) == 10):\n",
        "  print('Você acertou o número!')\n",
        "else:\n",
        "  print('Tente novamente :(')"
      ],
      "metadata": {
        "colab": {
          "base_uri": "https://localhost:8080/"
        },
        "id": "6eq2Px-CK2T9",
        "outputId": "79f56329-2bbc-4f13-e2fc-07683e32bae2"
      },
      "execution_count": null,
      "outputs": [
        {
          "output_type": "stream",
          "name": "stdout",
          "text": [
            "10\n",
            "Você acertou o número!\n"
          ]
        }
      ]
    },
    {
      "cell_type": "code",
      "source": [
        "x = int(input('Digite um número inteiro:'))\n",
        "\n",
        "#Use % para definir se é impar ou par.\n",
        "if x % 2 == 0:\n",
        "  print(x, 'é par.')\n",
        "elif x % 2 != 0:\n",
        "  print(x, 'é impar.')"
      ],
      "metadata": {
        "colab": {
          "base_uri": "https://localhost:8080/"
        },
        "id": "c-PcWpMlL2Wo",
        "outputId": "f9d3246b-dd8b-45f0-d19c-a8758e7cf977"
      },
      "execution_count": null,
      "outputs": [
        {
          "output_type": "stream",
          "name": "stdout",
          "text": [
            "Digite um número inteiro:20\n",
            "20 é par.\n"
          ]
        }
      ]
    },
    {
      "cell_type": "code",
      "source": [
        "x = int(input('Digite um número inteiro:'))\n",
        "\n",
        "#Use % para definir se é impar ou par.\n",
        "if x % 2 == 0:\n",
        "  print(x, 'é par.')\n",
        "else:\n",
        "  print(x, 'é impar.')"
      ],
      "metadata": {
        "id": "sIFURetOPn6k"
      },
      "execution_count": null,
      "outputs": []
    },
    {
      "cell_type": "code",
      "source": [
        "cupom = input('digite o cupom:] ')\n",
        "\n",
        "if (cupom =='aula1' or cupom == 'aula2'):\n",
        "  print('você ganhou 10% de desconto.')\n",
        "else:\n",
        "  print('cupom inválido.')"
      ],
      "metadata": {
        "colab": {
          "base_uri": "https://localhost:8080/"
        },
        "id": "kPIt0jg2RGSI",
        "outputId": "8dd39497-31f9-4f3a-f29d-f5853c66c500"
      },
      "execution_count": null,
      "outputs": [
        {
          "output_type": "stream",
          "name": "stdout",
          "text": [
            "digite o cupom: aula1\n",
            "você ganhou 10% de desconto.\n"
          ]
        }
      ]
    },
    {
      "cell_type": "code",
      "source": [
        "cupom = input('digite o cupom: ')\n",
        "x = 100\n",
        "if (cupom == 'aula1' or cupom == 'aula2'):\n",
        "  print('você ganhou 15% de desconto')\n",
        "  print(x - 15 )\n",
        "elif (cupom != 'aula1' or cupom != 'aula2'):\n",
        "  print('Você ganhou 5% de desconto')\n",
        "  print(x - 5)\n",
        "print('glória á rainha')"
      ],
      "metadata": {
        "colab": {
          "base_uri": "https://localhost:8080/"
        },
        "id": "-DacnMbATtbQ",
        "outputId": "234cdfd7-7a55-4cd3-bfd3-cb65ea73173e"
      },
      "execution_count": null,
      "outputs": [
        {
          "output_type": "stream",
          "name": "stdout",
          "text": [
            "digite o cupom: a\n",
            "Você ganhou 5% de desconto\n",
            "95\n",
            "glória á rainha\n"
          ]
        }
      ]
    },
    {
      "cell_type": "code",
      "source": [
        "cupom = input('digite o cupom: ')\n",
        "x = 100\n",
        "if (cupom == 'aula1'):\n",
        "  print('você ganhou 15% de desconto')\n",
        "  print(x - 15 )\n",
        "elif (cupom == 'aula2'):\n",
        "  print('Você ganhou 10% de desconto')\n",
        "  print(x - 10 )\n",
        "else:\n",
        "  print('você ganhou 5% de desconto')\n",
        "  print(x - 5 )\n",
        "print('Finalizado')"
      ],
      "metadata": {
        "colab": {
          "base_uri": "https://localhost:8080/"
        },
        "id": "wQcKJR0BWUBE",
        "outputId": "d92438a4-1071-4654-baae-47d870f5448b"
      },
      "execution_count": null,
      "outputs": [
        {
          "output_type": "stream",
          "name": "stdout",
          "text": [
            "digite o cupom: lk\n",
            "você ganhou 5% de desconto\n",
            "95\n",
            "Finalizado\n"
          ]
        }
      ]
    },
    {
      "cell_type": "code",
      "source": [
        "if (1 == 1):\n",
        "  print ('mensagem no segundo nível.')\n",
        "  if((1 == 2) == False):\n",
        "    print('Mensagem no tericeiro nìvel.')\n",
        "    if(10 > 5):\n",
        "      print('Cabo tamo junto.')"
      ],
      "metadata": {
        "colab": {
          "base_uri": "https://localhost:8080/"
        },
        "id": "MrKKjFlQYfsg",
        "outputId": "59bf7a35-b010-4ff3-bad2-ab4053c09492"
      },
      "execution_count": null,
      "outputs": [
        {
          "output_type": "stream",
          "name": "stdout",
          "text": [
            "mensagem no segundo nível.\n",
            "Mensagem no tericeiro nìvel.\n",
            "Cabo tamo junto.\n"
          ]
        }
      ]
    },
    {
      "cell_type": "code",
      "source": [
        "sol = input('Está sol hoje? ')\n",
        "dinheiro = input('Está com dinheiro? ')\n",
        "if (sol == 'sim' and dinheiro == 'sim'):\n",
        "  print('go to the beach')\n",
        "else:\n",
        "  print('Vamo de netflix')"
      ],
      "metadata": {
        "colab": {
          "base_uri": "https://localhost:8080/"
        },
        "id": "jb7ZndRHZDMw",
        "outputId": "304626a8-3ef0-4b9d-f8d2-32a1dfaf7fdd"
      },
      "execution_count": null,
      "outputs": [
        {
          "output_type": "stream",
          "name": "stdout",
          "text": [
            "Está sol hoje? sim\n",
            "Está com dinheiro? sim\n",
            "go to the beach\n"
          ]
        }
      ]
    },
    {
      "cell_type": "code",
      "source": [
        "sol = input('Está sol hoje? ')\n",
        "dinheiro = input('Está com dinheiro? ')\n",
        "if (sol == 'sim' or dinheiro == 'sim'):\n",
        "  print('go to the beach')\n",
        "else:\n",
        "  print('Vamo de netflix')"
      ],
      "metadata": {
        "colab": {
          "base_uri": "https://localhost:8080/"
        },
        "id": "u_FERwKGaq-J",
        "outputId": "fb3d28cb-9c76-4b29-885e-f754a51be9d8"
      },
      "execution_count": null,
      "outputs": [
        {
          "output_type": "stream",
          "name": "stdout",
          "text": [
            "Está sol hoje? nao\n",
            "Está com dinheiro? nao\n",
            "Vamo de netflix\n"
          ]
        }
      ]
    },
    {
      "cell_type": "code",
      "source": [
        "sol = input('Está sol hoje? ')\n",
        "dinheiro = input('Está com dinheiro? ')\n",
        "if (sol == 'sim'):\n",
        "  if(dinheiro == 'sim'):\n",
        "    print('go to the beach')\n",
        "else:\n",
        "  print('Vamo de netflix')"
      ],
      "metadata": {
        "colab": {
          "base_uri": "https://localhost:8080/"
        },
        "id": "bg09uv8Qe3to",
        "outputId": "c30f6475-db83-45e2-e526-5b43866c6946"
      },
      "execution_count": null,
      "outputs": [
        {
          "output_type": "stream",
          "name": "stdout",
          "text": [
            "Está sol hoje? Sim\n",
            "Está com dinheiro? nao]\n",
            "Vamo de netflix\n"
          ]
        }
      ]
    },
    {
      "cell_type": "code",
      "source": [
        "sol = input('Está sol hoje? ')\n",
        "if (sol == 'sim'):\n",
        "  dinheiro = input('Está com dinheiro? ')\n",
        "  if(dinheiro == 'sim'):\n",
        "    print('go to the beach')\n",
        "  else:\n",
        "    print('Vamo de netflix ') \n",
        "else:\n",
        "  print('Chove chuva, chove sem parar.')"
      ],
      "metadata": {
        "colab": {
          "base_uri": "https://localhost:8080/"
        },
        "id": "unWcCMfoh91_",
        "outputId": "6a49995c-40c3-494a-ef34-bcac6313278d"
      },
      "execution_count": null,
      "outputs": [
        {
          "output_type": "stream",
          "name": "stdout",
          "text": [
            "Está sol hoje? nao\n",
            "Chove chuva, chove sem parar.\n"
          ]
        }
      ]
    },
    {
      "cell_type": "code",
      "source": [
        "ano = int(input('digite o ano do carro:'))\n",
        "valor = int(input('digite o valor do carro'))\n",
        "\n",
        "if (ano < 1990):\n",
        "  print('A taxa vai ficar no valor de :', (valor * 0.01))\n",
        "elif (ano >= 1990):\n",
        "  print('A taxa vai ficar no valor de :', (valor * 0.015))"
      ],
      "metadata": {
        "colab": {
          "base_uri": "https://localhost:8080/"
        },
        "id": "Dzlth3Yhmygn",
        "outputId": "0d723c44-d9e3-4d37-f0b7-d15e05e4a3fb"
      },
      "execution_count": null,
      "outputs": [
        {
          "output_type": "stream",
          "name": "stdout",
          "text": [
            "digite o ano do carro:1989\n",
            "digite o valor do carro100000000000000\n",
            "A taxa vai ficar no valor de : 1000000000000.0\n"
          ]
        }
      ]
    },
    {
      "cell_type": "code",
      "source": [
        "x =  float(input('Digite seu salário atual: R$'))\n",
        "y = input('Digite o código ou nome do seu cargo :')\n",
        "z = 0\n",
        "\n",
        "if ((y == '101') or (y == 'gerente')):\n",
        "  z = (x * 0.1) + x\n",
        "elif ((y == '102') or (y == 'engenheiro' )):\n",
        "  z = (x * 0.2) + x\n",
        "elif ((y == '103') or (y == 'técnico') or (y == 'tecnico')):\n",
        "  z = (x * 0.3) + x\n",
        "else:\n",
        "  z = (x * 0.4) + x\n",
        "print(' Seu salário era de: R$', x , '\\n','Você receberá do aumento: R$', z - x  ,'\\n', 'Agora, você receberá no total: R$', z)"
      ],
      "metadata": {
        "colab": {
          "base_uri": "https://localhost:8080/"
        },
        "id": "JA3XSWTtPvY2",
        "outputId": "ca8b67bb-5af5-4336-c35d-94f64ee9cc5d"
      },
      "execution_count": null,
      "outputs": [
        {
          "output_type": "stream",
          "name": "stdout",
          "text": [
            "Digite seu salário atual:100\n",
            "Digite o código do seu cargo:101\n",
            " Seu salário era de: R$ 100 \n",
            " Você receberá do aumento: R$ 10.0 \n",
            " Agora, você receberá no total: R$ 110.0\n"
          ]
        }
      ]
    },
    {
      "cell_type": "code",
      "source": [
        "x = int(input('Digite seu saldo médio: '))\n",
        "\n",
        "if (x >= 0) and (x <= 200):\n",
        "  print('Infelizmente, você não ganhará créditos.')\n",
        "elif (x >= 201) and (x <= 400):\n",
        "  print('Seu saldo era de: R$', x , '\\n' ,'Seu crédito será igual à: R$', (x * 0.2) + x)\n",
        "elif (x >= 401) and (x <= 600):\n",
        "  print('Seu saldo era de: R$', x , '\\n' ,'Seu crédito será igual à: R$',  (x * 0.3) + x)\n",
        "elif x >= 601:\n",
        "  print('Seu saldo era de: R$', x , '\\n' ,'Seu crédito será igual à: R$', (x * 0.4) + x)\n",
        "\n",
        "#Por que não usar o else? Se o valor fosse negativo, a pessoa ainda cairia nos 40%\n"
      ],
      "metadata": {
        "colab": {
          "base_uri": "https://localhost:8080/"
        },
        "id": "tarA11JxSdtO",
        "outputId": "39d39658-c146-4b07-849d-e2a48858fd54"
      },
      "execution_count": null,
      "outputs": [
        {
          "output_type": "stream",
          "name": "stdout",
          "text": [
            "Digite seu saldo médio700\n",
            "Seu saldo era de: R$ 700 \n",
            " Seu crédito será igual à: R$ 980.0\n"
          ]
        }
      ]
    },
    {
      "cell_type": "code",
      "source": [
        "#Input do saldos de cada mês\n",
        "jan   = float(input(\"informe o saldo de janeiro: R$ \"))\n",
        "fev   = float(input(\"informe o saldo de fevereiro: R$ \"))\n",
        "mar   = float(input(\"informe o saldo de março: R$ \"))\n",
        "abr   = float(input(\"informe o saldo de abril: R$ \"))\n",
        "mai   = float(input(\"informe o saldo de maio: R$\"))\n",
        "jun   = float(input(\"informe o saldo de junho:R$ \"))\n",
        "jul   = float(input(\"informe o saldo de julho:R$ \"))\n",
        "ago   = float(input(\"informe o saldo de agosto:R$ \"))\n",
        "setem = float(input(\"informe o saldo de setembro:R$ \"))\n",
        "out   = float(input(\"informe o saldo de outubro:R$ \"))\n",
        "nov   = float(input(\"informe o saldo de novembro:R$ \"))\n",
        "dez   = float(input(\"informe o saldo de dezembro:R$ \"))\n",
        "\n",
        "#Cálculo requisitado para pegar a média anual\n",
        "saldoA = (jan + fev + mar + abr + mai + jun + jul + ago + setem + out + nov + dez)/12\n",
        "\n",
        "#Cálculo do crédito + mensagem final\n",
        "if (saldoA >= 0) and (saldoA <= 200):\n",
        "  print('Infelizmente, você não ganhará créditos.')\n",
        "elif (saldoA >= 201) and (saldoA <= 400):\n",
        "  print('Seu saldo médio era de: R$', saldoA , '\\n' ,'Seu crédito será igual à: R$', (saldoA * 0.2) + saldoA)\n",
        "elif (saldoA >= 401) and (saldoA <= 600):\n",
        "  print('Seu saldo médio era de: R$', saldoA , '\\n' ,'Seu crédito será igual à: R$',  (saldoA * 0.3) + saldoA)\n",
        "elif saldoA >= 601:\n",
        "  print('Seu saldo médio era de: R$', saldoA , '\\n' ,'Seu crédito será igual à: R$', (saldoA * 0.4) + saldoA)44\n"
      ],
      "metadata": {
        "colab": {
          "base_uri": "https://localhost:8080/"
        },
        "id": "RsO_bJ_tOCww",
        "outputId": "dd3d95eb-271a-4dd5-f7d0-23708714e122"
      },
      "execution_count": 2,
      "outputs": [
        {
          "output_type": "stream",
          "name": "stdout",
          "text": [
            "informe o saldo de janeiro: R$ 400\n",
            "informe o saldo de fevereiro: R$ 400\n",
            "informe o saldo de março: R$ 400\n",
            "informe o saldo de abril: R$ 400\n",
            "informe o saldo de maio: R$400\n",
            "informe o saldo de junho:R$ 400\n",
            "informe o saldo de julho:R$ 400\n",
            "informe o saldo de agosto:R$ 400\n",
            "informe o saldo de setembro:R$ 400\n",
            "informe o saldo de outubro:R$ 400\n",
            "informe o saldo de novembro:R$ 400\n",
            "informe o saldo de dezembro:R$ 400\n",
            "Seu saldo médio era de: R$ 400.0 \n",
            " Seu crédito será igual à: R$ 480.0\n"
          ]
        }
      ]
    },
    {
      "cell_type": "code",
      "source": [
        "#Input dos números quaisquer\n",
        "a = int(input('Digite qualquer número:'))\n",
        "b = int(input('Digite qualquer número:'))\n",
        "c = int(input('Digite qualquer número:'))\n",
        "d = int(input('Digite qualquer número:'))\n",
        "e = int(input('Digite qualquer número:'))\n",
        "z = 0\n",
        "y = 0\n",
        "\n",
        "# Descobrindo quem é o maior\n",
        "if (a > b) and (a > c) and (a > d) and (a > e):\n",
        "    z = a\n",
        "elif (b > c) and (b > d) and (b > e):\n",
        "    z = b\n",
        "elif (c > d ) and (c > e):\n",
        "    z = c\n",
        "elif (d > e):\n",
        "    z = d\n",
        "else:\n",
        "    z = e\n",
        "# Descobrindo quem é o menor\n",
        "if (a < b) and (a < c) and (a < d) and (a < e):\n",
        "    y = a\n",
        "if (b < c) and (b < d) and (b < e):\n",
        "    y = b\n",
        "elif (c < d ) and (c < e):\n",
        "    y = c\n",
        "elif (d < e):\n",
        "    y = d\n",
        "else:\n",
        "    y = e\n",
        "# Resultado\n",
        "print(z , ' é o maior número.')\n",
        "print(y , ' é o menor número.')     "
      ],
      "metadata": {
        "colab": {
          "base_uri": "https://localhost:8080/"
        },
        "id": "4rHjlll5U8rF",
        "outputId": "591e254d-cdb5-46bb-e05c-73f4a347e225"
      },
      "execution_count": null,
      "outputs": [
        {
          "output_type": "stream",
          "name": "stdout",
          "text": [
            "20\n",
            "10\n",
            "9\n",
            "3\n",
            "2\n",
            "20  é o maior número.\n",
            "2  é o menor número.\n"
          ]
        }
      ]
    }
  ]
}