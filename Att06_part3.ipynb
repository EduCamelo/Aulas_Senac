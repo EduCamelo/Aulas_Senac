{
  "nbformat": 4,
  "nbformat_minor": 0,
  "metadata": {
    "colab": {
      "provenance": [],
      "authorship_tag": "ABX9TyP8QQ1oWMvm9S6GXghPl62J",
      "include_colab_link": true
    },
    "kernelspec": {
      "name": "python3",
      "display_name": "Python 3"
    },
    "language_info": {
      "name": "python"
    }
  },
  "cells": [
    {
      "cell_type": "markdown",
      "metadata": {
        "id": "view-in-github",
        "colab_type": "text"
      },
      "source": [
        "<a href=\"https://colab.research.google.com/github/EduCamelo/Aulas_Senac/blob/main/Att06_part3.ipynb\" target=\"_parent\"><img src=\"https://colab.research.google.com/assets/colab-badge.svg\" alt=\"Open In Colab\"/></a>"
      ]
    },
    {
      "cell_type": "code",
      "execution_count": 4,
      "metadata": {
        "colab": {
          "base_uri": "https://localhost:8080/"
        },
        "id": "d37ZrMaSfZvl",
        "outputId": "2d03fdb7-c6d5-4ac9-fe1c-3ae27fbe6029"
      },
      "outputs": [
        {
          "output_type": "stream",
          "name": "stdout",
          "text": [
            "<__main__.Filme object at 0x7f829d3e6c90>\n"
          ]
        }
      ],
      "source": [
        "class Filme:\n",
        "  pass\n",
        "snowden = Filme()\n",
        "print(snowden)"
      ]
    },
    {
      "cell_type": "code",
      "source": [
        "class Filme:\n",
        "  def __init__(self, nome, ano, duracao):\n",
        "    self.nome = nome\n",
        "    self.ano = ano\n",
        "    self.duracao = duracao\n",
        "\n",
        "snowden = Filme('Snowden: herói ou vilão', 2018, 160)\n",
        "print(snowden.nome)"
      ],
      "metadata": {
        "id": "SamXk69ff0Ds"
      },
      "execution_count": null,
      "outputs": []
    },
    {
      "cell_type": "code",
      "source": [
        "class Filme:\n",
        "  def __init__(self, nome, ano, duracao):\n",
        "    self.nome = nome\n",
        "    self.ano = ano\n",
        "    self.duracao = duracao\n",
        "\n",
        "class Serie:\n",
        "  def __init__(self, nome, ano, temporadas):\n",
        "    self.nome = nome\n",
        "    self.ano = ano\n",
        "    self.temporadas = temporadas\n",
        "\n",
        "snowden = Filme('Snowden: herói ou vilão', 2018, 160)\n",
        "print(snowden.nome)"
      ],
      "metadata": {
        "colab": {
          "base_uri": "https://localhost:8080/"
        },
        "id": "ddolJBwPf9E1",
        "outputId": "ea8f2c0f-bf8b-46a0-fbe8-f7d11fd692a9"
      },
      "execution_count": 10,
      "outputs": [
        {
          "output_type": "stream",
          "name": "stdout",
          "text": [
            "Snowden: herói ou vilão\n"
          ]
        }
      ]
    },
    {
      "cell_type": "code",
      "source": [
        "snowden = Filme('Snowden: herói ou vilão', 2018, 160)\n",
        "print(f'Nome: {snowden.nome} - Ano: {snowden.ano} - Temporadas: {snowden.duracao}')\n",
        "\n",
        "blackMirror = Serie('Black Mirror', 2018, 2)\n",
        "print(f'Nome: {blackMirror.nome} - Ano: {blackMirror.ano} - Temporadas: {blackMirror.temporadas}')"
      ],
      "metadata": {
        "colab": {
          "base_uri": "https://localhost:8080/"
        },
        "id": "0DohisY_go98",
        "outputId": "4aaa4960-eed9-4e79-9c53-b809cd39f4a0"
      },
      "execution_count": 13,
      "outputs": [
        {
          "output_type": "stream",
          "name": "stdout",
          "text": [
            "Nome: Snowden: herói ou vilão - Ano: 2018 - Temporadas: 160\n",
            "Nome: Black Mirror - Ano: 2018 - Temporadas: 2\n"
          ]
        }
      ]
    },
    {
      "cell_type": "code",
      "source": [
        "class Filme:\n",
        "  def __init__(self, nome, ano, duracao):\n",
        "    self.nome = nome.capitalize()\n",
        "    self.ano = ano\n",
        "    self.duracao = duracao\n",
        "\n",
        "class Filme:\n",
        "  def __init__(self, nome, ano, duracao):\n",
        "    self.nome = nome.title()\n",
        "    self.ano = ano\n",
        "    self.duracao = duracao\n",
        "\n",
        "class Serie:\n",
        "  def __init__(self, nome, ano, temporadas):\n",
        "    self.nome = nome.title()\n",
        "    self.ano = ano\n",
        "    self.temporadas = temporadas"
      ],
      "metadata": {
        "id": "M0EDaf6thJSs"
      },
      "execution_count": 14,
      "outputs": []
    },
    {
      "cell_type": "code",
      "source": [
        "class Filme:\n",
        "  def __init__(self, nome, ano, duracao):\n",
        "    self.nome = nome.title()\n",
        "    self.ano = ano\n",
        "    self.duracao = duracao\n",
        "  def dar_like(self):\n",
        "    self.likes += 1"
      ],
      "metadata": {
        "id": "2TC5AafvhZAs"
      },
      "execution_count": 15,
      "outputs": []
    },
    {
      "cell_type": "code",
      "source": [
        "class Filme:\n",
        "  def __init__(self, nome, ano, duracao):\n",
        "    self.nome = nome.title()\n",
        "    self.ano = ano\n",
        "    self.duracao = duracao\n",
        "    self.likes = 0\n",
        "  def dar_like(self):\n",
        "    self.likes += 1"
      ],
      "metadata": {
        "id": "8xZgje8_hcz7"
      },
      "execution_count": 16,
      "outputs": []
    },
    {
      "cell_type": "code",
      "source": [
        "class Serie:\n",
        "  def __init__(self, nome, ano, temporadas):\n",
        "    self.nome = nome.title()\n",
        "    self.ano = ano\n",
        "    self.temporadas = temporadas\n",
        "    self.likes = 0\n",
        "  def dar_like(self):\n",
        "    self.likes += 1"
      ],
      "metadata": {
        "id": "l-VnMkmchn7r"
      },
      "execution_count": 17,
      "outputs": []
    },
    {
      "cell_type": "code",
      "source": [
        "snowden = Filme('Snowden: herói ou vilão', 2018, 160)\n",
        "print(f'Nome: {snowden.nome} - Ano: {snowden.ano} - Temporadas: {snowden.duracao} - Likes: {snowden.likes}')\n",
        "\n",
        "blackMirror = Serie('Black Mirror', 2018, 2)\n",
        "print(f'Nome: {blackMirror.nome} - Ano: {blackMirror.ano} - Temporadas: {blackMirror.temporadas} - Likes: {blackMirror.likes}')"
      ],
      "metadata": {
        "colab": {
          "base_uri": "https://localhost:8080/"
        },
        "id": "4D1_FWjZhulT",
        "outputId": "07f261fd-c2e4-4560-bd74-4bf1170c632d"
      },
      "execution_count": 19,
      "outputs": [
        {
          "output_type": "stream",
          "name": "stdout",
          "text": [
            "Nome: Snowden: Herói Ou Vilão - Ano: 2018 - Temporadas: 160 - Likes: 0\n",
            "Nome: Black Mirror - Ano: 2018 - Temporadas: 2 - Likes: 0\n"
          ]
        }
      ]
    },
    {
      "cell_type": "code",
      "source": [
        "blackMirror = Serie('blackMirror', 2018, 2)\n",
        "blackMirror.nome = 'blackMirror'\n",
        "blackMirror.dar_like()\n",
        "blackMirror.dar_like()\n",
        "print(f'Nome: {blackMirror.nome} - Ano: {blackMirror.ano} '\n",
        "f'- Temporadas: {blackMirror.temporadas} - Likes: {blackMirror.likes}')"
      ],
      "metadata": {
        "colab": {
          "base_uri": "https://localhost:8080/"
        },
        "id": "tivpSGeSiH2c",
        "outputId": "5c8a94e9-0b9c-4f26-8ef4-ae16d76bafef"
      },
      "execution_count": 21,
      "outputs": [
        {
          "output_type": "stream",
          "name": "stdout",
          "text": [
            "Nome: blackMirror - Ano: 2018 - Temporadas: 2 - Likes: 2\n"
          ]
        }
      ]
    },
    {
      "cell_type": "code",
      "source": [
        "class Filme:\n",
        "  def __init__(self, nome, ano, duracao):\n",
        "    self.nome = nome.title()\n",
        "    self.ano = ano\n",
        "    self.duracao = duracao\n",
        "    self.likes = 0\n",
        "  def dar_like(self):\n",
        "    self.likes += 1"
      ],
      "metadata": {
        "id": "75rPgIsHiOZz"
      },
      "execution_count": 22,
      "outputs": []
    },
    {
      "cell_type": "code",
      "source": [
        "class Filme:\n",
        "  \n",
        "  def __init__(self, nome, ano, duracao):\n",
        "    self.__nome = nome.title()\n",
        "    self.ano = ano\n",
        "    self.duracao = duracao\n",
        "    self.__likes = 0\n",
        "\n",
        "  def dar_like(self):\n",
        "    self.likes += 1"
      ],
      "metadata": {
        "id": "LlXAliPkiVCs"
      },
      "execution_count": 24,
      "outputs": []
    },
    {
      "cell_type": "code",
      "source": [
        "blackMirror = Serie('blackMirror', 2018, 2)\n",
        "blackMirror.nome = 'blackMirror'\n",
        "blackMirror.dar_like()\n",
        "blackMirror.dar_like()\n",
        "print(f'Nome: {blackMirror.nome} - Ano: {blackMirror.ano} '\n",
        "f'- Temporadas: {blackMirror.temporadas} - Likes: {blackMirror.likes}')"
      ],
      "metadata": {
        "colab": {
          "base_uri": "https://localhost:8080/"
        },
        "id": "lIPhxX29ib_r",
        "outputId": "5ffd80b3-126d-4ca8-cc46-4e4156b4a988"
      },
      "execution_count": 26,
      "outputs": [
        {
          "output_type": "stream",
          "name": "stdout",
          "text": [
            "Nome: blackMirror - Ano: 2018 - Temporadas: 2 - Likes: 2\n"
          ]
        }
      ]
    },
    {
      "cell_type": "code",
      "source": [
        "class Filme:\n",
        "  def __init__(self, nome, ano, duracao):\n",
        "    self.__nome = nome.title()\n",
        "    self.ano = ano\n",
        "    self.duracao = duracao\n",
        "    self.__likes = 0\n",
        "  @property\n",
        "  def likes(self):\n",
        "    return self.__likes\n",
        "  def dar_like(self):\n",
        "    self.__likes += 1"
      ],
      "metadata": {
        "id": "XYBWIKbvirmL"
      },
      "execution_count": 36,
      "outputs": []
    },
    {
      "cell_type": "code",
      "source": [
        "  def dar_likes(self):\n",
        "    self.__likes += 1\n",
        "  @property\n",
        "  def nome(self):\n",
        "    return self.__nome"
      ],
      "metadata": {
        "id": "5tUsWBtvizqb"
      },
      "execution_count": 37,
      "outputs": []
    },
    {
      "cell_type": "code",
      "source": [
        "  @nome.setter\n",
        "  def nome(self, novo_nome):\n",
        "    self.__nome = novo_nome.title()"
      ],
      "metadata": {
        "id": "mf6WbfNfi8G8"
      },
      "execution_count": 38,
      "outputs": []
    },
    {
      "cell_type": "code",
      "source": [
        "class Pessoa:\n",
        "  tamanho_cpf = 11\n",
        "  def __init__(self, cpf, nome):\n",
        "    self.cpf = cpf\n",
        "    self.nome = nome\n",
        "  def valida_cpf(self):\n",
        "    return True if len(self.cpf) == __class__.tamanho_cpf else False\n",
        "\n",
        "pe = Pessoa('00000000001', 'Camila')\n",
        "print(pe.valida_cpf())\n",
        "pe = Pessoa('0000000000', 'Suely')\n",
        "print(pe.valida_cpf())"
      ],
      "metadata": {
        "colab": {
          "base_uri": "https://localhost:8080/"
        },
        "id": "cExmPQiEjiJs",
        "outputId": "0fa5da94-b0c8-410b-c171-5a4b974a57a8"
      },
      "execution_count": 39,
      "outputs": [
        {
          "output_type": "stream",
          "name": "stdout",
          "text": [
            "True\n",
            "False\n"
          ]
        }
      ]
    },
    {
      "cell_type": "code",
      "source": [
        "class Pessoa:\n",
        "  tamanho_cpf = 11\n",
        "p = Pessoa()\n",
        "print(p.tamanho_cpf)\n",
        "p.tamanho_cpf = 12\n",
        "print(p.tamanho_cpf)\n",
        "print(Pessoa.tamanho_cpf)"
      ],
      "metadata": {
        "colab": {
          "base_uri": "https://localhost:8080/"
        },
        "id": "K2DmsH4Zjtss",
        "outputId": "bec5ea85-46b9-4e2a-cdb1-0fde090f4461"
      },
      "execution_count": 41,
      "outputs": [
        {
          "output_type": "stream",
          "name": "stdout",
          "text": [
            "11\n",
            "12\n",
            "11\n"
          ]
        }
      ]
    },
    {
      "cell_type": "code",
      "source": [
        "class Filme:\n",
        "  def __init__(self, nome, ano, duracao):\n",
        "    self.__nome = nome.title()\n",
        "    self.ano = ano\n",
        "    self.duracao = duracao\n",
        "    self.__likes = 0\n",
        "  @property\n",
        "  def likes(self):\n",
        "    return self.__likes\n",
        "  def dar_likes(self):\n",
        "    self.__likes += 1\n",
        "  @property\n",
        "  def nome(self):\n",
        "    return self.__nome\n",
        "  @nome.setter\n",
        "  def nome(self, novo_nome):\n",
        "    self.__nome = novo_nome.title()\n",
        "\n",
        "class Serie:\n",
        "  def __init__(self, nome, ano, temporadas):\n",
        "    self.__nome = nome.title()\n",
        "    self.ano = ano\n",
        "    self.temporadas = temporadas\n",
        "    self.__likes = 0\n",
        "  @property\n",
        "  def likes(self):\n",
        "    return self.__likes\n",
        "  def dar_likes(self):\n",
        "    self.__likes += 1\n",
        "  @property\n",
        "  def nome(self):\n",
        "    return self.__nome\n",
        "  @nome.setter\n",
        "  def nome(self, novo_nome):\n",
        "    self.__nome = novo_nome.title()"
      ],
      "metadata": {
        "id": "rwSM_J4GjwtM"
      },
      "execution_count": 43,
      "outputs": []
    },
    {
      "cell_type": "code",
      "source": [
        "vingadores = Filme('vingadores - guerra infinita', 2018, 160)\n",
        "print(vingadores.nome)\n",
        "atlanta = Serie('atlanta', 2018, 2)\n",
        "print(f'Nome: {atlanta.nome} - Ano: {atlanta.ano}')"
      ],
      "metadata": {
        "colab": {
          "base_uri": "https://localhost:8080/"
        },
        "id": "ffWNjJPzj1jV",
        "outputId": "40330603-869a-4aff-b5a0-4c4c71ac3b0d"
      },
      "execution_count": 44,
      "outputs": [
        {
          "output_type": "stream",
          "name": "stdout",
          "text": [
            "Vingadores - Guerra Infinita\n",
            "Nome: Atlanta - Ano: 2018\n"
          ]
        }
      ]
    },
    {
      "cell_type": "code",
      "source": [
        "class Programa:\n",
        "  def __init__(self, nome, ano):\n",
        "    self.__nome = nome.title()\n",
        "    self.ano = ano\n",
        "    self.__like = 0\n",
        "    @property\n",
        "    def likes(self):\n",
        "      return self.__likes\n",
        "    def dar_likes(self):\n",
        "      self.__likes += 1\n",
        "    @property\n",
        "    def nome(self):\n",
        "      return self.__nome\n",
        "    @nome.setter\n",
        "    def nome(self, novo_nome):\n",
        "      self.__nome = novo_nome.title()"
      ],
      "metadata": {
        "id": "pNFPC9WpkMTf"
      },
      "execution_count": 45,
      "outputs": []
    }
  ]
}