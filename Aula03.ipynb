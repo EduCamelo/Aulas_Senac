{
  "nbformat": 4,
  "nbformat_minor": 0,
  "metadata": {
    "colab": {
      "provenance": [],
      "collapsed_sections": [],
      "authorship_tag": "ABX9TyPfV3+lxugeEIPnnAHqO1jz",
      "include_colab_link": true
    },
    "kernelspec": {
      "name": "python3",
      "display_name": "Python 3"
    },
    "language_info": {
      "name": "python"
    }
  },
  "cells": [
    {
      "cell_type": "markdown",
      "metadata": {
        "id": "view-in-github",
        "colab_type": "text"
      },
      "source": [
        "<a href=\"https://colab.research.google.com/github/EduCamelo/Aulas_Senac/blob/main/Aula03.ipynb\" target=\"_parent\"><img src=\"https://colab.research.google.com/assets/colab-badge.svg\" alt=\"Open In Colab\"/></a>"
      ]
    },
    {
      "cell_type": "code",
      "execution_count": 4,
      "metadata": {
        "colab": {
          "base_uri": "https://localhost:8080/"
        },
        "id": "Wd6q6oNF3Mzm",
        "outputId": "b1f4b9ed-7278-41e1-a258-f95d1f2a2a33"
      },
      "outputs": [
        {
          "output_type": "stream",
          "name": "stdout",
          "text": [
            "3\n"
          ]
        },
        {
          "output_type": "execute_result",
          "data": {
            "text/plain": [
              "[3, 1, 10]"
            ]
          },
          "metadata": {},
          "execution_count": 4
        }
      ],
      "source": [
        "#EduCamelo\n",
        "#Criando listas\n",
        "#Para criar uma lista: x = []\n",
        "dias = [ 3 , 1 , 10]\n",
        "print(dias[0])\n",
        "dias"
      ]
    },
    {
      "cell_type": "code",
      "source": [
        "z = [3 , 8 , 9]\n",
        "z[0] = 7\n",
        "z"
      ],
      "metadata": {
        "colab": {
          "base_uri": "https://localhost:8080/"
        },
        "id": "fh5gO2Tz4t4H",
        "outputId": "d4fc3be3-4288-462a-b072-abbc60ee3c35"
      },
      "execution_count": 3,
      "outputs": [
        {
          "output_type": "execute_result",
          "data": {
            "text/plain": [
              "[7, 8, 9]"
            ]
          },
          "metadata": {},
          "execution_count": 3
        }
      ]
    },
    {
      "cell_type": "code",
      "source": [
        "a = [81 , 82, 83]\n",
        "b = a[:]\n",
        "print(a == b)\n",
        "print(a is b)\n",
        "b[0] = 5\n",
        "print(a)\n",
        "print(b)"
      ],
      "metadata": {
        "colab": {
          "base_uri": "https://localhost:8080/"
        },
        "id": "iI4MvP2z4_GQ",
        "outputId": "b3e15391-e2d9-462c-f682-c946fbf3e61d"
      },
      "execution_count": 7,
      "outputs": [
        {
          "output_type": "stream",
          "name": "stdout",
          "text": [
            "True\n",
            "False\n",
            "[81, 82, 83]\n",
            "[5, 82, 83]\n"
          ]
        }
      ]
    },
    {
      "cell_type": "code",
      "source": [
        "uma_lista =['a','b','c','d','e','f']\n",
        "print(uma_lista[1:3])\n",
        "print(uma_lista[:4])\n",
        "print(uma_lista[3:])\n",
        "print(uma_lista[:])"
      ],
      "metadata": {
        "colab": {
          "base_uri": "https://localhost:8080/"
        },
        "id": "f8exQCnx571t",
        "outputId": "82e683d5-2cfd-4172-bba0-a1c757fe3442"
      },
      "execution_count": 8,
      "outputs": [
        {
          "output_type": "stream",
          "name": "stdout",
          "text": [
            "['b', 'c']\n",
            "['a', 'b', 'c', 'd']\n",
            "['d', 'e', 'f']\n",
            "['a', 'b', 'c', 'd', 'e', 'f']\n"
          ]
        }
      ]
    },
    {
      "cell_type": "code",
      "source": [
        "a = [1 , 2 , 3, 'albedo']\n",
        "b = a[:]\n",
        "b[0] = 5\n",
        "print(a[3])"
      ],
      "metadata": {
        "colab": {
          "base_uri": "https://localhost:8080/"
        },
        "id": "tdiv9TvK7BV5",
        "outputId": "9d7301c0-76c7-46f9-f8ea-6bb9d679ef5b"
      },
      "execution_count": 10,
      "outputs": [
        {
          "output_type": "stream",
          "name": "stdout",
          "text": [
            "albedo\n"
          ]
        }
      ]
    },
    {
      "cell_type": "code",
      "source": [
        "#             0     1      2    3     4    5\n",
        "minhaLista = [76 , 92.3 , 'oi', True, 4 , 76]\n",
        "minhaLista[4] = 'pitomba'\n",
        "minhaLista[5] = 76\n",
        "minhaLista[3] = 'Cibele'\n",
        "minhaLista[0] = 99\n",
        "print(minhaLista[2])\n",
        "\n",
        "minhaLista"
      ],
      "metadata": {
        "colab": {
          "base_uri": "https://localhost:8080/"
        },
        "id": "miOS7FxF74PQ",
        "outputId": "2435e7bd-c216-41c6-ebcb-0315f9ee0818"
      },
      "execution_count": 14,
      "outputs": [
        {
          "output_type": "stream",
          "name": "stdout",
          "text": [
            "oi\n",
            "[99, 92.3, 'oi', 'Cibele', 'pitomba', 76, 0, 0]\n"
          ]
        }
      ]
    },
    {
      "cell_type": "code",
      "source": [
        "uma_lista = [4 , 2 , 8 , 6 , 5]\n",
        "uma_lista = uma_lista + ['Cibele']\n",
        "print(uma_lista)"
      ],
      "metadata": {
        "colab": {
          "base_uri": "https://localhost:8080/"
        },
        "id": "1fN04bpe9aPZ",
        "outputId": "ecafec0c-4b13-4fe2-b3d3-d960322652b4"
      },
      "execution_count": 24,
      "outputs": [
        {
          "output_type": "stream",
          "name": "stdout",
          "text": [
            "[4, 2, 8, 6, 5, 'Cibele']\n"
          ]
        }
      ]
    },
    {
      "cell_type": "code",
      "source": [
        "#             0     1      2     3    4   5\n",
        "minhaLista = [76 , 92.3 , 'oi', True, 4 , 76]\n",
        "minhaLista = minhaLista + ['pitomba']\n",
        "minhaLista = minhaLista + [76]\n",
        "minhaLista[3] = 'Cibele'\n",
        "minhaLista = [99] + minhaLista\n",
        "print(minhaLista[2])\n",
        "minhaLista"
      ],
      "metadata": {
        "colab": {
          "base_uri": "https://localhost:8080/"
        },
        "id": "Q-tg6Mov-4kJ",
        "outputId": "7deed8cc-9935-4741-b9ac-b57eee63fe4a"
      },
      "execution_count": 25,
      "outputs": [
        {
          "output_type": "stream",
          "name": "stdout",
          "text": [
            "92.3\n",
            "[99, 76, 92.3, 'oi', 'Cibele', 4, 76, 'pitomba', 76]\n"
          ]
        }
      ]
    },
    {
      "cell_type": "code",
      "source": [
        "#Criando tuplas x = () ou x = z , y , w\n",
        "tupla_numeros = (10 , 20 , 30)\n",
        "tupla_numeros"
      ],
      "metadata": {
        "colab": {
          "base_uri": "https://localhost:8080/"
        },
        "id": "pVPn-gmk_typ",
        "outputId": "f4463309-b2da-4eb2-822d-2264a0f46402"
      },
      "execution_count": 26,
      "outputs": [
        {
          "output_type": "execute_result",
          "data": {
            "text/plain": [
              "(10, 20, 30)"
            ]
          },
          "metadata": {},
          "execution_count": 26
        }
      ]
    },
    {
      "cell_type": "code",
      "source": [
        "tupla_nova = 10 , 20 , 30\n",
        "tupla_nova"
      ],
      "metadata": {
        "id": "fB-KW9deAXrR"
      },
      "execution_count": null,
      "outputs": []
    },
    {
      "cell_type": "code",
      "source": [
        "tupla_elemento = 10,\n",
        "tupla_elemento"
      ],
      "metadata": {
        "id": "KUlU9UOPA28I"
      },
      "execution_count": null,
      "outputs": []
    },
    {
      "cell_type": "code",
      "source": [
        "tupla_vazia = ()\n",
        "tupla_vazia"
      ],
      "metadata": {
        "id": "rrjFsARQBBEQ"
      },
      "execution_count": null,
      "outputs": []
    },
    {
      "cell_type": "code",
      "source": [
        "nova_tupla = tuple('Teste')\n",
        "nova_tupla"
      ],
      "metadata": {
        "colab": {
          "base_uri": "https://localhost:8080/"
        },
        "id": "DqCV-iR5BEHA",
        "outputId": "d0ca0437-e032-4e25-e050-41cdb4b03ae0"
      },
      "execution_count": 28,
      "outputs": [
        {
          "output_type": "execute_result",
          "data": {
            "text/plain": [
              "('T', 'e', 's', 't', 'e')"
            ]
          },
          "metadata": {},
          "execution_count": 28
        }
      ]
    },
    {
      "cell_type": "code",
      "source": [
        "nova_tupla = tuple('Teste')\n",
        "nova_tupla\n",
        "\n",
        "b = nova_tupla[:]\n",
        "print(b[0])"
      ],
      "metadata": {
        "colab": {
          "base_uri": "https://localhost:8080/"
        },
        "id": "ZDb_fvYLBOmv",
        "outputId": "37c3e84b-49a1-4c7d-8685-d10627b2b50b"
      },
      "execution_count": 30,
      "outputs": [
        {
          "output_type": "stream",
          "name": "stdout",
          "text": [
            "T\n"
          ]
        }
      ]
    },
    {
      "cell_type": "code",
      "source": [
        "tupla_nomes = ('Marlene','Zezinho','Marlene','Cibele','Suely')\n",
        "print(tupla_nomes.count('Marlene'))\n",
        "print(tupla_nomes.count('Suely'))\n",
        "print(tupla_nomes.count('Zezinho'))"
      ],
      "metadata": {
        "colab": {
          "base_uri": "https://localhost:8080/"
        },
        "id": "J8g0Xpd-Bc-A",
        "outputId": "0217b032-688f-4d83-c957-80cfe8ef0ffe"
      },
      "execution_count": 32,
      "outputs": [
        {
          "output_type": "stream",
          "name": "stdout",
          "text": [
            "2\n",
            "1\n",
            "1\n"
          ]
        }
      ]
    },
    {
      "cell_type": "code",
      "source": [
        "tupla = (1 , 2 , 2 , 3 , 4 , 4 , 4 , 5)\n",
        "print(tupla.count(4))"
      ],
      "metadata": {
        "colab": {
          "base_uri": "https://localhost:8080/"
        },
        "id": "l-AjJAFJCW2-",
        "outputId": "31fd1606-ae5b-4495-c17e-7d3a42f18c7b"
      },
      "execution_count": 38,
      "outputs": [
        {
          "output_type": "stream",
          "name": "stdout",
          "text": [
            "3\n"
          ]
        }
      ]
    },
    {
      "cell_type": "code",
      "source": [
        "dicio = {'chave' : 'valor'}\n",
        "print(type(dicio))"
      ],
      "metadata": {
        "colab": {
          "base_uri": "https://localhost:8080/"
        },
        "id": "GTppW1XBDMbJ",
        "outputId": "c18c26a3-ec5e-4894-bbfc-40d1bf3192b9"
      },
      "execution_count": 45,
      "outputs": [
        {
          "output_type": "stream",
          "name": "stdout",
          "text": [
            "<class 'dict'>\n"
          ]
        }
      ]
    },
    {
      "cell_type": "code",
      "source": [
        "d = {'laranjas' : 15 , 'bananas': 35, 'siriguelas': 12}\n",
        "print(d['bananas'])\n",
        "d['pitomba'] = 20 # adicionando uma chave\n",
        "print(len(d))\n",
        "print('pitomba' in d) # verificando a chave\n",
        "print('pears' in d)\n",
        "del d['laranjas'] # Deletando uma chave\n",
        "print('laranjas' in d)\n",
        "d"
      ],
      "metadata": {
        "colab": {
          "base_uri": "https://localhost:8080/"
        },
        "id": "atiOFhJ-DrFQ",
        "outputId": "b48009bb-1b3e-468f-b63a-ff79b2c4505d"
      },
      "execution_count": 57,
      "outputs": [
        {
          "output_type": "stream",
          "name": "stdout",
          "text": [
            "35\n",
            "4\n",
            "True\n",
            "False\n",
            "False\n"
          ]
        }
      ]
    },
    {
      "cell_type": "code",
      "source": [
        "frutas =['pinha', 'oiti coró' , 'jaca', 'tamarindo']\n",
        "print([1 , 2] + [3 , 4])\n",
        "print(frutas + [6 , 7 , 8 , 9])\n",
        "\n",
        "print([0]*4)\n",
        "print([1, 2,['oi', 'tchau']]*2)"
      ],
      "metadata": {
        "colab": {
          "base_uri": "https://localhost:8080/"
        },
        "id": "xLR5sVYZEnIZ",
        "outputId": "00170817-c1ff-4578-b95d-8132358a19e7"
      },
      "execution_count": 58,
      "outputs": [
        {
          "output_type": "stream",
          "name": "stdout",
          "text": [
            "[1, 2, 3, 4]\n",
            "['pinha', 'oiti coró', 'jaca', 'tamarindo', 6, 7, 8, 9]\n",
            "[0, 0, 0, 0]\n",
            "[1, 2, ['oi', 'tchau'], 1, 2, ['oi', 'tchau']]\n"
          ]
        }
      ]
    },
    {
      "cell_type": "code",
      "source": [
        "minha_lista = []\n",
        "minha_lista.append(5) #Método para adicionar na lista\n",
        "minha_lista.append(27)\n",
        "minha_lista.append(3)\n",
        "minha_lista.append(12)\n",
        "print(minha_lista)"
      ],
      "metadata": {
        "colab": {
          "base_uri": "https://localhost:8080/"
        },
        "id": "JHmLSIQTIAgJ",
        "outputId": "c9556eff-c282-442c-c0a6-9e9407944380"
      },
      "execution_count": 63,
      "outputs": [
        {
          "output_type": "stream",
          "name": "stdout",
          "text": [
            "[5, 27, 3, 12]\n",
            "--------------------------------------------------\n",
            "[5, 12, 27, 3, 12]\n",
            "2\n",
            "--------------------------------------------------\n",
            "3\n",
            "1\n",
            "--------------------------------------------------\n",
            "[12, 3, 27, 12, 5]\n",
            "--------------------------------------------------\n",
            "[3, 5, 12, 12, 27]\n",
            "--------------------------------------------------\n",
            "[3, 12, 12, 27]\n"
          ]
        }
      ]
    },
    {
      "cell_type": "code",
      "source": [
        "minha_lista.insert(1, 12) #Adicionar em tal posição\n",
        "print(minha_lista)\n",
        "print(minha_lista.count(12))"
      ],
      "metadata": {
        "id": "KCFCfrFKLs0Y"
      },
      "execution_count": null,
      "outputs": []
    },
    {
      "cell_type": "code",
      "source": [
        "print(minha_lista.index(3))\n",
        "print(minha_lista.count(5))"
      ],
      "metadata": {
        "id": "b8m0sY1cL0VY"
      },
      "execution_count": null,
      "outputs": []
    },
    {
      "cell_type": "code",
      "source": [
        "minha_lista.reverse() #Colocou ao contrário\n",
        "print(minha_lista)"
      ],
      "metadata": {
        "id": "g044yP-SLo1o"
      },
      "execution_count": null,
      "outputs": []
    },
    {
      "cell_type": "code",
      "source": [
        "minha_lista.sort() #Organizou a lista\n",
        "print(minha_lista)"
      ],
      "metadata": {
        "id": "Ivk58vejLm1Q"
      },
      "execution_count": null,
      "outputs": []
    },
    {
      "cell_type": "code",
      "source": [
        "minha_lista.remove(5) #Removou o número 5\n",
        "print(minha_lista)"
      ],
      "metadata": {
        "id": "EctPchUlLkQQ"
      },
      "execution_count": null,
      "outputs": []
    },
    {
      "cell_type": "code",
      "source": [
        "ultimo_item = minha_lista.pop() # Remove o último item da lista\n",
        "print(ultimo_item)\n",
        "print(minha_lista)\n",
        "\n",
        "#POPADA DO SAADHAK"
      ],
      "metadata": {
        "colab": {
          "base_uri": "https://localhost:8080/"
        },
        "id": "UMwDC95bLB8p",
        "outputId": "06e0e319-7408-4af3-de80-bda5130a3b50"
      },
      "execution_count": 64,
      "outputs": [
        {
          "output_type": "stream",
          "name": "stdout",
          "text": [
            "27\n",
            "[3, 12, 12]\n"
          ]
        }
      ]
    },
    {
      "cell_type": "code",
      "source": [
        "s = 'Python'\n",
        "s[0]\n",
        "s[len(s)-1] #última letra\n",
        "s[-5]"
      ],
      "metadata": {
        "colab": {
          "base_uri": "https://localhost:8080/",
          "height": 36
        },
        "id": "85G6X8hlMdrw",
        "outputId": "73ee7cc6-4a62-4cda-f48e-eaaae9406275"
      },
      "execution_count": 67,
      "outputs": [
        {
          "output_type": "execute_result",
          "data": {
            "text/plain": [
              "'y'"
            ],
            "application/vnd.google.colaboratory.intrinsic+json": {
              "type": "string"
            }
          },
          "metadata": {},
          "execution_count": 67
        }
      ]
    },
    {
      "cell_type": "code",
      "source": [
        "#s[começa:para:passos]\n",
        "s = 'ABCDEFGG'\n",
        "print(s[0:2])\n",
        "print(s[1:5:2])\n",
        "print(s[3:6:2])"
      ],
      "metadata": {
        "colab": {
          "base_uri": "https://localhost:8080/"
        },
        "id": "blbLkkKCNFzV",
        "outputId": "3253a817-9f15-433d-c1e9-3c469f9b4422"
      },
      "execution_count": 69,
      "outputs": [
        {
          "output_type": "stream",
          "name": "stdout",
          "text": [
            "AB\n",
            "BD\n",
            "DF\n"
          ]
        }
      ]
    },
    {
      "cell_type": "code",
      "source": [
        "s[:2]"
      ],
      "metadata": {
        "colab": {
          "base_uri": "https://localhost:8080/",
          "height": 36
        },
        "id": "DcKH0GTOODlo",
        "outputId": "f8e256e5-3b89-4411-cb48-d9e5b440a7bd"
      },
      "execution_count": 70,
      "outputs": [
        {
          "output_type": "execute_result",
          "data": {
            "text/plain": [
              "'AB'"
            ],
            "application/vnd.google.colaboratory.intrinsic+json": {
              "type": "string"
            }
          },
          "metadata": {},
          "execution_count": 70
        }
      ]
    },
    {
      "cell_type": "code",
      "source": [
        "s[3:]"
      ],
      "metadata": {
        "colab": {
          "base_uri": "https://localhost:8080/",
          "height": 36
        },
        "id": "qbSD0YqsOG7J",
        "outputId": "dd82879d-f589-4718-876a-edd383f9ccfe"
      },
      "execution_count": 71,
      "outputs": [
        {
          "output_type": "execute_result",
          "data": {
            "text/plain": [
              "'DEFGG'"
            ],
            "application/vnd.google.colaboratory.intrinsic+json": {
              "type": "string"
            }
          },
          "metadata": {},
          "execution_count": 71
        }
      ]
    },
    {
      "cell_type": "code",
      "source": [
        "s[3::2]"
      ],
      "metadata": {
        "colab": {
          "base_uri": "https://localhost:8080/",
          "height": 36
        },
        "id": "AH04zczTOIro",
        "outputId": "4352d6bf-6a85-4f27-c034-c3a804f1c174"
      },
      "execution_count": 74,
      "outputs": [
        {
          "output_type": "execute_result",
          "data": {
            "text/plain": [
              "'DFG'"
            ],
            "application/vnd.google.colaboratory.intrinsic+json": {
              "type": "string"
            }
          },
          "metadata": {},
          "execution_count": 74
        }
      ]
    },
    {
      "cell_type": "code",
      "source": [
        "s[::]"
      ],
      "metadata": {
        "colab": {
          "base_uri": "https://localhost:8080/",
          "height": 36
        },
        "id": "6VhZVLUAOJB4",
        "outputId": "1b476ae3-e34a-4402-aeb9-3404a44417c6"
      },
      "execution_count": 72,
      "outputs": [
        {
          "output_type": "execute_result",
          "data": {
            "text/plain": [
              "'ABCDEFGG'"
            ],
            "application/vnd.google.colaboratory.intrinsic+json": {
              "type": "string"
            }
          },
          "metadata": {},
          "execution_count": 72
        }
      ]
    },
    {
      "cell_type": "code",
      "source": [
        "s[::3]"
      ],
      "metadata": {
        "colab": {
          "base_uri": "https://localhost:8080/",
          "height": 36
        },
        "id": "uUm0yOQEOJUg",
        "outputId": "173751f1-43ec-41a1-ffb0-41d78c556bb4"
      },
      "execution_count": 73,
      "outputs": [
        {
          "output_type": "execute_result",
          "data": {
            "text/plain": [
              "'ADG'"
            ],
            "application/vnd.google.colaboratory.intrinsic+json": {
              "type": "string"
            }
          },
          "metadata": {},
          "execution_count": 73
        }
      ]
    },
    {
      "cell_type": "code",
      "source": [
        "s[-1]"
      ],
      "metadata": {
        "colab": {
          "base_uri": "https://localhost:8080/",
          "height": 36
        },
        "id": "oeOYbCFhOuAB",
        "outputId": "8371742d-0a7b-4c1b-eda8-baf2e4270812"
      },
      "execution_count": 75,
      "outputs": [
        {
          "output_type": "execute_result",
          "data": {
            "text/plain": [
              "'G'"
            ],
            "application/vnd.google.colaboratory.intrinsic+json": {
              "type": "string"
            }
          },
          "metadata": {},
          "execution_count": 75
        }
      ]
    },
    {
      "cell_type": "code",
      "source": [
        "s[0:-2] #s[:-2]"
      ],
      "metadata": {
        "colab": {
          "base_uri": "https://localhost:8080/",
          "height": 36
        },
        "id": "bTpTHz2oOwXg",
        "outputId": "de020ccd-b277-44d6-feb8-cb6db9bfc348"
      },
      "execution_count": 76,
      "outputs": [
        {
          "output_type": "execute_result",
          "data": {
            "text/plain": [
              "'ABCDEF'"
            ],
            "application/vnd.google.colaboratory.intrinsic+json": {
              "type": "string"
            }
          },
          "metadata": {},
          "execution_count": 76
        }
      ]
    },
    {
      "cell_type": "code",
      "source": [
        "s[-3:-1]"
      ],
      "metadata": {
        "colab": {
          "base_uri": "https://localhost:8080/",
          "height": 36
        },
        "id": "xR2mfiOwO4JA",
        "outputId": "8f72c5af-a711-4fd5-8a1a-f6cf3db33dc6"
      },
      "execution_count": 77,
      "outputs": [
        {
          "output_type": "execute_result",
          "data": {
            "text/plain": [
              "'FG'"
            ],
            "application/vnd.google.colaboratory.intrinsic+json": {
              "type": "string"
            }
          },
          "metadata": {},
          "execution_count": 77
        }
      ]
    },
    {
      "cell_type": "code",
      "source": [
        "s[-5:6]"
      ],
      "metadata": {
        "colab": {
          "base_uri": "https://localhost:8080/",
          "height": 36
        },
        "id": "nAt4K2cMO7S5",
        "outputId": "95c31768-8f3f-4e89-c8af-57eace6a3cb4"
      },
      "execution_count": 78,
      "outputs": [
        {
          "output_type": "execute_result",
          "data": {
            "text/plain": [
              "'DEF'"
            ],
            "application/vnd.google.colaboratory.intrinsic+json": {
              "type": "string"
            }
          },
          "metadata": {},
          "execution_count": 78
        }
      ]
    },
    {
      "cell_type": "code",
      "source": [
        "s[-1:-4:-1]"
      ],
      "metadata": {
        "colab": {
          "base_uri": "https://localhost:8080/",
          "height": 36
        },
        "id": "Tq8tQsPzO9wo",
        "outputId": "f43f1ab6-4f9f-4a33-84bc-042cd1f35757"
      },
      "execution_count": 79,
      "outputs": [
        {
          "output_type": "execute_result",
          "data": {
            "text/plain": [
              "'GGF'"
            ],
            "application/vnd.google.colaboratory.intrinsic+json": {
              "type": "string"
            }
          },
          "metadata": {},
          "execution_count": 79
        }
      ]
    },
    {
      "cell_type": "code",
      "source": [
        "linguagem_preferida = 'Python'\n",
        "'P' in linguagem_preferida"
      ],
      "metadata": {
        "colab": {
          "base_uri": "https://localhost:8080/"
        },
        "id": "q3NDzc7UPsHY",
        "outputId": "36c9c9bf-0177-4b48-ae9f-3c1772476e2d"
      },
      "execution_count": 83,
      "outputs": [
        {
          "output_type": "execute_result",
          "data": {
            "text/plain": [
              "True"
            ]
          },
          "metadata": {},
          "execution_count": 83
        }
      ]
    },
    {
      "cell_type": "code",
      "source": [
        "'p' in linguagem_preferida"
      ],
      "metadata": {
        "colab": {
          "base_uri": "https://localhost:8080/"
        },
        "id": "0mybwKPDP_iw",
        "outputId": "bfa0275f-8c09-4fc8-efe0-ec1f1e2e7441"
      },
      "execution_count": 81,
      "outputs": [
        {
          "output_type": "execute_result",
          "data": {
            "text/plain": [
              "False"
            ]
          },
          "metadata": {},
          "execution_count": 81
        }
      ]
    },
    {
      "cell_type": "code",
      "source": [
        "'n' in linguagem_preferida"
      ],
      "metadata": {
        "colab": {
          "base_uri": "https://localhost:8080/"
        },
        "id": "RaHO4nEnQEeo",
        "outputId": "f03849c9-70f2-476c-c2df-815a6294cc55"
      },
      "execution_count": 84,
      "outputs": [
        {
          "output_type": "execute_result",
          "data": {
            "text/plain": [
              "True"
            ]
          },
          "metadata": {},
          "execution_count": 84
        }
      ]
    },
    {
      "cell_type": "code",
      "source": [
        "linguagem_preferida in linguagem_preferida"
      ],
      "metadata": {
        "colab": {
          "base_uri": "https://localhost:8080/"
        },
        "id": "fHfoPNNYQFeQ",
        "outputId": "7f097d0c-8603-4ef8-8977-7e1a391c9a0d"
      },
      "execution_count": 85,
      "outputs": [
        {
          "output_type": "execute_result",
          "data": {
            "text/plain": [
              "True"
            ]
          },
          "metadata": {},
          "execution_count": 85
        }
      ]
    },
    {
      "cell_type": "code",
      "source": [
        "'python'.upper()\n",
        "verdade = 'python é legal'\n",
        "'PYTHON'.title()\n",
        "''.join(verdade.split()) #Separar por um padrão\n",
        "'python é legal'.split()"
      ],
      "metadata": {
        "colab": {
          "base_uri": "https://localhost:8080/",
          "height": 36
        },
        "id": "BLN9wCZ7QhNo",
        "outputId": "61be5da2-7fe1-48ae-ed44-28885a94f3d6"
      },
      "execution_count": 97,
      "outputs": [
        {
          "output_type": "execute_result",
          "data": {
            "text/plain": [
              "'Python'"
            ],
            "application/vnd.google.colaboratory.intrinsic+json": {
              "type": "string"
            }
          },
          "metadata": {},
          "execution_count": 97
        }
      ]
    },
    {
      "cell_type": "code",
      "source": [
        "z = input('Digite seu nome:')\n",
        "''.join(z.split(''))\n",
        "print(z)"
      ],
      "metadata": {
        "colab": {
          "base_uri": "https://localhost:8080/"
        },
        "id": "vuOuiNx_bTbR",
        "outputId": "dc482e2f-6735-4bac-a4b6-67d881eea339"
      },
      "execution_count": 151,
      "outputs": [
        {
          "output_type": "stream",
          "name": "stdout",
          "text": [
            "Digite seu nome:eduardo\n",
            "eduardo\n"
          ]
        }
      ]
    },
    {
      "cell_type": "code",
      "source": [
        "linguagem_preferida = 'Python'\n",
        "print('Eu amo %s'% (linguagem_preferida))\n",
        "print('Eu tenho %d anos'%(19))\n",
        "print('Eu tenho %02d anos de idade' % (9))\n",
        "print('Eu tenho %03d anos de idade e %2.5f na poupança' % (19 , 100))"
      ],
      "metadata": {
        "colab": {
          "base_uri": "https://localhost:8080/"
        },
        "id": "j6zCTnNhRzp4",
        "outputId": "b3c55c88-c54f-4f47-8faf-8541a5670b6a"
      },
      "execution_count": 94,
      "outputs": [
        {
          "output_type": "stream",
          "name": "stdout",
          "text": [
            "Eu amo Python\n",
            "Eu tenho 19 anos\n",
            "Eu tenho 09 anos de idade\n",
            "Eu tenho 019 anos de idade e 100.00000 na poupança\n"
          ]
        }
      ]
    },
    {
      "cell_type": "code",
      "source": [
        "x = input('Digite seu nome:')\n",
        "x = x.upper()\n",
        "print(x[::-1])"
      ],
      "metadata": {
        "colab": {
          "base_uri": "https://localhost:8080/"
        },
        "id": "1Ook_wP8S00w",
        "outputId": "3c8bea8f-49d6-4600-9212-b222998bbf19"
      },
      "execution_count": 112,
      "outputs": [
        {
          "output_type": "stream",
          "name": "stdout",
          "text": [
            "Digite seu nome:eduardo\n",
            "ODRAUDE\n"
          ]
        }
      ]
    },
    {
      "cell_type": "code",
      "source": [
        "x = []\n",
        "z = input('Digite seu nome:')\n",
        "z = z.upper()\n",
        "x.insert(0 , z)\n",
        "x.reverse()\n",
        "print(x)"
      ],
      "metadata": {
        "colab": {
          "base_uri": "https://localhost:8080/"
        },
        "id": "pPB4nj98VBxl",
        "outputId": "e06a2ad1-0423-44af-e6e1-46db329fee18"
      },
      "execution_count": 146,
      "outputs": [
        {
          "output_type": "stream",
          "name": "stdout",
          "text": [
            "Digite seu nome:eduardo\n",
            "['EDUARDO']\n"
          ]
        }
      ]
    },
    {
      "cell_type": "code",
      "source": [
        "z = input('Digite seu nome:')\n",
        "z = z.upper()\n",
        "x.insert(0 , z)\n",
        "x.reverse()\n",
        "print(x)"
      ],
      "metadata": {
        "colab": {
          "base_uri": "https://localhost:8080/"
        },
        "id": "JRQ24ognZLnY",
        "outputId": "da54be67-77d5-4a2c-99fe-9e50fa19bc3c"
      },
      "execution_count": 145,
      "outputs": [
        {
          "output_type": "stream",
          "name": "stdout",
          "text": [
            "Digite seu nome:eduardo\n",
            "['EDUARDO', 'EDUARDO', 'EDUARDO', 'EDUARDO', 'EDUARDO']\n"
          ]
        }
      ]
    },
    {
      "cell_type": "code",
      "source": [
        "print(list(range(10)))"
      ],
      "metadata": {
        "colab": {
          "base_uri": "https://localhost:8080/"
        },
        "id": "QRyMhr1wVra4",
        "outputId": "fdd545db-658a-412c-facd-874d53a1380d"
      },
      "execution_count": 120,
      "outputs": [
        {
          "output_type": "stream",
          "name": "stdout",
          "text": [
            "[0, 1, 2, 3, 4, 5, 6, 7, 8, 9]\n"
          ]
        }
      ]
    },
    {
      "cell_type": "code",
      "source": [
        "print(list(range(1, 11)))"
      ],
      "metadata": {
        "colab": {
          "base_uri": "https://localhost:8080/"
        },
        "id": "K0zVDb_YWN6o",
        "outputId": "c795f340-c2f7-4f93-b850-35cf4cfc5110"
      },
      "execution_count": 121,
      "outputs": [
        {
          "output_type": "stream",
          "name": "stdout",
          "text": [
            "[1, 2, 3, 4, 5, 6, 7, 8, 9, 10]\n"
          ]
        }
      ]
    },
    {
      "cell_type": "code",
      "source": [
        "print(list(range(0,30, 5)))"
      ],
      "metadata": {
        "colab": {
          "base_uri": "https://localhost:8080/"
        },
        "id": "KJm-_b84WON4",
        "outputId": "b45d7a57-2aa0-4230-d78c-5acf6a0f70a3"
      },
      "execution_count": 122,
      "outputs": [
        {
          "output_type": "stream",
          "name": "stdout",
          "text": [
            "[0, 5, 10, 15, 20, 25]\n"
          ]
        }
      ]
    },
    {
      "cell_type": "code",
      "source": [
        "print(list(range(0, - 10, -1)))"
      ],
      "metadata": {
        "colab": {
          "base_uri": "https://localhost:8080/"
        },
        "id": "x3QjFisnWOdg",
        "outputId": "18353a0b-49d7-4dac-acc4-5adb7e2e8935"
      },
      "execution_count": 123,
      "outputs": [
        {
          "output_type": "stream",
          "name": "stdout",
          "text": [
            "[0, -1, -2, -3, -4, -5, -6, -7, -8, -9]\n"
          ]
        }
      ]
    },
    {
      "cell_type": "code",
      "source": [
        "s = 'Python'\n",
        "print(s[3])\n",
        "print(s[1])"
      ],
      "metadata": {
        "colab": {
          "base_uri": "https://localhost:8080/"
        },
        "id": "TD5jCELWYR7m",
        "outputId": "362f38da-3853-48ef-a795-e288bc88d7e5"
      },
      "execution_count": 131,
      "outputs": [
        {
          "output_type": "stream",
          "name": "stdout",
          "text": [
            "h\n",
            "y\n"
          ]
        }
      ]
    },
    {
      "cell_type": "code",
      "source": [
        "print(len(s))"
      ],
      "metadata": {
        "colab": {
          "base_uri": "https://localhost:8080/"
        },
        "id": "CDHF66yqYlro",
        "outputId": "55392c51-c787-4288-c6ce-58bc38537271"
      },
      "execution_count": 134,
      "outputs": [
        {
          "output_type": "stream",
          "name": "stdout",
          "text": [
            "6\n"
          ]
        }
      ]
    },
    {
      "cell_type": "code",
      "source": [
        "print(s[len(s)-1])\n",
        "print(s[-2])"
      ],
      "metadata": {
        "colab": {
          "base_uri": "https://localhost:8080/"
        },
        "id": "1jGfMjCTY68g",
        "outputId": "13388027-9a6a-4539-fa62-70a46e8c7c18"
      },
      "execution_count": 140,
      "outputs": [
        {
          "output_type": "stream",
          "name": "stdout",
          "text": [
            "n\n",
            "o\n"
          ]
        }
      ]
    },
    {
      "cell_type": "code",
      "source": [
        "print(s[0:4:2])\n",
        "print(s[-1])\n",
        "print(s[-1:-7:-1])\n",
        "print(s[-2])\n",
        "print(s[-3])\n",
        "print(s[-4])\n",
        "print(s[-5])\n",
        "print(s[-6])"
      ],
      "metadata": {
        "colab": {
          "base_uri": "https://localhost:8080/"
        },
        "id": "vzYtmJlOZTJY",
        "outputId": "6bcb12db-ba1a-47b2-9f21-2545814e0baa"
      },
      "execution_count": 141,
      "outputs": [
        {
          "output_type": "stream",
          "name": "stdout",
          "text": [
            "Pt\n",
            "n\n",
            "nohtyP\n",
            "o\n",
            "h\n",
            "h\n"
          ]
        }
      ]
    },
    {
      "cell_type": "code",
      "source": [
        "print('Aqui: ', s[-1:-(len(s)+1):-1])\n",
        "print(s[0:2])\n",
        "print(s[:2])\n",
        "print(s[3:])\n",
        "print(s[1:5:2])\n",
        "print(s[3:6:2])\n",
        "print(s[3::2])"
      ],
      "metadata": {
        "colab": {
          "base_uri": "https://localhost:8080/"
        },
        "id": "YlHK7wWVaAxI",
        "outputId": "222be5ce-b682-4728-e9c0-1247b44e5608"
      },
      "execution_count": 147,
      "outputs": [
        {
          "output_type": "stream",
          "name": "stdout",
          "text": [
            "Aqui:  nohtyP\n",
            "Py\n",
            "Py\n",
            "hon\n",
            "yh\n",
            "hn\n",
            "hn\n"
          ]
        }
      ]
    },
    {
      "cell_type": "code",
      "source": [
        "print('P'in s)\n",
        "print('p'in s)\n",
        "print('n'in s)\n",
        "print(s in s)"
      ],
      "metadata": {
        "id": "Qa65SDzBbg6W"
      },
      "execution_count": null,
      "outputs": []
    },
    {
      "cell_type": "code",
      "source": [
        "print('Fuctura'.upper())\n",
        "print('FUCtura'.lower())\n",
        "print('python no SENAC!'.title())\n",
        "frase = 'python é massa!'\n",
        "teste = ('?'.join(frase))\n",
        "print(teste)\n",
        "print(frase.split('é'))"
      ],
      "metadata": {
        "colab": {
          "base_uri": "https://localhost:8080/"
        },
        "id": "Rz8WV6_Eb52Y",
        "outputId": "fe5da138-dbb7-43fd-c759-9216cb66e793"
      },
      "execution_count": 156,
      "outputs": [
        {
          "output_type": "stream",
          "name": "stdout",
          "text": [
            "FUCTURA\n",
            "fuctura\n",
            "Python No Senac!\n",
            "p?y?t?h?o?n? ?é? ?m?a?s?s?a?!\n",
            "['python ', ' massa!']\n"
          ]
        }
      ]
    },
    {
      "cell_type": "code",
      "source": [
        "print('Pra mim %s'% (frase))\n",
        "print('Funcionário cod %03d' %(1))"
      ],
      "metadata": {
        "colab": {
          "base_uri": "https://localhost:8080/"
        },
        "id": "0099c8dEdEHY",
        "outputId": "e3bf370e-e484-4eba-de4f-10e204fcdfcb"
      },
      "execution_count": 158,
      "outputs": [
        {
          "output_type": "stream",
          "name": "stdout",
          "text": [
            "Pra mim python é massa!\n",
            "Funcionário cod 001\n"
          ]
        }
      ]
    }
  ]
}