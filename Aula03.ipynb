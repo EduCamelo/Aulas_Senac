{
  "nbformat": 4,
  "nbformat_minor": 0,
  "metadata": {
    "colab": {
      "provenance": [],
      "collapsed_sections": [],
      "authorship_tag": "ABX9TyN9lNERtF/AUxK10Ew+kYx+",
      "include_colab_link": true
    },
    "kernelspec": {
      "name": "python3",
      "display_name": "Python 3"
    },
    "language_info": {
      "name": "python"
    }
  },
  "cells": [
    {
      "cell_type": "markdown",
      "metadata": {
        "id": "view-in-github",
        "colab_type": "text"
      },
      "source": [
        "<a href=\"https://colab.research.google.com/github/EduCamelo/Aulas_Senac/blob/main/Aula03.ipynb\" target=\"_parent\"><img src=\"https://colab.research.google.com/assets/colab-badge.svg\" alt=\"Open In Colab\"/></a>"
      ]
    },
    {
      "cell_type": "code",
      "execution_count": null,
      "metadata": {
        "id": "Wd6q6oNF3Mzm"
      },
      "outputs": [],
      "source": [
        "#EduCamelo\n",
        "#Criando listas\n",
        "#Para criar uma lista: x = []\n",
        "dias = [ 3 , 1 , 10]\n",
        "print(dias[0])\n",
        "dias"
      ]
    },
    {
      "cell_type": "code",
      "source": [
        "z = [3 , 8 , 9]\n",
        "z[0] = 7\n",
        "z"
      ],
      "metadata": {
        "id": "fh5gO2Tz4t4H"
      },
      "execution_count": null,
      "outputs": []
    },
    {
      "cell_type": "code",
      "source": [
        "a = [81 , 82, 83]\n",
        "b = a[:]\n",
        "print(a == b)\n",
        "print(a is b)\n",
        "b[0] = 5\n",
        "print(a)\n",
        "print(b)"
      ],
      "metadata": {
        "id": "iI4MvP2z4_GQ"
      },
      "execution_count": null,
      "outputs": []
    },
    {
      "cell_type": "code",
      "source": [
        "uma_lista =['a','b','c','d','e','f']\n",
        "print(uma_lista[1:3])\n",
        "print(uma_lista[:4])\n",
        "print(uma_lista[3:])\n",
        "print(uma_lista[:])"
      ],
      "metadata": {
        "id": "f8exQCnx571t"
      },
      "execution_count": null,
      "outputs": []
    },
    {
      "cell_type": "code",
      "source": [
        "a = [1 , 2 , 3, 'albedo']\n",
        "b = a[:]\n",
        "b[0] = 5\n",
        "print(a[3])"
      ],
      "metadata": {
        "id": "tdiv9TvK7BV5"
      },
      "execution_count": null,
      "outputs": []
    },
    {
      "cell_type": "code",
      "source": [
        "#             0     1      2    3     4    5\n",
        "minhaLista = [76 , 92.3 , 'oi', True, 4 , 76]\n",
        "minhaLista[4] = 'pitomba'\n",
        "minhaLista[5] = 76\n",
        "minhaLista[3] = 'Cibele'\n",
        "minhaLista[0] = 99\n",
        "print(minhaLista[2])\n",
        "\n",
        "minhaLista"
      ],
      "metadata": {
        "id": "miOS7FxF74PQ"
      },
      "execution_count": null,
      "outputs": []
    },
    {
      "cell_type": "code",
      "source": [
        "uma_lista = [4 , 2 , 8 , 6 , 5]\n",
        "uma_lista = uma_lista + ['Cibele']\n",
        "print(uma_lista)"
      ],
      "metadata": {
        "id": "1fN04bpe9aPZ"
      },
      "execution_count": null,
      "outputs": []
    },
    {
      "cell_type": "code",
      "source": [
        "#             0     1      2     3    4   5\n",
        "minhaLista = [76 , 92.3 , 'oi', True, 4 , 76]\n",
        "minhaLista = minhaLista + ['pitomba']\n",
        "minhaLista = minhaLista + [76]\n",
        "minhaLista[3] = 'Cibele'\n",
        "minhaLista = [99] + minhaLista\n",
        "print(minhaLista[2])\n",
        "minhaLista"
      ],
      "metadata": {
        "id": "Q-tg6Mov-4kJ"
      },
      "execution_count": null,
      "outputs": []
    },
    {
      "cell_type": "code",
      "source": [
        "#Criando tuplas x = () ou x = z , y , w\n",
        "tupla_numeros = (10 , 20 , 30)\n",
        "tupla_numeros"
      ],
      "metadata": {
        "id": "pVPn-gmk_typ"
      },
      "execution_count": null,
      "outputs": []
    },
    {
      "cell_type": "code",
      "source": [
        "tupla_nova = 10 , 20 , 30\n",
        "tupla_nova"
      ],
      "metadata": {
        "id": "fB-KW9deAXrR"
      },
      "execution_count": null,
      "outputs": []
    },
    {
      "cell_type": "code",
      "source": [
        "tupla_elemento = 10,\n",
        "tupla_elemento"
      ],
      "metadata": {
        "id": "KUlU9UOPA28I"
      },
      "execution_count": null,
      "outputs": []
    },
    {
      "cell_type": "code",
      "source": [
        "tupla_vazia = ()\n",
        "tupla_vazia"
      ],
      "metadata": {
        "id": "rrjFsARQBBEQ"
      },
      "execution_count": null,
      "outputs": []
    },
    {
      "cell_type": "code",
      "source": [
        "nova_tupla = tuple('Teste')\n",
        "nova_tupla"
      ],
      "metadata": {
        "id": "DqCV-iR5BEHA"
      },
      "execution_count": null,
      "outputs": []
    },
    {
      "cell_type": "code",
      "source": [
        "nova_tupla = tuple('Teste')\n",
        "nova_tupla\n",
        "\n",
        "b = nova_tupla[:]\n",
        "print(b[0])"
      ],
      "metadata": {
        "id": "ZDb_fvYLBOmv"
      },
      "execution_count": null,
      "outputs": []
    },
    {
      "cell_type": "code",
      "source": [
        "tupla_nomes = ('Marlene','Zezinho','Marlene','Cibele','Suely')\n",
        "print(tupla_nomes.count('Marlene'))\n",
        "print(tupla_nomes.count('Suely'))\n",
        "print(tupla_nomes.count('Zezinho'))"
      ],
      "metadata": {
        "id": "J8g0Xpd-Bc-A"
      },
      "execution_count": null,
      "outputs": []
    },
    {
      "cell_type": "code",
      "source": [
        "tupla = (1 , 2 , 2 , 3 , 4 , 4 , 4 , 5)\n",
        "print(tupla.count(4))"
      ],
      "metadata": {
        "id": "l-AjJAFJCW2-"
      },
      "execution_count": null,
      "outputs": []
    },
    {
      "cell_type": "code",
      "source": [
        "dicio = {'chave' : 'valor'}\n",
        "print(type(dicio))"
      ],
      "metadata": {
        "id": "GTppW1XBDMbJ"
      },
      "execution_count": null,
      "outputs": []
    },
    {
      "cell_type": "code",
      "source": [
        "d = {'laranjas' : 15 , 'bananas': 35, 'siriguelas': 12}\n",
        "print(d['bananas'])\n",
        "d['pitomba'] = 20 # adicionando uma chave\n",
        "print(len(d))\n",
        "print('pitomba' in d) # verificando a chave\n",
        "print('pears' in d)\n",
        "del d['laranjas'] # Deletando uma chave\n",
        "print('laranjas' in d)\n",
        "d"
      ],
      "metadata": {
        "id": "atiOFhJ-DrFQ"
      },
      "execution_count": null,
      "outputs": []
    },
    {
      "cell_type": "code",
      "source": [
        "frutas =['pinha', 'oiti coró' , 'jaca', 'tamarindo']\n",
        "print([1 , 2] + [3 , 4])\n",
        "print(frutas + [6 , 7 , 8 , 9])\n",
        "\n",
        "print([0]*4)\n",
        "print([1, 2,['oi', 'tchau']]*2)"
      ],
      "metadata": {
        "id": "xLR5sVYZEnIZ"
      },
      "execution_count": null,
      "outputs": []
    },
    {
      "cell_type": "code",
      "source": [
        "minha_lista = []\n",
        "minha_lista.append(5) #Método para adicionar na lista\n",
        "minha_lista.append(27)\n",
        "minha_lista.append(3)\n",
        "minha_lista.append(12)\n",
        "print(minha_lista)"
      ],
      "metadata": {
        "id": "JHmLSIQTIAgJ"
      },
      "execution_count": null,
      "outputs": []
    },
    {
      "cell_type": "code",
      "source": [
        "minha_lista.insert(1, 12) #Adicionar em tal posição\n",
        "print(minha_lista)\n",
        "print(minha_lista.count(12))"
      ],
      "metadata": {
        "id": "KCFCfrFKLs0Y"
      },
      "execution_count": null,
      "outputs": []
    },
    {
      "cell_type": "code",
      "source": [
        "print(minha_lista.index(3))\n",
        "print(minha_lista.count(5))"
      ],
      "metadata": {
        "id": "b8m0sY1cL0VY"
      },
      "execution_count": null,
      "outputs": []
    },
    {
      "cell_type": "code",
      "source": [
        "minha_lista.reverse() #Colocou ao contrário\n",
        "print(minha_lista)"
      ],
      "metadata": {
        "id": "g044yP-SLo1o"
      },
      "execution_count": null,
      "outputs": []
    },
    {
      "cell_type": "code",
      "source": [
        "minha_lista.sort() #Organizou a lista\n",
        "print(minha_lista)"
      ],
      "metadata": {
        "id": "Ivk58vejLm1Q"
      },
      "execution_count": null,
      "outputs": []
    },
    {
      "cell_type": "code",
      "source": [
        "minha_lista.remove(5) #Removou o número 5\n",
        "print(minha_lista)"
      ],
      "metadata": {
        "id": "EctPchUlLkQQ"
      },
      "execution_count": null,
      "outputs": []
    },
    {
      "cell_type": "code",
      "source": [
        "ultimo_item = minha_lista.pop() # Remove o último item da lista\n",
        "print(ultimo_item)\n",
        "print(minha_lista)\n",
        "\n",
        "#POPADA DO SAADHAK"
      ],
      "metadata": {
        "id": "UMwDC95bLB8p"
      },
      "execution_count": null,
      "outputs": []
    },
    {
      "cell_type": "code",
      "source": [
        "s = 'Python'\n",
        "s[0]\n",
        "s[len(s)-1] #última letra\n",
        "s[-5]"
      ],
      "metadata": {
        "id": "85G6X8hlMdrw"
      },
      "execution_count": null,
      "outputs": []
    },
    {
      "cell_type": "code",
      "source": [
        "#s[começa:para:passos]\n",
        "s = 'ABCDEFGG'\n",
        "print(s[0:2])\n",
        "print(s[1:5:2])\n",
        "print(s[3:6:2])"
      ],
      "metadata": {
        "id": "blbLkkKCNFzV"
      },
      "execution_count": null,
      "outputs": []
    },
    {
      "cell_type": "code",
      "source": [
        "s[:2]"
      ],
      "metadata": {
        "id": "DcKH0GTOODlo"
      },
      "execution_count": null,
      "outputs": []
    },
    {
      "cell_type": "code",
      "source": [
        "s[3:]"
      ],
      "metadata": {
        "id": "qbSD0YqsOG7J"
      },
      "execution_count": null,
      "outputs": []
    },
    {
      "cell_type": "code",
      "source": [
        "s[3::2]"
      ],
      "metadata": {
        "id": "AH04zczTOIro"
      },
      "execution_count": null,
      "outputs": []
    },
    {
      "cell_type": "code",
      "source": [
        "s[::]"
      ],
      "metadata": {
        "id": "6VhZVLUAOJB4"
      },
      "execution_count": null,
      "outputs": []
    },
    {
      "cell_type": "code",
      "source": [
        "s[::3]"
      ],
      "metadata": {
        "id": "uUm0yOQEOJUg"
      },
      "execution_count": null,
      "outputs": []
    },
    {
      "cell_type": "code",
      "source": [
        "s[-1]"
      ],
      "metadata": {
        "id": "oeOYbCFhOuAB"
      },
      "execution_count": null,
      "outputs": []
    },
    {
      "cell_type": "code",
      "source": [
        "s[0:-2] #s[:-2]"
      ],
      "metadata": {
        "id": "bTpTHz2oOwXg"
      },
      "execution_count": null,
      "outputs": []
    },
    {
      "cell_type": "code",
      "source": [
        "s[-3:-1]"
      ],
      "metadata": {
        "id": "xR2mfiOwO4JA"
      },
      "execution_count": null,
      "outputs": []
    },
    {
      "cell_type": "code",
      "source": [
        "s[-5:6]"
      ],
      "metadata": {
        "id": "nAt4K2cMO7S5"
      },
      "execution_count": null,
      "outputs": []
    },
    {
      "cell_type": "code",
      "source": [
        "s[-1:-4:-1]"
      ],
      "metadata": {
        "id": "Tq8tQsPzO9wo"
      },
      "execution_count": null,
      "outputs": []
    },
    {
      "cell_type": "code",
      "source": [
        "linguagem_preferida = 'Python'\n",
        "'P' in linguagem_preferida"
      ],
      "metadata": {
        "id": "q3NDzc7UPsHY"
      },
      "execution_count": null,
      "outputs": []
    },
    {
      "cell_type": "code",
      "source": [
        "'p' in linguagem_preferida"
      ],
      "metadata": {
        "id": "0mybwKPDP_iw"
      },
      "execution_count": null,
      "outputs": []
    },
    {
      "cell_type": "code",
      "source": [
        "'n' in linguagem_preferida"
      ],
      "metadata": {
        "id": "RaHO4nEnQEeo"
      },
      "execution_count": null,
      "outputs": []
    },
    {
      "cell_type": "code",
      "source": [
        "linguagem_preferida in linguagem_preferida"
      ],
      "metadata": {
        "id": "fHfoPNNYQFeQ"
      },
      "execution_count": null,
      "outputs": []
    },
    {
      "cell_type": "code",
      "source": [
        "'python'.upper()\n",
        "verdade = 'python é legal'\n",
        "'PYTHON'.title()\n",
        "''.join(verdade.split()) #Separar por um padrão\n",
        "'python é legal'.split()"
      ],
      "metadata": {
        "id": "BLN9wCZ7QhNo"
      },
      "execution_count": null,
      "outputs": []
    },
    {
      "cell_type": "code",
      "source": [
        "z = input('Digite seu nome:')\n",
        "''.join(z.split())\n",
        "print(z)"
      ],
      "metadata": {
        "id": "vuOuiNx_bTbR"
      },
      "execution_count": null,
      "outputs": []
    },
    {
      "cell_type": "code",
      "source": [
        "linguagem_preferida = 'Python'\n",
        "print('Eu amo %s'% (linguagem_preferida))\n",
        "print('Eu tenho %d anos'%(19))\n",
        "print('Eu tenho %02d anos de idade' % (9))\n",
        "print('Eu tenho %03d anos de idade e %2.5f na poupança' % (19 , 100))"
      ],
      "metadata": {
        "id": "j6zCTnNhRzp4"
      },
      "execution_count": null,
      "outputs": []
    },
    {
      "cell_type": "code",
      "source": [
        "x = input('Digite seu nome:')\n",
        "x = x.upper()\n",
        "print(x[::-1])"
      ],
      "metadata": {
        "id": "1Ook_wP8S00w"
      },
      "execution_count": null,
      "outputs": []
    },
    {
      "cell_type": "code",
      "source": [
        "x = []\n",
        "z = input('Digite seu nome:')\n",
        "z = z.upper()\n",
        "x.insert(0 , z)\n",
        "x.reverse()\n",
        "print(x)"
      ],
      "metadata": {
        "id": "pPB4nj98VBxl"
      },
      "execution_count": null,
      "outputs": []
    },
    {
      "cell_type": "code",
      "source": [
        "z = input('Digite seu nome:')\n",
        "z = z.upper()\n",
        "x.insert(0 , z)\n",
        "x.reverse()\n",
        "print(x)"
      ],
      "metadata": {
        "id": "JRQ24ognZLnY"
      },
      "execution_count": null,
      "outputs": []
    },
    {
      "cell_type": "code",
      "source": [
        "print(list(range(10)))"
      ],
      "metadata": {
        "id": "QRyMhr1wVra4"
      },
      "execution_count": null,
      "outputs": []
    },
    {
      "cell_type": "code",
      "source": [
        "print(list(range(1, 11)))"
      ],
      "metadata": {
        "id": "K0zVDb_YWN6o"
      },
      "execution_count": null,
      "outputs": []
    },
    {
      "cell_type": "code",
      "source": [
        "print(list(range(0,30, 5)))"
      ],
      "metadata": {
        "id": "KJm-_b84WON4"
      },
      "execution_count": null,
      "outputs": []
    },
    {
      "cell_type": "code",
      "source": [
        "print(list(range(0, - 10, -1)))"
      ],
      "metadata": {
        "id": "x3QjFisnWOdg"
      },
      "execution_count": null,
      "outputs": []
    },
    {
      "cell_type": "code",
      "source": [
        "s = 'Python'\n",
        "print(s[3])\n",
        "print(s[1])"
      ],
      "metadata": {
        "id": "TD5jCELWYR7m"
      },
      "execution_count": null,
      "outputs": []
    },
    {
      "cell_type": "code",
      "source": [
        "print(len(s))"
      ],
      "metadata": {
        "id": "CDHF66yqYlro"
      },
      "execution_count": null,
      "outputs": []
    },
    {
      "cell_type": "code",
      "source": [
        "print(s[len(s)-1])\n",
        "print(s[-2])"
      ],
      "metadata": {
        "id": "1jGfMjCTY68g"
      },
      "execution_count": null,
      "outputs": []
    },
    {
      "cell_type": "code",
      "source": [
        "print(s[0:4:2])\n",
        "print(s[-1])\n",
        "print(s[-1:-7:-1])\n",
        "print(s[-2])\n",
        "print(s[-3])\n",
        "print(s[-4])\n",
        "print(s[-5])\n",
        "print(s[-6])"
      ],
      "metadata": {
        "id": "vzYtmJlOZTJY"
      },
      "execution_count": null,
      "outputs": []
    },
    {
      "cell_type": "code",
      "source": [
        "print('Aqui: ', s[-1:-(len(s)+1):-1])\n",
        "print(s[0:2])\n",
        "print(s[:2])\n",
        "print(s[3:])\n",
        "print(s[1:5:2])\n",
        "print(s[3:6:2])\n",
        "print(s[3::2])"
      ],
      "metadata": {
        "id": "YlHK7wWVaAxI"
      },
      "execution_count": null,
      "outputs": []
    },
    {
      "cell_type": "code",
      "source": [
        "print('P'in s)\n",
        "print('p'in s)\n",
        "print('n'in s)\n",
        "print(s in s)"
      ],
      "metadata": {
        "id": "Qa65SDzBbg6W"
      },
      "execution_count": null,
      "outputs": []
    },
    {
      "cell_type": "code",
      "source": [
        "print('Fuctura'.upper())\n",
        "print('FUCtura'.lower())\n",
        "print('python no SENAC!'.title())\n",
        "frase = 'python é massa!'\n",
        "teste = ('?'.join(frase))\n",
        "print(teste)\n",
        "print(frase.split('é'))"
      ],
      "metadata": {
        "id": "Rz8WV6_Eb52Y"
      },
      "execution_count": null,
      "outputs": []
    },
    {
      "cell_type": "code",
      "source": [
        "print('Pra mim %s'% (frase))\n",
        "print('Funcionário cod %03d' %(1))"
      ],
      "metadata": {
        "id": "0099c8dEdEHY"
      },
      "execution_count": null,
      "outputs": []
    }
  ]
}