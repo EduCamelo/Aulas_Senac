{
  "nbformat": 4,
  "nbformat_minor": 0,
  "metadata": {
    "colab": {
      "provenance": [],
      "collapsed_sections": [],
      "authorship_tag": "ABX9TyMQNaZE1ByuIm82WOYmo8h1",
      "include_colab_link": true
    },
    "kernelspec": {
      "name": "python3",
      "display_name": "Python 3"
    },
    "language_info": {
      "name": "python"
    }
  },
  "cells": [
    {
      "cell_type": "markdown",
      "metadata": {
        "id": "view-in-github",
        "colab_type": "text"
      },
      "source": [
        "<a href=\"https://colab.research.google.com/github/EduCamelo/Aulas_Senac/blob/main/Aula06.ipynb\" target=\"_parent\"><img src=\"https://colab.research.google.com/assets/colab-badge.svg\" alt=\"Open In Colab\"/></a>"
      ]
    },
    {
      "cell_type": "code",
      "execution_count": null,
      "metadata": {
        "id": "2PVxdgdJHoVd"
      },
      "outputs": [],
      "source": [
        "class Pessoa():\n",
        "  def __init__(self, nome, idade):\n",
        "    self.__nome = nome\n",
        "    self.__idade = idade\n",
        "\n",
        "  def get_nome(self):\n",
        "    return self.__nome\n",
        "  \n",
        "  def get_nome(self, novo_nome):\n",
        "    self.__nome = novo_nome"
      ]
    },
    {
      "cell_type": "code",
      "source": [
        "class Pessoa():\n",
        "  def __init__(self, nome, idade):\n",
        "    self.__nome = nome\n",
        "    self.__idade = idade\n",
        "  \n",
        "  def imprimir(self):\n",
        "    print('Me chamo %d  e tenho %d anos'%(self.nome, self.idade))"
      ],
      "metadata": {
        "id": "k59_VDUVOd2n"
      },
      "execution_count": null,
      "outputs": []
    },
    {
      "cell_type": "code",
      "source": [
        "pessoa = Pessoa('Felipe', 34)\n",
        "\n",
        "pessoa.imprimir"
      ],
      "metadata": {
        "colab": {
          "base_uri": "https://localhost:8080/"
        },
        "id": "E5jlW6K5Pkbp",
        "outputId": "4dd3ebcc-a94f-48fb-e3ea-f96826587438"
      },
      "execution_count": null,
      "outputs": [
        {
          "output_type": "execute_result",
          "data": {
            "text/plain": [
              "<bound method Pessoa.imprimir of <__main__.Pessoa object at 0x7f2a9e127790>>"
            ]
          },
          "metadata": {},
          "execution_count": 17
        }
      ]
    },
    {
      "cell_type": "code",
      "source": [
        "class Pessoa():\n",
        "  def __init__(self, nome, idade):\n",
        "    self.__nome = nome\n",
        "    self.__idade = idade\n",
        "\n",
        "\n",
        "  def getNome(self):\n",
        "    return self.__nome\n",
        "\n",
        "\n",
        "  def getIdade(self):\n",
        "    return self.__idade\n",
        "\n",
        "\n",
        "  def setNome(self, nome):\n",
        "    self.__nome = nome\n",
        "\n",
        "\n",
        "  def setIdade(self, idade):\n",
        "    self.__idade = idade\n",
        "\n",
        "\n",
        "  def imprimir(self):\n",
        "    print('Me chamo %n e tenho %i anos'%(self.getNome(), self.getIdade()))"
      ],
      "metadata": {
        "id": "GNvD9y-8QapQ"
      },
      "execution_count": null,
      "outputs": []
    },
    {
      "cell_type": "code",
      "source": [
        "pessoa = Pessoa('Felipe', 28)\n",
        "pessoa.imprimir\n",
        "pessoa.setNome('Paulo')\n",
        "pessoa.imprimir"
      ],
      "metadata": {
        "colab": {
          "base_uri": "https://localhost:8080/"
        },
        "id": "7odu4na2Q2P3",
        "outputId": "924f14ab-2e91-4dd4-b141-c8aad8e00334"
      },
      "execution_count": null,
      "outputs": [
        {
          "output_type": "execute_result",
          "data": {
            "text/plain": [
              "<bound method Pessoa.imprimir of <__main__.Pessoa object at 0x7f2a9e0c6bd0>>"
            ]
          },
          "metadata": {},
          "execution_count": 24
        }
      ]
    },
    {
      "cell_type": "code",
      "source": [
        "#def nome_funcao(par1,par2):\n",
        "#  instrucao_1\n",
        "#  instrucao_2\n",
        "#  instrucao_3\n",
        "#  return resultado"
      ],
      "metadata": {
        "id": "DzLl7UQTTtAw"
      },
      "execution_count": null,
      "outputs": []
    },
    {
      "cell_type": "code",
      "source": [
        "def foo():\n",
        "  print('Função \"foo\" foi executada')\n",
        "  print('Como não há parâmetros, o comportamento da função sempre será mesmo')"
      ],
      "metadata": {
        "id": "xJ06h2BcUOuI"
      },
      "execution_count": null,
      "outputs": []
    },
    {
      "cell_type": "code",
      "source": [
        "\n",
        "def baz(par1):\n",
        "  print('Função \"bar\" executada')\n",
        "  print(f'Parâmetro par1 receve (par1) como valor de (argumento).')\n",
        "baz('Santos')"
      ],
      "metadata": {
        "colab": {
          "base_uri": "https://localhost:8080/"
        },
        "id": "MF9ngKx-UyCg",
        "outputId": "00e8c0dd-ca28-4a9a-a214-f8d7c29e4fb9"
      },
      "execution_count": null,
      "outputs": [
        {
          "output_type": "stream",
          "name": "stdout",
          "text": [
            "Função \"bar\" executada\n",
            "Parâmetro par1 receve (par1) como valor de (argumento).\n"
          ]
        }
      ]
    },
    {
      "cell_type": "code",
      "source": [
        "def baz(par1, par2):\n",
        "  print('Função \"baz\" foi executada')\n",
        "  print(f'Parâmetro par1 recebe argumento. {par1}')\n",
        "  print(f'Parâmetro par2 recebe argumento.{par2}')"
      ],
      "metadata": {
        "id": "B9NwPgCyU0Fe"
      },
      "execution_count": null,
      "outputs": []
    },
    {
      "cell_type": "code",
      "source": [
        "def baz2(par1, par2='Barney'):\n",
        "  print('Função \"baz\" foi executada')\n",
        "  print(f'Parâmetro par1 recebe argumento. {par1}')\n",
        "  print(f'Parâmetro par2 recebe argumento.{par2}')"
      ],
      "metadata": {
        "id": "kyp2t7yYVf_C"
      },
      "execution_count": null,
      "outputs": []
    },
    {
      "cell_type": "code",
      "source": [
        "baz2(par2='Santos', par1='Dumont')"
      ],
      "metadata": {
        "colab": {
          "base_uri": "https://localhost:8080/"
        },
        "id": "YATQwm3QWTi4",
        "outputId": "eb23cbdb-7446-44be-8a88-fca134365727"
      },
      "execution_count": null,
      "outputs": [
        {
          "output_type": "stream",
          "name": "stdout",
          "text": [
            "Função \"baz\" foi executada\n",
            "Parâmetro par1 recebe argumento. Dumont\n",
            "Parâmetro par2 recebe argumento.Santos\n"
          ]
        }
      ]
    },
    {
      "cell_type": "code",
      "source": [
        "def adição(n1,n2):\n",
        "  res = n1 + n2\n",
        "  return res\n",
        "adição(3,7)"
      ],
      "metadata": {
        "colab": {
          "base_uri": "https://localhost:8080/"
        },
        "id": "u9fmlVHwW155",
        "outputId": "19d1c1d1-364b-4d58-ecc8-f5730e8d92c8"
      },
      "execution_count": null,
      "outputs": [
        {
          "output_type": "execute_result",
          "data": {
            "text/plain": [
              "10"
            ]
          },
          "metadata": {},
          "execution_count": 30
        }
      ]
    },
    {
      "cell_type": "code",
      "source": [
        "def subtraçao(n1,n2):\n",
        "  res = n1 - n2\n",
        "  return res\n",
        "\n",
        "def multiplicação(n1,n2):\n",
        "  res = n1 * n2\n",
        "  return res\n",
        "def divisão(n1 , n2):\n",
        "  return n1/n2"
      ],
      "metadata": {
        "id": "ZyQZw5VIXLip"
      },
      "execution_count": null,
      "outputs": []
    },
    {
      "cell_type": "code",
      "source": [
        "a , b , c , d= 3, 5 , 7, 10"
      ],
      "metadata": {
        "id": "ydKFYbpHXqZp"
      },
      "execution_count": null,
      "outputs": []
    },
    {
      "cell_type": "code",
      "source": [
        "u = adição(a,b)\n",
        "v = subtraçao(d,c)\n",
        "w = multiplicação(u,v)\n",
        "x = divisão(w,2)"
      ],
      "metadata": {
        "id": "4JAmjXxRXyuB"
      },
      "execution_count": null,
      "outputs": []
    },
    {
      "cell_type": "code",
      "source": [
        "lambda x,p1,p2,p3: expressão"
      ],
      "metadata": {
        "id": "gustVe-3Yhcx"
      },
      "execution_count": null,
      "outputs": []
    },
    {
      "cell_type": "code",
      "source": [
        "lambda x: x**2"
      ],
      "metadata": {
        "colab": {
          "base_uri": "https://localhost:8080/"
        },
        "id": "JwIgC-mkY61R",
        "outputId": "d9862570-b8ba-47ef-8f85-7bb91b66c155"
      },
      "execution_count": null,
      "outputs": [
        {
          "output_type": "execute_result",
          "data": {
            "text/plain": [
              "<function __main__.<lambda>(x)>"
            ]
          },
          "metadata": {},
          "execution_count": 46
        }
      ]
    },
    {
      "cell_type": "code",
      "source": [
        "(lambda x: x**2)(2)"
      ],
      "metadata": {
        "colab": {
          "base_uri": "https://localhost:8080/"
        },
        "id": "_51xjjM3ZO7g",
        "outputId": "3700cc7a-74ec-481d-fcb5-6ececd7681f0"
      },
      "execution_count": null,
      "outputs": [
        {
          "output_type": "execute_result",
          "data": {
            "text/plain": [
              "4"
            ]
          },
          "metadata": {},
          "execution_count": 47
        }
      ]
    },
    {
      "cell_type": "code",
      "source": [
        "(lambda x: x**3)(2)"
      ],
      "metadata": {
        "colab": {
          "base_uri": "https://localhost:8080/"
        },
        "id": "Zrg27LFEZhMo",
        "outputId": "227c3230-1364-405a-d3fb-bbb2fd3b8cd0"
      },
      "execution_count": null,
      "outputs": [
        {
          "output_type": "execute_result",
          "data": {
            "text/plain": [
              "8"
            ]
          },
          "metadata": {},
          "execution_count": 48
        }
      ]
    },
    {
      "cell_type": "code",
      "source": [
        "(lambda x: x**4)(2)"
      ],
      "metadata": {
        "colab": {
          "base_uri": "https://localhost:8080/"
        },
        "id": "_EP-FkyJZjLh",
        "outputId": "badccba3-16b5-4c74-f1be-0bde654460be"
      },
      "execution_count": null,
      "outputs": [
        {
          "output_type": "execute_result",
          "data": {
            "text/plain": [
              "16"
            ]
          },
          "metadata": {},
          "execution_count": 49
        }
      ]
    },
    {
      "cell_type": "code",
      "source": [
        "exp2 = lambda x : x**2\n",
        "exp3 = lambda x : x**3\n",
        "exp4 = lambda x : x**4"
      ],
      "metadata": {
        "id": "Jw3mb9CRZ554"
      },
      "execution_count": null,
      "outputs": []
    },
    {
      "cell_type": "code",
      "source": [
        "print(exp2(2))\n",
        "print(exp3(2))\n",
        "print(exp4(2))"
      ],
      "metadata": {
        "colab": {
          "base_uri": "https://localhost:8080/"
        },
        "id": "eBd2s8Q6aDpY",
        "outputId": "e973fae6-fdd1-462b-ccfc-709b5e522164"
      },
      "execution_count": null,
      "outputs": [
        {
          "output_type": "stream",
          "name": "stdout",
          "text": [
            "4\n",
            "8\n",
            "16\n"
          ]
        }
      ]
    },
    {
      "cell_type": "code",
      "source": [
        "exp = lambda x, p: x**p"
      ],
      "metadata": {
        "id": "9rapO388aVig"
      },
      "execution_count": null,
      "outputs": []
    },
    {
      "cell_type": "code",
      "source": [
        "print(exp(2,2))\n",
        "print(exp(2,3))\n",
        "print(exp(2,4))"
      ],
      "metadata": {
        "colab": {
          "base_uri": "https://localhost:8080/"
        },
        "id": "K_U6VHqzaaTg",
        "outputId": "5f1c7ecc-f1c3-471d-c875-60ac4ce08e71"
      },
      "execution_count": null,
      "outputs": [
        {
          "output_type": "stream",
          "name": "stdout",
          "text": [
            "4\n",
            "8\n",
            "16\n"
          ]
        }
      ]
    },
    {
      "cell_type": "code",
      "source": [
        "\"\"\"print(exp(2))\n",
        "print(exp(2,3))\n",
        "print(exp(2,4))\"\"\""
      ],
      "metadata": {
        "colab": {
          "base_uri": "https://localhost:8080/",
          "height": 36
        },
        "id": "jkcvjruXarS4",
        "outputId": "58e88db1-664d-4823-a286-27f427a9845b"
      },
      "execution_count": null,
      "outputs": [
        {
          "output_type": "execute_result",
          "data": {
            "text/plain": [
              "'print(exp(2))\\nprint(exp(2,3))\\nprint(exp(2,4))'"
            ],
            "application/vnd.google.colaboratory.intrinsic+json": {
              "type": "string"
            }
          },
          "metadata": {},
          "execution_count": 59
        }
      ]
    },
    {
      "cell_type": "code",
      "source": [
        "class Vehicle():\n",
        "  def __init__(self, type, model, manufacturer, seat_capacity):\n",
        "    self.type = type\n",
        "    self.model = model\n",
        "    self.manufacturer = manufacturer\n",
        "    self.seat_capacity = seat_capacity"
      ],
      "metadata": {
        "id": "dM9wwzpJbB8h"
      },
      "execution_count": null,
      "outputs": []
    },
    {
      "cell_type": "code",
      "source": [
        "myPlane = Vehicle('plane', 'A320', 'Airbus', 180)\n",
        "myCar = Vehicle('car', model='Uno', manufacturer='Fiat', seat_capacity=5)"
      ],
      "metadata": {
        "id": "1i-bW1pscJ7Z"
      },
      "execution_count": null,
      "outputs": []
    },
    {
      "cell_type": "code",
      "source": [
        "print(myPlane.type)\n",
        "print(myPlane.manufacturer)\n",
        "print(myPlane.model)\n",
        "print(myPlane.seat_capacity)"
      ],
      "metadata": {
        "colab": {
          "base_uri": "https://localhost:8080/"
        },
        "id": "LKV2e4Ilcvy5",
        "outputId": "c6a7d209-b849-4401-bd8f-7f71a5ffb8a7"
      },
      "execution_count": null,
      "outputs": [
        {
          "output_type": "stream",
          "name": "stdout",
          "text": [
            "plane\n",
            "Airbus\n",
            "A320\n",
            "180\n"
          ]
        }
      ]
    },
    {
      "cell_type": "code",
      "source": [
        "print(myCar.type)\n",
        "print(myCar.manufacturer)\n",
        "print(myCar.model)\n",
        "print(myCar.seat_capacity)"
      ],
      "metadata": {
        "colab": {
          "base_uri": "https://localhost:8080/"
        },
        "id": "lh46C357dQ7B",
        "outputId": "7f9dfa94-ae0b-461c-9c4e-eca215ee2099"
      },
      "execution_count": null,
      "outputs": [
        {
          "output_type": "stream",
          "name": "stdout",
          "text": [
            "car\n",
            "Fiat\n",
            "Uno\n",
            "5\n"
          ]
        }
      ]
    },
    {
      "cell_type": "code",
      "source": [
        "class Vehicle():\n",
        "  def __init__(self, type, model, manufacturer, seat_capacity):\n",
        "    self.type = type\n",
        "    self.model = model\n",
        "    self.manufacturer = manufacturer\n",
        "    self.seat_capacity = seat_capacity\n",
        "  \n",
        "  def getModel(self):\n",
        "    return f\"{self.manufacturer} {self.model}\"\n",
        "  def getSeatCapacity(self):\n",
        "    return self.seat_capacity"
      ],
      "metadata": {
        "id": "L65qZedEfT9E"
      },
      "execution_count": null,
      "outputs": []
    },
    {
      "cell_type": "code",
      "source": [
        "myPlane = Vehicle('plane', 'A320', 'Airbus', 180)\n",
        "myCar = Vehicle('car', model='Uno', manufacturer='Fiat', seat_capacity=5)"
      ],
      "metadata": {
        "id": "1AlVW2fQhmPZ"
      },
      "execution_count": null,
      "outputs": []
    },
    {
      "cell_type": "code",
      "source": [
        "print(myPlane.getModel())\n",
        "print( f'Cabem {myPlane.getSeatCapacity()} passageiros no {myPlane.getModel()}')"
      ],
      "metadata": {
        "colab": {
          "base_uri": "https://localhost:8080/"
        },
        "id": "kj_88HsYhpzh",
        "outputId": "166b6fd5-6544-4d9d-88eb-7a46f0c8be9a"
      },
      "execution_count": null,
      "outputs": [
        {
          "output_type": "stream",
          "name": "stdout",
          "text": [
            "Airbus A320\n",
            "Cabem 180 passageiros no Airbus A320\n"
          ]
        }
      ]
    },
    {
      "cell_type": "code",
      "source": [
        "print(myCar.getModel())"
      ],
      "metadata": {
        "colab": {
          "base_uri": "https://localhost:8080/"
        },
        "id": "H5n9S3fyhGfC",
        "outputId": "85cbe353-89a1-4581-cf66-70bbd0277e7e"
      },
      "execution_count": null,
      "outputs": [
        {
          "output_type": "stream",
          "name": "stdout",
          "text": [
            "Fiat Uno\n"
          ]
        }
      ]
    },
    {
      "cell_type": "code",
      "source": [
        "class Vehicle():\n",
        "  def __init__(self, type, model, manufacturer, seat_capacity):\n",
        "    self.type = type\n",
        "    self.model = model\n",
        "    self.manufacturer = manufacturer\n",
        "    self.seat_capacity = seat_capacity\n",
        "    self.n_passengers_onboard=0\n",
        "  def getModel(self):\n",
        "    return f\"{self.manufacturer} {self.model}\"\n",
        "  def getSeatCapacity(self):\n",
        "    return self.seat_capacity\n",
        "  def getNumPassengerOnboard(self):\n",
        "    self.n_passaengers_onboard\n",
        "  def getNumSeatsAvailable(self):\n",
        "    return self.seat_capacity - self.n_passengers_onboard\n",
        "\n",
        "  def removeAllPassengers(self):\n",
        "    self.n_passengers_onboard = 0\n",
        "  def embarkPassagers(self, n_passengers_to_embark):\n",
        "    avaliable_seats = self.getNumSeatsAvailable\n",
        "    if avaliable_seats >= self.n_passengers_to_embark:\n",
        "      self.n_passengers_onboard += n_passengers_to_embark\n",
        "      return f'Mais {n_passengers_to_embark} passageiros embarcados com'\n",
        "    else:\n",
        "      return f'impossivel emmbarcar mais {n_passengers_to_embark} passageiros'\n",
        "  def removePassengers(self, n_passengers_to_remove):\n",
        "    if n_passengers_to_remove <= self.n_passengers_onboard:\n",
        "      return f'Desembarcaram {n_passengers_to_remove} passageiros'\n",
        "    elif self.n_passengers_onboard > 0:\n",
        "      n_passengers_remaining = self.n_passaengers_onboard\n",
        "      self.removeAllPassengers()\n",
        "      return f'Havia apenas {n_passengers_remaining} embarcados! Todos d'\n",
        "    else:\n",
        "      return \"Nenhum passageiro abordo\""
      ],
      "metadata": {
        "id": "NQ9V7tEhjUJh"
      },
      "execution_count": null,
      "outputs": []
    },
    {
      "cell_type": "code",
      "source": [
        "myPlane = Vehicle('plane', 'A320', 'Airbus', 180)\n",
        "myCar = Vehicle('car', model='Uno', manufacturer='Fiat', seat_capacity=5)\n",
        "\n",
        "print(myPlane.embarkPassagers(50))\n",
        "print(f'{myPlane.getNumPassengerOnboard()} passageiros a bordo')\n",
        "print(f'{myPlane.getNumSeatsAvailable()} assentos disponiveis')"
      ],
      "metadata": {
        "id": "ny13kmmtkAMw"
      },
      "execution_count": null,
      "outputs": []
    },
    {
      "cell_type": "code",
      "source": [
        "print(myCar.removePassengers(5))\n",
        "print(f'{myCar.getNumPassengerOnboard()} passageiros a bordo')\n",
        "print(f'{myCar.getNumSeatsAvailable()} assentos disponiveis')"
      ],
      "metadata": {
        "id": "UOJ3XbHDqMGq"
      },
      "execution_count": null,
      "outputs": []
    },
    {
      "cell_type": "code",
      "source": [
        "class Airplane(Vehicle):\n",
        "  def __init__(self, type, model, manufacturer,airline ,seat_capacity):\n",
        "    super().__init__(type, model, manufacturer, seat_capacity)\n",
        "    self.airline = airline\n",
        "  def takeoff(self):\n",
        "    print(f'O {self.getModel()} de {self.airline} está delando com {self.getNumPassengerOnboard}')\n",
        "\n",
        "class Car(Vehicle):\n",
        "  def __init__(self, type, model, manufacturer, seat_capacity, n_passengers_onboard ):\n",
        "    super().__init__(type, model, manufacturer, seat_capacity, n_passengers_onboard)\n",
        "    \n",
        "  def embarkPassagers(self, n_passengers_to_embark, name_driver):\n",
        "    avaliable_seats = self.getNumSeatsAvailable()\n",
        "    self.name_driver = name_driver\n",
        "    if avaliable_seats >= n_passengers_to_embark:\n",
        "      self.n_passengers_onboard += n_passengers_to_embark\n",
        "      return f'Mais {n_passengers_to_embark} passageiros embarcados com sucesso!'\n",
        "    else:\n",
        "      return f'Impossivel embarcar mais: {avaliable_seats} passageiro! Apenas {avaliable_seats} assentos disponiveis'\n",
        "  def driver(self):\n",
        "    if self.getNumPassengerOnboard() > 0:\n",
        "      print(f'O {self.getModel()}, conduzindo por {self.name_driver}, está na estrada com {self.getNumPassengerOnboard} passageiros')\n",
        "    else:\n",
        "      print('Um cara não pode operar sem motorista')\n",
        "  "
      ],
      "metadata": {
        "id": "JpX9vvZCq_wi"
      },
      "execution_count": null,
      "outputs": []
    },
    {
      "cell_type": "code",
      "source": [
        "latamPlane = Airplane('plane','A320', 'Airbus', 'Latam', 180 )\n",
        "print(latamPlane.embarkPassagers(9))\n",
        "latamPlane.takeoff()"
      ],
      "metadata": {
        "id": "3mBYg0y4vOt7"
      },
      "execution_count": null,
      "outputs": []
    }
  ]
}