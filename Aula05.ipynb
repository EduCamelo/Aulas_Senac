{
  "nbformat": 4,
  "nbformat_minor": 0,
  "metadata": {
    "colab": {
      "provenance": [],
      "authorship_tag": "ABX9TyPChVEZ3cncEx9tpLxHEQEe",
      "include_colab_link": true
    },
    "kernelspec": {
      "name": "python3",
      "display_name": "Python 3"
    },
    "language_info": {
      "name": "python"
    }
  },
  "cells": [
    {
      "cell_type": "markdown",
      "metadata": {
        "id": "view-in-github",
        "colab_type": "text"
      },
      "source": [
        "<a href=\"https://colab.research.google.com/github/EduCamelo/Aulas_Senac/blob/main/Aula05.ipynb\" target=\"_parent\"><img src=\"https://colab.research.google.com/assets/colab-badge.svg\" alt=\"Open In Colab\"/></a>"
      ]
    },
    {
      "cell_type": "code",
      "execution_count": null,
      "metadata": {
        "id": "FL9yVlvtxOyO"
      },
      "outputs": [],
      "source": [
        "#Relembrando tudo o que foi passado\n",
        "\n",
        "print('Você conhece a PWD?')\n",
        "v = input('').lower()\n",
        "if v == 'sim':\n",
        "  x = ''\n",
        "  z = []\n",
        "  c = 0\n",
        "  while 'Albedo' != x:\n",
        "    x = input('Digite o nome dela: ')\n",
        "    x = x.title()\n",
        "    if x != 'Albedo':\n",
        "     print('Você errou.')\n",
        "     z.append(x)\n",
        "     c += 1\n",
        "  print('Parabéns, você acertou!')\n",
        "  print('Seus erros foram: ', c)\n",
        "  if c == 0 :\n",
        "    print('Perfeito, você digitou nenhuma palavra errada!')\n",
        "  else: print('As palavras erradas foram: ', z)"
      ]
    },
    {
      "cell_type": "code",
      "source": [
        "lista = []\n",
        "help(lista.append)"
      ],
      "metadata": {
        "id": "R-cpFZR720jU"
      },
      "execution_count": null,
      "outputs": []
    },
    {
      "cell_type": "code",
      "source": [
        "dir(list)"
      ],
      "metadata": {
        "id": "_SqUfWJ_41vi"
      },
      "execution_count": null,
      "outputs": []
    },
    {
      "cell_type": "code",
      "source": [
        "dir(dict)"
      ],
      "metadata": {
        "id": "3tG1ChO95PVy"
      },
      "execution_count": null,
      "outputs": []
    },
    {
      "cell_type": "code",
      "source": [
        "class NomeDeClasse():\n",
        "  #Construtor de classe\n",
        "  def __init__(self):\n",
        "    #atributos\n",
        "    self.atributo1 = valor1\n",
        "    self.atributoN = valorN\n",
        "  def exemploDeFuncao(self):\n",
        "    return 'Essa função'\n",
        "  def exemploDeMetodo(self):\n",
        "    print(\"Esse metodo!\")"
      ],
      "metadata": {
        "id": "_YZg-aGP8YjY"
      },
      "execution_count": null,
      "outputs": []
    },
    {
      "cell_type": "code",
      "source": [
        "class ContaCorrente():\n",
        "  def __init__(self):\n",
        "    self.numConta = 159\n",
        "    self.nomeTitular = 'Camila'\n",
        "    self.saldo = 0"
      ],
      "metadata": {
        "id": "KX_Qp80lAitJ"
      },
      "execution_count": null,
      "outputs": []
    },
    {
      "cell_type": "code",
      "source": [
        "class ContaCorrente():\n",
        "  def __init__(self, numConta , nomeTitular):\n",
        "    self.numConta = numConta\n",
        "    self.nomeTitular = nomeTitular"
      ],
      "metadata": {
        "id": "uL6cFbvVCGW-"
      },
      "execution_count": null,
      "outputs": []
    },
    {
      "cell_type": "code",
      "source": [
        "class ContaCorrente():\n",
        "  def __init__(self, numConta , nomeTitular, saldo):\n",
        "    self.numConta = numConta\n",
        "    self.nomeTitular = nomeTitular\n",
        "    self.saldo = saldo"
      ],
      "metadata": {
        "id": "9ju4aAM5CZYF"
      },
      "execution_count": null,
      "outputs": []
    },
    {
      "cell_type": "code",
      "source": [
        "class Lar(): \n",
        "  def toctoc(self, pessoa1=None, pessoa2=None):\n",
        "    if pessoa1 is not None and pessoa2 is None:\n",
        "      print('Olá,'+ pessoa1)\n",
        "    elif pessoa1 is not None and pessoa2 is not None:\n",
        "      print('Olá, ' + pessoa1 + \" e \" + pessoa2)\n",
        "    else:\n",
        "      print('Quem está ai? ')\n",
        "batendoNaPorta = Lar()"
      ],
      "metadata": {
        "id": "HA9NpePZC3a9"
      },
      "execution_count": null,
      "outputs": []
    },
    {
      "cell_type": "code",
      "source": [
        "#Sobrecarga do método toctoc\n",
        "batendoNaPorta.toctoc()\n",
        "batendoNaPorta.toctoc('Ricky', 'Morty')\n",
        "batendoNaPorta.toctoc('Professora Amanda')"
      ],
      "metadata": {
        "id": "NU-jnSUnGW67"
      },
      "execution_count": null,
      "outputs": []
    },
    {
      "cell_type": "code",
      "source": [
        "class User():\n",
        "  def User(self, Name, password):\n",
        "    if Name is not None and password is not None:\n",
        "      print('Parabéns você foi cadastrado')\n",
        "    elif Name is None and password is not None:\n",
        "      print('Por Favor, refaça o cadastro e coloque seu senha')\n",
        "    elif Name is not None and password is None:\n",
        "      print('Por Favor, refaça seu cadastro e coloque um nome')\n",
        "    else:\n",
        "      print('Refaça o cadastro e coloque uma senha')"
      ],
      "metadata": {
        "id": "5dqD_Q8tFoOc"
      },
      "execution_count": null,
      "outputs": []
    },
    {
      "cell_type": "code",
      "source": [
        "#Criando uma classe\n",
        "class Animal():\n",
        "  #Construtor da classe\n",
        "  def __init__(self, name, weight, color):\n",
        "    #Atributos\n",
        "    self.nome = name\n",
        "    self.peso = weight\n",
        "    self.corDoPelo = color\n",
        "  def imprimirDados(self):\n",
        "    return('Nome: %s \\nPeso %s' %(self.nome, self.peso))\n",
        "  def latir(self, barulho):\n",
        "    print(barulho)"
      ],
      "metadata": {
        "id": "4cVp2bawIObi"
      },
      "execution_count": null,
      "outputs": []
    },
    {
      "cell_type": "code",
      "source": [
        "#Instanciando um objeto cachorro\n",
        "caozinho = Animal('Marlene', 7.9,'Caramelo')\n",
        "gato = Animal('Cibele', 4.5 , 'Cinza')\n",
        "#Chamando o método do objeto criado\n",
        "print(caozinho.imprimirDados())\n",
        "caozinho.latir('Au, Au!')\n",
        "print(gato.imprimirDados())\n",
        "gato.latir('Miau!')"
      ],
      "metadata": {
        "colab": {
          "base_uri": "https://localhost:8080/"
        },
        "id": "j5kNduIgK7wB",
        "outputId": "6cefc215-3eb4-496e-9005-bb2a770f04b1"
      },
      "execution_count": null,
      "outputs": [
        {
          "output_type": "stream",
          "name": "stdout",
          "text": [
            "NOme: Marlene \n",
            "Peso 7.9\n",
            "Au, Au!\n",
            "NOme: Cibele \n",
            "Peso 4.5\n",
            "Miau!\n"
          ]
        }
      ]
    },
    {
      "cell_type": "code",
      "source": [
        "# Criando a classe chamada livro\n",
        "class livro():\n",
        "  # Este método vai inicializar cada objeto criado a partir desta classe\n",
        "  # O nome desta método é __init__\n",
        "  # (self) é uma referència a cada atributo de um objeto criado a partir desta classe\n",
        "  def __init__(self):\n",
        "    #Atributos de cada objeto criado a partir desta classe\n",
        "    # O self indica que estes são atributos dos objetos\n",
        "    self.titulo = 'O monge e o executivo'\n",
        "    self.isbn = 9988888\n",
        "    print('Construtor chamado para criar um objeto desta classe')\n",
        "  # Método são funções, que recebem como parâmetros atributos do objeto criado\n",
        "  def imprime(self):\n",
        "    print('Foi criado o livro %s e ISBN %d'% (self.titulo, self.isbn))"
      ],
      "metadata": {
        "id": "UwEemSR8M-Tp"
      },
      "execution_count": null,
      "outputs": []
    },
    {
      "cell_type": "code",
      "source": [
        "# Criando uma instância da classe do livro\n",
        "livro1 = livro()"
      ],
      "metadata": {
        "id": "K2zOrUo0RGLm"
      },
      "execution_count": null,
      "outputs": []
    },
    {
      "cell_type": "code",
      "source": [
        "#tipo do objeto desta classe\n",
        "type(livro1)"
      ],
      "metadata": {
        "id": "1F4_8m-AR_a2"
      },
      "execution_count": null,
      "outputs": []
    },
    {
      "cell_type": "code",
      "source": [
        "# Atributo do objeto livro1\n",
        "livro1.titulo"
      ],
      "metadata": {
        "id": "5fpvdzqKSTsW"
      },
      "execution_count": null,
      "outputs": []
    },
    {
      "cell_type": "code",
      "source": [
        "# Método do objeto livro1\n",
        "livro1.imprime()"
      ],
      "metadata": {
        "id": "HbBZjBZpUUc8"
      },
      "execution_count": null,
      "outputs": []
    },
    {
      "cell_type": "code",
      "source": [
        "# Criando a classe livro com parâmetros no método construtor\n",
        "class livro():\n",
        "  def __init__(self, titulo, isbn):\n",
        "    self.titulo = titulo\n",
        "    self.isbn = isbn\n",
        "    print(\"Constutor chaado para criar um objetivo desta classe\")\n",
        "  def imprime(self, titulo, isbn):\n",
        "    print('Este é o livro %s e ISBN %d' %(titulo, isbn))"
      ],
      "metadata": {
        "id": "-dw9hDt6Ukak"
      },
      "execution_count": null,
      "outputs": []
    },
    {
      "cell_type": "code",
      "source": [
        "# Criando o objeto livro2 que é uma instância da classe livro\n",
        "livro2 = livro('A menina que roubava livro', 77886611)"
      ],
      "metadata": {
        "id": "GOZJfzr1WH1E"
      },
      "execution_count": null,
      "outputs": []
    },
    {
      "cell_type": "code",
      "source": [
        "livro2.titulo"
      ],
      "metadata": {
        "id": "Jn4EGsqdXpha"
      },
      "execution_count": null,
      "outputs": []
    },
    {
      "cell_type": "code",
      "source": [
        "#Criando a classe Animal - Super-Classe\n",
        "class Animal():\n",
        "  def __init__(self):\n",
        "    print(\"Animal criado\")\n",
        "  def ident1(self):\n",
        "    print('Animal')\n",
        "  def comer(self):\n",
        "    print(\"Comendo\")"
      ],
      "metadata": {
        "id": "lhwZ2S5gX7u1"
      },
      "execution_count": null,
      "outputs": []
    },
    {
      "cell_type": "code",
      "source": [
        "# Criando a calsse cahorro - sub classe\n",
        "class cachorro(Animal):\n",
        "  def __init__ (self):\n",
        "    Animal.__init__(self)\n",
        "    print('Objeto cachorro criado')\n",
        "  def identif(self):\n",
        "    print(\"Cachorro\")\n",
        "  def latir(self):\n",
        "    print(\"Au au!\")"
      ],
      "metadata": {
        "id": "OZmX-b26YgxS"
      },
      "execution_count": null,
      "outputs": []
    },
    {
      "cell_type": "code",
      "source": [
        "# Criando objeto (instanciando a classe)\n",
        "rex = cachorro()"
      ],
      "metadata": {
        "colab": {
          "base_uri": "https://localhost:8080/"
        },
        "id": "5yzBJbIQcfsI",
        "outputId": "a2ceefd1-e7d7-4aff-eb5d-30ce081e672e"
      },
      "execution_count": null,
      "outputs": [
        {
          "output_type": "stream",
          "name": "stdout",
          "text": [
            "Animal criado\n",
            "Objeto cachorro criado\n"
          ]
        }
      ]
    },
    {
      "cell_type": "code",
      "source": [
        "# Executando o método da calsse cachorro (sub-classe)\n",
        "rex. identif()"
      ],
      "metadata": {
        "colab": {
          "base_uri": "https://localhost:8080/"
        },
        "id": "cARhz3uXcnAQ",
        "outputId": "83c63c9d-5b4a-4c5e-ea69-b4ccef25063c"
      },
      "execution_count": null,
      "outputs": [
        {
          "output_type": "stream",
          "name": "stdout",
          "text": [
            "Cachorro\n"
          ]
        }
      ]
    },
    {
      "cell_type": "code",
      "source": [
        "# Executando o método da classe Animal (super-classe)\n",
        "rex.comer()"
      ],
      "metadata": {
        "colab": {
          "base_uri": "https://localhost:8080/"
        },
        "id": "i2qO7ISQcuDX",
        "outputId": "4c7300a2-aaf3-485c-cdc5-a02ea511906d"
      },
      "execution_count": null,
      "outputs": [
        {
          "output_type": "stream",
          "name": "stdout",
          "text": [
            "Comendo\n"
          ]
        }
      ]
    },
    {
      "cell_type": "code",
      "source": [
        "# executando o método da classe cachorro (sub=classe)\n",
        "rex.latir()"
      ],
      "metadata": {
        "id": "k5ob1uf7dMdf"
      },
      "execution_count": null,
      "outputs": []
    },
    {
      "cell_type": "code",
      "source": [
        "class classeMae():\n",
        "  def __init__(self, atributo1):\n",
        "    self.atributo1 = atributo1\n",
        "    print('Essa é a classe mãe')\n",
        "\n",
        "class classefilha(classeMae):\n",
        "  def __init__(self, atributo1, Atributo2):\n",
        "    super().__init__(atributo1)\n",
        "    self.atributo2 = atributo2\n",
        "    print('Essa é a classe herdeira!')"
      ],
      "metadata": {
        "id": "MCRxveMQZlph"
      },
      "execution_count": 5,
      "outputs": []
    },
    {
      "cell_type": "code",
      "source": [
        "class Pessoa():\n",
        "  def __init__(self, name, idade):\n",
        "    self.nome = name\n",
        "    self.old = idade\n",
        "  def ano(self):\n",
        "    ano = (2022 - self.old)\n",
        "    print(\"O ano que você nasceu foi:\" , ano)\n"
      ],
      "metadata": {
        "id": "YVIIL8yQdy11"
      },
      "execution_count": 7,
      "outputs": []
    },
    {
      "cell_type": "code",
      "source": [
        "Eduardo = Pessoa('Eduardo', 18)\n",
        "Eduardo.ano()"
      ],
      "metadata": {
        "colab": {
          "base_uri": "https://localhost:8080/"
        },
        "id": "Pee830Bhf2zd",
        "outputId": "9c1c6cee-9247-4ff5-8781-c1edddbb76fd"
      },
      "execution_count": 9,
      "outputs": [
        {
          "output_type": "stream",
          "name": "stdout",
          "text": [
            "O ano que você nasceu foi: 2004\n"
          ]
        }
      ]
    }
  ]
}