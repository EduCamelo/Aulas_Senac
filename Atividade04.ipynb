{
  "nbformat": 4,
  "nbformat_minor": 0,
  "metadata": {
    "colab": {
      "provenance": [],
      "authorship_tag": "ABX9TyMRP+b+dbt4qlAg2d4VgJph",
      "include_colab_link": true
    },
    "kernelspec": {
      "name": "python3",
      "display_name": "Python 3"
    },
    "language_info": {
      "name": "python"
    }
  },
  "cells": [
    {
      "cell_type": "markdown",
      "metadata": {
        "id": "view-in-github",
        "colab_type": "text"
      },
      "source": [
        "<a href=\"https://colab.research.google.com/github/EduCamelo/Aulas_Senac/blob/main/Atividade04.ipynb\" target=\"_parent\"><img src=\"https://colab.research.google.com/assets/colab-badge.svg\" alt=\"Open In Colab\"/></a>"
      ]
    },
    {
      "cell_type": "code",
      "execution_count": 2,
      "metadata": {
        "colab": {
          "base_uri": "https://localhost:8080/"
        },
        "id": "5c5oAA3cFaSg",
        "outputId": "adb63161-585f-4605-e147-c783401ec87b"
      },
      "outputs": [
        {
          "output_type": "stream",
          "name": "stdout",
          "text": [
            "Oi\n",
            "Oi\n",
            "Oi\n",
            "Oi\n",
            "Oi\n",
            "Oi\n",
            "Oi\n",
            "Oi\n",
            "Oi\n",
            "Oi\n",
            "Oi\n",
            "Oi\n",
            "Oi\n"
          ]
        }
      ],
      "source": [
        "s = \"viva o python\"\n",
        "for ch in s:\n",
        "  print(\"Oi\")"
      ]
    },
    {
      "cell_type": "code",
      "source": [
        "s = \"viva o python\"\n",
        "for ch in s[3:8]:\n",
        "  print(\"Oi\")"
      ],
      "metadata": {
        "colab": {
          "base_uri": "https://localhost:8080/"
        },
        "id": "DPWQRbE_GBBG",
        "outputId": "acf348dd-6e26-467b-bd5b-c8772e1a302a"
      },
      "execution_count": 3,
      "outputs": [
        {
          "output_type": "stream",
          "name": "stdout",
          "text": [
            "Oi\n",
            "Oi\n",
            "Oi\n",
            "Oi\n",
            "Oi\n"
          ]
        }
      ]
    },
    {
      "cell_type": "code",
      "source": [
        "1z = 0\n",
        "par = 0\n",
        "impar = 0\n",
        "while z == 0:\n",
        "  for x in range(10):\n",
        "    y = float(input(\"Digite um número: \"))\n",
        "    if( y % 2) == 0:  par += 1\n",
        "    else: impar += 1\n",
        "    z += 1\n",
        "    print('----------------------------------------------')\n",
        "    print('a quantidade total de pares é: ', par)\n",
        "    print('a quantidade total de impares é: ', impar)\n",
        "    print('----------------------------------------------')"
      ],
      "metadata": {
        "id": "S0rfNUtCGGgW"
      },
      "execution_count": null,
      "outputs": []
    },
    {
      "cell_type": "code",
      "source": [
        "1x = 0\n",
        "z = 0\n",
        "v = 0\n",
        "while x < 10:\n",
        "  y = float(input('Digite um número: '))\n",
        "  if( y % 2) == 0:  z = z + 1\n",
        "  else: v = v + 1\n",
        "  x += 1\n",
        "print('a quantidade total de pares é: ', z)\n",
        "print('a quantidade total de impares é: ', v)"
      ],
      "metadata": {
        "id": "v6ApqzhgGQ-N"
      },
      "execution_count": null,
      "outputs": []
    },
    {
      "cell_type": "code",
      "source": [
        "z = 0\n",
        "for x in range(10):\n",
        "  y = float(input(\"Digite um número: \"))\n",
        "  while (y % 2) == 0:\n",
        "    z += 1\n",
        "    y += 1\n",
        "\n",
        "print('A quantidade total de pares é: ' ,z)\n",
        "print('a quantidade total de impares é: ', (x + 1) - z)"
      ],
      "metadata": {
        "id": "kZ4DROnlGSV4"
      },
      "execution_count": null,
      "outputs": []
    },
    {
      "cell_type": "code",
      "source": [
        "z = 0\n",
        "v = 0\n",
        "for x in range(10):\n",
        "  y = float(input('Digite um número: '))\n",
        "  if( y % 2) == 0: z = z + 1\n",
        "  else: v = v + 1\n",
        "\n",
        "print('a quantidade total de pares é: ', z)\n",
        "print('a quantidade total de impares é: ', v)"
      ],
      "metadata": {
        "id": "EuwaSqXlGUrA"
      },
      "execution_count": null,
      "outputs": []
    },
    {
      "cell_type": "code",
      "source": [
        "x = input('Qual é o dia da semana? ').lower()\n",
        "if (x == 'domingo') or (x == 'sabado') or (x == 'sábado'):\n",
        "  print('Pega a pipoca e bora ver uma netflix.')\n",
        "else: print('Levanta da cama e bora trabalhar!')"
      ],
      "metadata": {
        "id": "lXkVEP7pGWiG"
      },
      "execution_count": null,
      "outputs": []
    },
    {
      "cell_type": "code",
      "source": [
        "c = int(input('Digite um número qualquer: '))\n",
        "for x in range(c):\n",
        " if (x % 2) == 0:\n",
        "   x = [x]\n",
        "   print(x)\n",
        " else: \n",
        "   impar = x * x\n",
        "   print(impar)"
      ],
      "metadata": {
        "colab": {
          "base_uri": "https://localhost:8080/"
        },
        "id": "ScwukUgeGXcI",
        "outputId": "bbd61d4e-39ac-425a-e63a-47fd057d12e4"
      },
      "execution_count": 6,
      "outputs": [
        {
          "output_type": "stream",
          "name": "stdout",
          "text": [
            "Digite um número qualquer: 10\n",
            "[0]\n",
            "1\n",
            "[2]\n",
            "9\n",
            "[4]\n",
            "25\n",
            "[6]\n",
            "49\n",
            "[8]\n",
            "81\n"
          ]
        }
      ]
    },
    {
      "cell_type": "code",
      "source": [
        "x = input(\"Digite uma palavra qualquer: \")\n",
        "for ind, letra in enumerate(x):\n",
        "  if letra in 'aAàáâ' : print(ind, letra)\n",
        "  elif letra in 'eEéê' : print(ind, letra)\n",
        "  elif letra in 'iíìI' : print(ind , letra)\n",
        "  elif letra in 'oOôõ' : print(ind , letra)\n",
        "  elif letra in 'uU' : print(ind , letra)"
      ],
      "metadata": {
        "colab": {
          "base_uri": "https://localhost:8080/"
        },
        "id": "81omiPENGxN-",
        "outputId": "55e0c3ac-2709-4d12-aa0f-43bdcae69b01"
      },
      "execution_count": 8,
      "outputs": [
        {
          "output_type": "stream",
          "name": "stdout",
          "text": [
            "Digite uma palavra qualquer: Eduardo Camelo\n",
            "0 E\n",
            "2 u\n",
            "3 a\n",
            "6 o\n",
            "9 a\n",
            "11 e\n",
            "13 o\n"
          ]
        }
      ]
    },
    {
      "cell_type": "code",
      "source": [
        "for nome in ['Reginaldo', 'Gisele Pintcher', 'Scoob', 'Mariene', 'Zezinho', 'Cibele', 'Suely']:\n",
        "  convite=('Oi, ' + nome + '! Por favor, venha para o sábado pet em minha casa!')\n",
        "  print(convite)"
      ],
      "metadata": {
        "colab": {
          "base_uri": "https://localhost:8080/"
        },
        "id": "YHOInO10IE1m",
        "outputId": "e257e178-b33a-4e1d-f295-e79c3ea1b720"
      },
      "execution_count": 9,
      "outputs": [
        {
          "output_type": "stream",
          "name": "stdout",
          "text": [
            "Oi, Reginaldo! Por favor, venha para o sábado pet em minha casa!\n",
            "Oi, Gisele Pintcher! Por favor, venha para o sábado pet em minha casa!\n",
            "Oi, Scoob! Por favor, venha para o sábado pet em minha casa!\n",
            "Oi, Mariene! Por favor, venha para o sábado pet em minha casa!\n",
            "Oi, Zezinho! Por favor, venha para o sábado pet em minha casa!\n",
            "Oi, Cibele! Por favor, venha para o sábado pet em minha casa!\n",
            "Oi, Suely! Por favor, venha para o sábado pet em minha casa!\n"
          ]
        }
      ]
    },
    {
      "cell_type": "code",
      "source": [
        "x = ['abacaxi','chuchu', 'mamão','morango','laranja']\n",
        "if 'morango' in x:\n",
        "  print('Sim, o morango está nesta lista.')\n",
        "else:\n",
        "  print('Não tem morango na lista')"
      ],
      "metadata": {
        "colab": {
          "base_uri": "https://localhost:8080/"
        },
        "id": "vANjnTUkIKqu",
        "outputId": "38730062-3c43-4cb1-99c0-229a800d4fdb"
      },
      "execution_count": 10,
      "outputs": [
        {
          "output_type": "stream",
          "name": "stdout",
          "text": [
            "Sim, o morango está nesta lista.\n"
          ]
        }
      ]
    },
    {
      "cell_type": "code",
      "source": [
        "x = 100\n",
        "while x <= 150:\n",
        "  if (x % 2) == 0:\n",
        "    print(x, 'é par')\n",
        "  x += 1"
      ],
      "metadata": {
        "colab": {
          "base_uri": "https://localhost:8080/"
        },
        "id": "z3uzMzYkIyIH",
        "outputId": "d2a0e64a-25d0-4eea-e748-d1d3a8896969"
      },
      "execution_count": 12,
      "outputs": [
        {
          "output_type": "stream",
          "name": "stdout",
          "text": [
            "100 é par\n",
            "102 é par\n",
            "104 é par\n",
            "106 é par\n",
            "108 é par\n",
            "110 é par\n",
            "112 é par\n",
            "114 é par\n",
            "116 é par\n",
            "118 é par\n",
            "120 é par\n",
            "122 é par\n",
            "124 é par\n",
            "126 é par\n",
            "128 é par\n",
            "130 é par\n",
            "132 é par\n",
            "134 é par\n",
            "136 é par\n",
            "138 é par\n",
            "140 é par\n",
            "142 é par\n",
            "144 é par\n",
            "146 é par\n",
            "148 é par\n",
            "150 é par\n"
          ]
        }
      ]
    },
    {
      "cell_type": "code",
      "source": [
        "temperatura = 40\n",
        "while temperatura > 25:\n",
        "  print(temperatura,'°c')\n",
        "  temperatura = temperatura - 1"
      ],
      "metadata": {
        "colab": {
          "base_uri": "https://localhost:8080/"
        },
        "id": "bfIIkHJ0JZoH",
        "outputId": "52f9b1d3-40e7-4e9e-8a6d-a629acbe5c4f"
      },
      "execution_count": 14,
      "outputs": [
        {
          "output_type": "stream",
          "name": "stdout",
          "text": [
            "40 °c\n",
            "39 °c\n",
            "38 °c\n",
            "37 °c\n",
            "36 °c\n",
            "35 °c\n",
            "34 °c\n",
            "33 °c\n",
            "32 °c\n",
            "31 °c\n",
            "30 °c\n",
            "29 °c\n",
            "28 °c\n",
            "27 °c\n",
            "26 °c\n"
          ]
        }
      ]
    },
    {
      "cell_type": "code",
      "source": [
        "contador = 0\n",
        "while contador < 100:\n",
        "  print(contador)\n",
        "  contador += 1"
      ],
      "metadata": {
        "colab": {
          "base_uri": "https://localhost:8080/"
        },
        "id": "3frNhM6bKIrV",
        "outputId": "a0014e3f-145d-4698-937c-eb0edb360c0b"
      },
      "execution_count": 15,
      "outputs": [
        {
          "output_type": "stream",
          "name": "stdout",
          "text": [
            "0\n",
            "1\n",
            "2\n",
            "3\n",
            "4\n",
            "5\n",
            "6\n",
            "7\n",
            "8\n",
            "9\n",
            "10\n",
            "11\n",
            "12\n",
            "13\n",
            "14\n",
            "15\n",
            "16\n",
            "17\n",
            "18\n",
            "19\n",
            "20\n",
            "21\n",
            "22\n",
            "23\n",
            "24\n",
            "25\n",
            "26\n",
            "27\n",
            "28\n",
            "29\n",
            "30\n",
            "31\n",
            "32\n",
            "33\n",
            "34\n",
            "35\n",
            "36\n",
            "37\n",
            "38\n",
            "39\n",
            "40\n",
            "41\n",
            "42\n",
            "43\n",
            "44\n",
            "45\n",
            "46\n",
            "47\n",
            "48\n",
            "49\n",
            "50\n",
            "51\n",
            "52\n",
            "53\n",
            "54\n",
            "55\n",
            "56\n",
            "57\n",
            "58\n",
            "59\n",
            "60\n",
            "61\n",
            "62\n",
            "63\n",
            "64\n",
            "65\n",
            "66\n",
            "67\n",
            "68\n",
            "69\n",
            "70\n",
            "71\n",
            "72\n",
            "73\n",
            "74\n",
            "75\n",
            "76\n",
            "77\n",
            "78\n",
            "79\n",
            "80\n",
            "81\n",
            "82\n",
            "83\n",
            "84\n",
            "85\n",
            "86\n",
            "87\n",
            "88\n",
            "89\n",
            "90\n",
            "91\n",
            "92\n",
            "93\n",
            "94\n",
            "95\n",
            "96\n",
            "97\n",
            "98\n",
            "99\n"
          ]
        }
      ]
    },
    {
      "cell_type": "code",
      "source": [
        "x = []\n",
        "y = 4\n",
        "while y <= 20:\n",
        "  if (y % 2) == 0:\n",
        "    x.append(y)\n",
        "    print(x)\n",
        "  y += 1"
      ],
      "metadata": {
        "colab": {
          "base_uri": "https://localhost:8080/"
        },
        "id": "SKNYIOp8KXKm",
        "outputId": "c3f95d9c-fe54-416c-bca0-1eea139c47da"
      },
      "execution_count": 29,
      "outputs": [
        {
          "output_type": "stream",
          "name": "stdout",
          "text": [
            "[4]\n",
            "[4, 6]\n",
            "[4, 6, 8]\n",
            "[4, 6, 8, 10]\n",
            "[4, 6, 8, 10, 12]\n",
            "[4, 6, 8, 10, 12, 14]\n",
            "[4, 6, 8, 10, 12, 14, 16]\n",
            "[4, 6, 8, 10, 12, 14, 16, 18]\n",
            "[4, 6, 8, 10, 12, 14, 16, 18, 20]\n"
          ]
        }
      ]
    },
    {
      "cell_type": "code",
      "source": [
        "temperatura = float(input('Qual a temperatura?'))\n",
        "if temperatura > 30:\n",
        "  print('Vista roupas leves.')\n",
        "else: \n",
        "  print('Busque seus casacos')"
      ],
      "metadata": {
        "colab": {
          "base_uri": "https://localhost:8080/"
        },
        "id": "6bELaFabMH5B",
        "outputId": "7b95a628-ca97-48b4-8b6b-2ffa60c71878"
      },
      "execution_count": 30,
      "outputs": [
        {
          "output_type": "stream",
          "name": "stdout",
          "text": [
            "Qual a temperatura?19\n",
            "Busque seus casacos\n"
          ]
        }
      ]
    },
    {
      "cell_type": "code",
      "source": [
        "s = \"Educação não transforma o mundo. Educação muda pessoas. Pessoas transformam o mundo.\"\n",
        "print(s.count('s'))"
      ],
      "metadata": {
        "colab": {
          "base_uri": "https://localhost:8080/"
        },
        "id": "jSlcOcKwMMh5",
        "outputId": "3d5a796e-58b0-4881-f65d-a262249ad15a"
      },
      "execution_count": 31,
      "outputs": [
        {
          "output_type": "stream",
          "name": "stdout",
          "text": [
            "8\n"
          ]
        }
      ]
    },
    {
      "cell_type": "code",
      "source": [
        "x = 0\n",
        "s = \"Educação não transforma o mundo. Educação muda pessoas. Pessoas transformam o mundo.\"\n",
        "for letra in s:\n",
        "  if letra in 'sS': x += 1\n",
        "print(x)"
      ],
      "metadata": {
        "colab": {
          "base_uri": "https://localhost:8080/"
        },
        "id": "KDhTa4vNMM8D",
        "outputId": "4e6e82c2-7d49-42bd-ea24-6c584a332a42"
      },
      "execution_count": 32,
      "outputs": [
        {
          "output_type": "stream",
          "name": "stdout",
          "text": [
            "8\n"
          ]
        }
      ]
    },
    {
      "cell_type": "code",
      "source": [
        "lista = ['a', 'b', 'c', 'd', 'e', 'f', 'g', 'h']\n",
        "print(lista[5:])"
      ],
      "metadata": {
        "colab": {
          "base_uri": "https://localhost:8080/"
        },
        "id": "ggoxoQPXMUTl",
        "outputId": "4c67c433-45fa-433d-8c4d-156161e49295"
      },
      "execution_count": 34,
      "outputs": [
        {
          "output_type": "stream",
          "name": "stdout",
          "text": [
            "['f', 'g', 'h']\n"
          ]
        }
      ]
    },
    {
      "cell_type": "code",
      "source": [
        "dict1 = {'a':1,'b':2} \n",
        "dict2 = {'c':4,'d':5}\n",
        "dict3 = {'a':4, 'b':5}\n",
        "print(dict3)"
      ],
      "metadata": {
        "colab": {
          "base_uri": "https://localhost:8080/"
        },
        "id": "wZd-ODOkM5Og",
        "outputId": "3cdc1bf5-175a-4efa-f81b-9ea99064b9a6"
      },
      "execution_count": 43,
      "outputs": [
        {
          "output_type": "stream",
          "name": "stdout",
          "text": [
            "{'a': 4, 'b': 5}\n"
          ]
        }
      ]
    },
    {
      "cell_type": "code",
      "source": [
        "for um_valor in range(10):\n",
        " print(um_valor)"
      ],
      "metadata": {
        "colab": {
          "base_uri": "https://localhost:8080/"
        },
        "id": "CfU6TnLpNE-o",
        "outputId": "1bfb0271-b487-41f6-ef60-e94e37882cd5"
      },
      "execution_count": 44,
      "outputs": [
        {
          "output_type": "stream",
          "name": "stdout",
          "text": [
            "0\n",
            "1\n",
            "2\n",
            "3\n",
            "4\n",
            "5\n",
            "6\n",
            "7\n",
            "8\n",
            "9\n"
          ]
        }
      ]
    },
    {
      "cell_type": "code",
      "source": [
        "for um_char in \"Venha para a festa\":\n",
        " print(um_char)"
      ],
      "metadata": {
        "colab": {
          "base_uri": "https://localhost:8080/"
        },
        "id": "2aCg_hY0NGzj",
        "outputId": "61148895-a15c-4829-e965-3c971e671df3"
      },
      "execution_count": 45,
      "outputs": [
        {
          "output_type": "stream",
          "name": "stdout",
          "text": [
            "V\n",
            "e\n",
            "n\n",
            "h\n",
            "a\n",
            " \n",
            "p\n",
            "a\n",
            "r\n",
            "a\n",
            " \n",
            "a\n",
            " \n",
            "f\n",
            "e\n",
            "s\n",
            "t\n",
            "a\n"
          ]
        }
      ]
    }
  ]
}